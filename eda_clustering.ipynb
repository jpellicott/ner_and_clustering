{
  "nbformat": 4,
  "nbformat_minor": 0,
  "metadata": {
    "colab": {
      "name": "eda_clustering.ipynb",
      "provenance": [],
      "machine_shape": "hm",
      "background_execution": "on",
      "authorship_tag": "ABX9TyNLqzfIagd8ZQge9ncg9lpj",
      "include_colab_link": true
    },
    "kernelspec": {
      "name": "python3",
      "display_name": "Python 3"
    },
    "language_info": {
      "name": "python"
    },
    "accelerator": "GPU",
    "gpuClass": "standard",
    "widgets": {
      "application/vnd.jupyter.widget-state+json": {
        "44f46dbf95c64f6aa471e394b1488ff7": {
          "model_module": "@jupyter-widgets/controls",
          "model_name": "HBoxModel",
          "model_module_version": "1.5.0",
          "state": {
            "_dom_classes": [],
            "_model_module": "@jupyter-widgets/controls",
            "_model_module_version": "1.5.0",
            "_model_name": "HBoxModel",
            "_view_count": null,
            "_view_module": "@jupyter-widgets/controls",
            "_view_module_version": "1.5.0",
            "_view_name": "HBoxView",
            "box_style": "",
            "children": [
              "IPY_MODEL_e58817c4d78f49d68131f1ff9884a3f4",
              "IPY_MODEL_53117bbf9f51489890282b94694258e1",
              "IPY_MODEL_b382efd9ecf249018af5a6af5e52ec7d"
            ],
            "layout": "IPY_MODEL_f036a3896b2348f3b84bef9dbb6857fe"
          }
        },
        "e58817c4d78f49d68131f1ff9884a3f4": {
          "model_module": "@jupyter-widgets/controls",
          "model_name": "HTMLModel",
          "model_module_version": "1.5.0",
          "state": {
            "_dom_classes": [],
            "_model_module": "@jupyter-widgets/controls",
            "_model_module_version": "1.5.0",
            "_model_name": "HTMLModel",
            "_view_count": null,
            "_view_module": "@jupyter-widgets/controls",
            "_view_module_version": "1.5.0",
            "_view_name": "HTMLView",
            "description": "",
            "description_tooltip": null,
            "layout": "IPY_MODEL_fbfa57f21c8a43c6862217690817a562",
            "placeholder": "​",
            "style": "IPY_MODEL_150b5a1e7fcf4d1d8ea6f40362914ad6",
            "value": "Batches: 100%"
          }
        },
        "53117bbf9f51489890282b94694258e1": {
          "model_module": "@jupyter-widgets/controls",
          "model_name": "FloatProgressModel",
          "model_module_version": "1.5.0",
          "state": {
            "_dom_classes": [],
            "_model_module": "@jupyter-widgets/controls",
            "_model_module_version": "1.5.0",
            "_model_name": "FloatProgressModel",
            "_view_count": null,
            "_view_module": "@jupyter-widgets/controls",
            "_view_module_version": "1.5.0",
            "_view_name": "ProgressView",
            "bar_style": "success",
            "description": "",
            "description_tooltip": null,
            "layout": "IPY_MODEL_a329cf7707de47cb97e374a9fd1aebd6",
            "max": 313,
            "min": 0,
            "orientation": "horizontal",
            "style": "IPY_MODEL_c74b6bc773b940599cc9d687aa1bc03a",
            "value": 313
          }
        },
        "b382efd9ecf249018af5a6af5e52ec7d": {
          "model_module": "@jupyter-widgets/controls",
          "model_name": "HTMLModel",
          "model_module_version": "1.5.0",
          "state": {
            "_dom_classes": [],
            "_model_module": "@jupyter-widgets/controls",
            "_model_module_version": "1.5.0",
            "_model_name": "HTMLModel",
            "_view_count": null,
            "_view_module": "@jupyter-widgets/controls",
            "_view_module_version": "1.5.0",
            "_view_name": "HTMLView",
            "description": "",
            "description_tooltip": null,
            "layout": "IPY_MODEL_4bfdf10ef8ee4e7dbeccafac94b0c6c1",
            "placeholder": "​",
            "style": "IPY_MODEL_6919890aff0040d6b0076c03c4f4ea53",
            "value": " 313/313 [00:30&lt;00:00, 41.62it/s]"
          }
        },
        "f036a3896b2348f3b84bef9dbb6857fe": {
          "model_module": "@jupyter-widgets/base",
          "model_name": "LayoutModel",
          "model_module_version": "1.2.0",
          "state": {
            "_model_module": "@jupyter-widgets/base",
            "_model_module_version": "1.2.0",
            "_model_name": "LayoutModel",
            "_view_count": null,
            "_view_module": "@jupyter-widgets/base",
            "_view_module_version": "1.2.0",
            "_view_name": "LayoutView",
            "align_content": null,
            "align_items": null,
            "align_self": null,
            "border": null,
            "bottom": null,
            "display": null,
            "flex": null,
            "flex_flow": null,
            "grid_area": null,
            "grid_auto_columns": null,
            "grid_auto_flow": null,
            "grid_auto_rows": null,
            "grid_column": null,
            "grid_gap": null,
            "grid_row": null,
            "grid_template_areas": null,
            "grid_template_columns": null,
            "grid_template_rows": null,
            "height": null,
            "justify_content": null,
            "justify_items": null,
            "left": null,
            "margin": null,
            "max_height": null,
            "max_width": null,
            "min_height": null,
            "min_width": null,
            "object_fit": null,
            "object_position": null,
            "order": null,
            "overflow": null,
            "overflow_x": null,
            "overflow_y": null,
            "padding": null,
            "right": null,
            "top": null,
            "visibility": null,
            "width": null
          }
        },
        "fbfa57f21c8a43c6862217690817a562": {
          "model_module": "@jupyter-widgets/base",
          "model_name": "LayoutModel",
          "model_module_version": "1.2.0",
          "state": {
            "_model_module": "@jupyter-widgets/base",
            "_model_module_version": "1.2.0",
            "_model_name": "LayoutModel",
            "_view_count": null,
            "_view_module": "@jupyter-widgets/base",
            "_view_module_version": "1.2.0",
            "_view_name": "LayoutView",
            "align_content": null,
            "align_items": null,
            "align_self": null,
            "border": null,
            "bottom": null,
            "display": null,
            "flex": null,
            "flex_flow": null,
            "grid_area": null,
            "grid_auto_columns": null,
            "grid_auto_flow": null,
            "grid_auto_rows": null,
            "grid_column": null,
            "grid_gap": null,
            "grid_row": null,
            "grid_template_areas": null,
            "grid_template_columns": null,
            "grid_template_rows": null,
            "height": null,
            "justify_content": null,
            "justify_items": null,
            "left": null,
            "margin": null,
            "max_height": null,
            "max_width": null,
            "min_height": null,
            "min_width": null,
            "object_fit": null,
            "object_position": null,
            "order": null,
            "overflow": null,
            "overflow_x": null,
            "overflow_y": null,
            "padding": null,
            "right": null,
            "top": null,
            "visibility": null,
            "width": null
          }
        },
        "150b5a1e7fcf4d1d8ea6f40362914ad6": {
          "model_module": "@jupyter-widgets/controls",
          "model_name": "DescriptionStyleModel",
          "model_module_version": "1.5.0",
          "state": {
            "_model_module": "@jupyter-widgets/controls",
            "_model_module_version": "1.5.0",
            "_model_name": "DescriptionStyleModel",
            "_view_count": null,
            "_view_module": "@jupyter-widgets/base",
            "_view_module_version": "1.2.0",
            "_view_name": "StyleView",
            "description_width": ""
          }
        },
        "a329cf7707de47cb97e374a9fd1aebd6": {
          "model_module": "@jupyter-widgets/base",
          "model_name": "LayoutModel",
          "model_module_version": "1.2.0",
          "state": {
            "_model_module": "@jupyter-widgets/base",
            "_model_module_version": "1.2.0",
            "_model_name": "LayoutModel",
            "_view_count": null,
            "_view_module": "@jupyter-widgets/base",
            "_view_module_version": "1.2.0",
            "_view_name": "LayoutView",
            "align_content": null,
            "align_items": null,
            "align_self": null,
            "border": null,
            "bottom": null,
            "display": null,
            "flex": null,
            "flex_flow": null,
            "grid_area": null,
            "grid_auto_columns": null,
            "grid_auto_flow": null,
            "grid_auto_rows": null,
            "grid_column": null,
            "grid_gap": null,
            "grid_row": null,
            "grid_template_areas": null,
            "grid_template_columns": null,
            "grid_template_rows": null,
            "height": null,
            "justify_content": null,
            "justify_items": null,
            "left": null,
            "margin": null,
            "max_height": null,
            "max_width": null,
            "min_height": null,
            "min_width": null,
            "object_fit": null,
            "object_position": null,
            "order": null,
            "overflow": null,
            "overflow_x": null,
            "overflow_y": null,
            "padding": null,
            "right": null,
            "top": null,
            "visibility": null,
            "width": null
          }
        },
        "c74b6bc773b940599cc9d687aa1bc03a": {
          "model_module": "@jupyter-widgets/controls",
          "model_name": "ProgressStyleModel",
          "model_module_version": "1.5.0",
          "state": {
            "_model_module": "@jupyter-widgets/controls",
            "_model_module_version": "1.5.0",
            "_model_name": "ProgressStyleModel",
            "_view_count": null,
            "_view_module": "@jupyter-widgets/base",
            "_view_module_version": "1.2.0",
            "_view_name": "StyleView",
            "bar_color": null,
            "description_width": ""
          }
        },
        "4bfdf10ef8ee4e7dbeccafac94b0c6c1": {
          "model_module": "@jupyter-widgets/base",
          "model_name": "LayoutModel",
          "model_module_version": "1.2.0",
          "state": {
            "_model_module": "@jupyter-widgets/base",
            "_model_module_version": "1.2.0",
            "_model_name": "LayoutModel",
            "_view_count": null,
            "_view_module": "@jupyter-widgets/base",
            "_view_module_version": "1.2.0",
            "_view_name": "LayoutView",
            "align_content": null,
            "align_items": null,
            "align_self": null,
            "border": null,
            "bottom": null,
            "display": null,
            "flex": null,
            "flex_flow": null,
            "grid_area": null,
            "grid_auto_columns": null,
            "grid_auto_flow": null,
            "grid_auto_rows": null,
            "grid_column": null,
            "grid_gap": null,
            "grid_row": null,
            "grid_template_areas": null,
            "grid_template_columns": null,
            "grid_template_rows": null,
            "height": null,
            "justify_content": null,
            "justify_items": null,
            "left": null,
            "margin": null,
            "max_height": null,
            "max_width": null,
            "min_height": null,
            "min_width": null,
            "object_fit": null,
            "object_position": null,
            "order": null,
            "overflow": null,
            "overflow_x": null,
            "overflow_y": null,
            "padding": null,
            "right": null,
            "top": null,
            "visibility": null,
            "width": null
          }
        },
        "6919890aff0040d6b0076c03c4f4ea53": {
          "model_module": "@jupyter-widgets/controls",
          "model_name": "DescriptionStyleModel",
          "model_module_version": "1.5.0",
          "state": {
            "_model_module": "@jupyter-widgets/controls",
            "_model_module_version": "1.5.0",
            "_model_name": "DescriptionStyleModel",
            "_view_count": null,
            "_view_module": "@jupyter-widgets/base",
            "_view_module_version": "1.2.0",
            "_view_name": "StyleView",
            "description_width": ""
          }
        }
      }
    }
  },
  "cells": [
    {
      "cell_type": "markdown",
      "metadata": {
        "id": "view-in-github",
        "colab_type": "text"
      },
      "source": [
        "<a href=\"https://colab.research.google.com/github/jpellicott/ner_and_clustering/blob/main/eda_clustering.ipynb\" target=\"_parent\"><img src=\"https://colab.research.google.com/assets/colab-badge.svg\" alt=\"Open In Colab\"/></a>"
      ]
    },
    {
      "cell_type": "code",
      "source": [
        "from google.colab import drive\n",
        "drive.mount('/content/drive')"
      ],
      "metadata": {
        "colab": {
          "base_uri": "https://localhost:8080/"
        },
        "id": "QavKxxoxcl3e",
        "outputId": "07eafd2c-07bd-46cb-8e4d-ebcd3d10f6c8"
      },
      "execution_count": null,
      "outputs": [
        {
          "output_type": "stream",
          "name": "stdout",
          "text": [
            "Mounted at /content/drive\n"
          ]
        }
      ]
    },
    {
      "cell_type": "code",
      "execution_count": null,
      "metadata": {
        "colab": {
          "base_uri": "https://localhost:8080/"
        },
        "id": "cfiAH__fWdpJ",
        "outputId": "a06a5744-9acc-4e61-c4f7-399dd45bc42c"
      },
      "outputs": [
        {
          "output_type": "stream",
          "name": "stdout",
          "text": [
            "Looking in indexes: https://pypi.org/simple, https://us-python.pkg.dev/colab-wheels/public/simple/\n",
            "Collecting bertopic\n",
            "  Downloading bertopic-0.11.0-py2.py3-none-any.whl (76 kB)\n",
            "\u001b[K     |████████████████████████████████| 76 kB 4.5 MB/s \n",
            "\u001b[?25hRequirement already satisfied: plotly>=4.7.0 in /usr/local/lib/python3.7/dist-packages (from bertopic) (5.5.0)\n",
            "Requirement already satisfied: scikit-learn>=0.22.2.post1 in /usr/local/lib/python3.7/dist-packages (from bertopic) (1.0.2)\n",
            "Requirement already satisfied: pyyaml<6.0 in /usr/local/lib/python3.7/dist-packages (from bertopic) (3.13)\n",
            "Collecting sentence-transformers>=0.4.1\n",
            "  Downloading sentence-transformers-2.2.2.tar.gz (85 kB)\n",
            "\u001b[K     |████████████████████████████████| 85 kB 5.6 MB/s \n",
            "\u001b[?25hRequirement already satisfied: tqdm>=4.41.1 in /usr/local/lib/python3.7/dist-packages (from bertopic) (4.64.0)\n",
            "Collecting umap-learn>=0.5.0\n",
            "  Downloading umap-learn-0.5.3.tar.gz (88 kB)\n",
            "\u001b[K     |████████████████████████████████| 88 kB 7.8 MB/s \n",
            "\u001b[?25hCollecting hdbscan>=0.8.28\n",
            "  Downloading hdbscan-0.8.28.tar.gz (5.2 MB)\n",
            "\u001b[K     |████████████████████████████████| 5.2 MB 90.6 MB/s \n",
            "\u001b[?25h  Installing build dependencies ... \u001b[?25l\u001b[?25hdone\n",
            "  Getting requirements to build wheel ... \u001b[?25l\u001b[?25hdone\n",
            "    Preparing wheel metadata ... \u001b[?25l\u001b[?25hdone\n",
            "Requirement already satisfied: numpy>=1.20.0 in /usr/local/lib/python3.7/dist-packages (from bertopic) (1.21.6)\n",
            "Requirement already satisfied: pandas>=1.1.5 in /usr/local/lib/python3.7/dist-packages (from bertopic) (1.3.5)\n",
            "Requirement already satisfied: cython>=0.27 in /usr/local/lib/python3.7/dist-packages (from hdbscan>=0.8.28->bertopic) (0.29.32)\n",
            "Requirement already satisfied: scipy>=1.0 in /usr/local/lib/python3.7/dist-packages (from hdbscan>=0.8.28->bertopic) (1.7.3)\n",
            "Requirement already satisfied: joblib>=1.0 in /usr/local/lib/python3.7/dist-packages (from hdbscan>=0.8.28->bertopic) (1.1.0)\n",
            "Requirement already satisfied: pytz>=2017.3 in /usr/local/lib/python3.7/dist-packages (from pandas>=1.1.5->bertopic) (2022.1)\n",
            "Requirement already satisfied: python-dateutil>=2.7.3 in /usr/local/lib/python3.7/dist-packages (from pandas>=1.1.5->bertopic) (2.8.2)\n",
            "Requirement already satisfied: tenacity>=6.2.0 in /usr/local/lib/python3.7/dist-packages (from plotly>=4.7.0->bertopic) (8.0.1)\n",
            "Requirement already satisfied: six in /usr/local/lib/python3.7/dist-packages (from plotly>=4.7.0->bertopic) (1.15.0)\n",
            "Requirement already satisfied: threadpoolctl>=2.0.0 in /usr/local/lib/python3.7/dist-packages (from scikit-learn>=0.22.2.post1->bertopic) (3.1.0)\n",
            "Collecting transformers<5.0.0,>=4.6.0\n",
            "  Downloading transformers-4.21.1-py3-none-any.whl (4.7 MB)\n",
            "\u001b[K     |████████████████████████████████| 4.7 MB 69.8 MB/s \n",
            "\u001b[?25hRequirement already satisfied: torch>=1.6.0 in /usr/local/lib/python3.7/dist-packages (from sentence-transformers>=0.4.1->bertopic) (1.12.0+cu113)\n",
            "Requirement already satisfied: torchvision in /usr/local/lib/python3.7/dist-packages (from sentence-transformers>=0.4.1->bertopic) (0.13.0+cu113)\n",
            "Requirement already satisfied: nltk in /usr/local/lib/python3.7/dist-packages (from sentence-transformers>=0.4.1->bertopic) (3.7)\n",
            "Collecting sentencepiece\n",
            "  Downloading sentencepiece-0.1.96-cp37-cp37m-manylinux_2_17_x86_64.manylinux2014_x86_64.whl (1.2 MB)\n",
            "\u001b[K     |████████████████████████████████| 1.2 MB 73.4 MB/s \n",
            "\u001b[?25hCollecting huggingface-hub>=0.4.0\n",
            "  Downloading huggingface_hub-0.8.1-py3-none-any.whl (101 kB)\n",
            "\u001b[K     |████████████████████████████████| 101 kB 12.5 MB/s \n",
            "\u001b[?25hRequirement already satisfied: packaging>=20.9 in /usr/local/lib/python3.7/dist-packages (from huggingface-hub>=0.4.0->sentence-transformers>=0.4.1->bertopic) (21.3)\n",
            "Requirement already satisfied: filelock in /usr/local/lib/python3.7/dist-packages (from huggingface-hub>=0.4.0->sentence-transformers>=0.4.1->bertopic) (3.7.1)\n",
            "Collecting pyyaml<6.0\n",
            "  Downloading PyYAML-5.4.1-cp37-cp37m-manylinux1_x86_64.whl (636 kB)\n",
            "\u001b[K     |████████████████████████████████| 636 kB 75.9 MB/s \n",
            "\u001b[?25hRequirement already satisfied: typing-extensions>=3.7.4.3 in /usr/local/lib/python3.7/dist-packages (from huggingface-hub>=0.4.0->sentence-transformers>=0.4.1->bertopic) (4.1.1)\n",
            "Requirement already satisfied: importlib-metadata in /usr/local/lib/python3.7/dist-packages (from huggingface-hub>=0.4.0->sentence-transformers>=0.4.1->bertopic) (4.12.0)\n",
            "Requirement already satisfied: requests in /usr/local/lib/python3.7/dist-packages (from huggingface-hub>=0.4.0->sentence-transformers>=0.4.1->bertopic) (2.23.0)\n",
            "Requirement already satisfied: pyparsing!=3.0.5,>=2.0.2 in /usr/local/lib/python3.7/dist-packages (from packaging>=20.9->huggingface-hub>=0.4.0->sentence-transformers>=0.4.1->bertopic) (3.0.9)\n",
            "Collecting tokenizers!=0.11.3,<0.13,>=0.11.1\n",
            "  Downloading tokenizers-0.12.1-cp37-cp37m-manylinux_2_12_x86_64.manylinux2010_x86_64.whl (6.6 MB)\n",
            "\u001b[K     |████████████████████████████████| 6.6 MB 84.6 MB/s \n",
            "\u001b[?25hRequirement already satisfied: regex!=2019.12.17 in /usr/local/lib/python3.7/dist-packages (from transformers<5.0.0,>=4.6.0->sentence-transformers>=0.4.1->bertopic) (2022.6.2)\n",
            "Requirement already satisfied: numba>=0.49 in /usr/local/lib/python3.7/dist-packages (from umap-learn>=0.5.0->bertopic) (0.56.0)\n",
            "Collecting pynndescent>=0.5\n",
            "  Downloading pynndescent-0.5.7.tar.gz (1.1 MB)\n",
            "\u001b[K     |████████████████████████████████| 1.1 MB 75.5 MB/s \n",
            "\u001b[?25hRequirement already satisfied: llvmlite<0.40,>=0.39.0dev0 in /usr/local/lib/python3.7/dist-packages (from numba>=0.49->umap-learn>=0.5.0->bertopic) (0.39.0)\n",
            "Requirement already satisfied: setuptools in /usr/local/lib/python3.7/dist-packages (from numba>=0.49->umap-learn>=0.5.0->bertopic) (57.4.0)\n",
            "Requirement already satisfied: zipp>=0.5 in /usr/local/lib/python3.7/dist-packages (from importlib-metadata->huggingface-hub>=0.4.0->sentence-transformers>=0.4.1->bertopic) (3.8.1)\n",
            "Requirement already satisfied: click in /usr/local/lib/python3.7/dist-packages (from nltk->sentence-transformers>=0.4.1->bertopic) (7.1.2)\n",
            "Requirement already satisfied: idna<3,>=2.5 in /usr/local/lib/python3.7/dist-packages (from requests->huggingface-hub>=0.4.0->sentence-transformers>=0.4.1->bertopic) (2.10)\n",
            "Requirement already satisfied: urllib3!=1.25.0,!=1.25.1,<1.26,>=1.21.1 in /usr/local/lib/python3.7/dist-packages (from requests->huggingface-hub>=0.4.0->sentence-transformers>=0.4.1->bertopic) (1.24.3)\n",
            "Requirement already satisfied: certifi>=2017.4.17 in /usr/local/lib/python3.7/dist-packages (from requests->huggingface-hub>=0.4.0->sentence-transformers>=0.4.1->bertopic) (2022.6.15)\n",
            "Requirement already satisfied: chardet<4,>=3.0.2 in /usr/local/lib/python3.7/dist-packages (from requests->huggingface-hub>=0.4.0->sentence-transformers>=0.4.1->bertopic) (3.0.4)\n",
            "Requirement already satisfied: pillow!=8.3.*,>=5.3.0 in /usr/local/lib/python3.7/dist-packages (from torchvision->sentence-transformers>=0.4.1->bertopic) (7.1.2)\n",
            "Building wheels for collected packages: hdbscan, sentence-transformers, umap-learn, pynndescent\n",
            "  Building wheel for hdbscan (PEP 517) ... \u001b[?25l\u001b[?25hdone\n",
            "  Created wheel for hdbscan: filename=hdbscan-0.8.28-cp37-cp37m-linux_x86_64.whl size=2340253 sha256=b749318f1812ff596748d3aadfdc3b9cea06d500a9cf9e72ccaf79973c692a3d\n",
            "  Stored in directory: /root/.cache/pip/wheels/6e/7a/5e/259ccc841c085fc41b99ef4a71e896b62f5161f2bc8a14c97a\n",
            "  Building wheel for sentence-transformers (setup.py) ... \u001b[?25l\u001b[?25hdone\n",
            "  Created wheel for sentence-transformers: filename=sentence_transformers-2.2.2-py3-none-any.whl size=125938 sha256=9cf9b10f4bd6d7fd8bf159f1f2bdffd653af823df04dd0d4284ad58c909f2843\n",
            "  Stored in directory: /root/.cache/pip/wheels/bf/06/fb/d59c1e5bd1dac7f6cf61ec0036cc3a10ab8fecaa6b2c3d3ee9\n",
            "  Building wheel for umap-learn (setup.py) ... \u001b[?25l\u001b[?25hdone\n",
            "  Created wheel for umap-learn: filename=umap_learn-0.5.3-py3-none-any.whl size=82829 sha256=0e5a8950ff4c9e52e78c93860058de8a40de25e5c8e8661974c9482b56e3df1b\n",
            "  Stored in directory: /root/.cache/pip/wheels/b3/52/a5/1fd9e3e76a7ab34f134c07469cd6f16e27ef3a37aeff1fe821\n",
            "  Building wheel for pynndescent (setup.py) ... \u001b[?25l\u001b[?25hdone\n",
            "  Created wheel for pynndescent: filename=pynndescent-0.5.7-py3-none-any.whl size=54286 sha256=a42b0ae03ca12beed66ff80a0f852686dfbaa7e4d33185d88f5ece44425e2010\n",
            "  Stored in directory: /root/.cache/pip/wheels/7f/2a/f8/7bd5dcec71bd5c669f6f574db3113513696b98f3f9b51f496c\n",
            "Successfully built hdbscan sentence-transformers umap-learn pynndescent\n",
            "Installing collected packages: pyyaml, tokenizers, huggingface-hub, transformers, sentencepiece, pynndescent, umap-learn, sentence-transformers, hdbscan, bertopic\n",
            "  Attempting uninstall: pyyaml\n",
            "    Found existing installation: PyYAML 3.13\n",
            "    Uninstalling PyYAML-3.13:\n",
            "      Successfully uninstalled PyYAML-3.13\n",
            "Successfully installed bertopic-0.11.0 hdbscan-0.8.28 huggingface-hub-0.8.1 pynndescent-0.5.7 pyyaml-5.4.1 sentence-transformers-2.2.2 sentencepiece-0.1.96 tokenizers-0.12.1 transformers-4.21.1 umap-learn-0.5.3\n"
          ]
        }
      ],
      "source": [
        "!pip install bertopic"
      ]
    },
    {
      "cell_type": "code",
      "source": [
        "!pip install bertopic[visualization]"
      ],
      "metadata": {
        "colab": {
          "base_uri": "https://localhost:8080/"
        },
        "id": "1R5SwPkGWi4u",
        "outputId": "8bdd6650-b5f9-41d7-8825-a9969219990e"
      },
      "execution_count": null,
      "outputs": [
        {
          "output_type": "stream",
          "name": "stdout",
          "text": [
            "Looking in indexes: https://pypi.org/simple, https://us-python.pkg.dev/colab-wheels/public/simple/\n",
            "Requirement already satisfied: bertopic[visualization] in /usr/local/lib/python3.7/dist-packages (0.11.0)\n",
            "\u001b[33mWARNING: bertopic 0.11.0 does not provide the extra 'visualization'\u001b[0m\n",
            "Requirement already satisfied: numpy>=1.20.0 in /usr/local/lib/python3.7/dist-packages (from bertopic[visualization]) (1.21.6)\n",
            "Requirement already satisfied: tqdm>=4.41.1 in /usr/local/lib/python3.7/dist-packages (from bertopic[visualization]) (4.64.0)\n",
            "Requirement already satisfied: hdbscan>=0.8.28 in /usr/local/lib/python3.7/dist-packages (from bertopic[visualization]) (0.8.28)\n",
            "Requirement already satisfied: plotly>=4.7.0 in /usr/local/lib/python3.7/dist-packages (from bertopic[visualization]) (5.5.0)\n",
            "Requirement already satisfied: pyyaml<6.0 in /usr/local/lib/python3.7/dist-packages (from bertopic[visualization]) (5.4.1)\n",
            "Requirement already satisfied: umap-learn>=0.5.0 in /usr/local/lib/python3.7/dist-packages (from bertopic[visualization]) (0.5.3)\n",
            "Requirement already satisfied: pandas>=1.1.5 in /usr/local/lib/python3.7/dist-packages (from bertopic[visualization]) (1.3.5)\n",
            "Requirement already satisfied: scikit-learn>=0.22.2.post1 in /usr/local/lib/python3.7/dist-packages (from bertopic[visualization]) (1.0.2)\n",
            "Requirement already satisfied: sentence-transformers>=0.4.1 in /usr/local/lib/python3.7/dist-packages (from bertopic[visualization]) (2.2.2)\n",
            "Requirement already satisfied: joblib>=1.0 in /usr/local/lib/python3.7/dist-packages (from hdbscan>=0.8.28->bertopic[visualization]) (1.1.0)\n",
            "Requirement already satisfied: scipy>=1.0 in /usr/local/lib/python3.7/dist-packages (from hdbscan>=0.8.28->bertopic[visualization]) (1.7.3)\n",
            "Requirement already satisfied: cython>=0.27 in /usr/local/lib/python3.7/dist-packages (from hdbscan>=0.8.28->bertopic[visualization]) (0.29.32)\n",
            "Requirement already satisfied: pytz>=2017.3 in /usr/local/lib/python3.7/dist-packages (from pandas>=1.1.5->bertopic[visualization]) (2022.1)\n",
            "Requirement already satisfied: python-dateutil>=2.7.3 in /usr/local/lib/python3.7/dist-packages (from pandas>=1.1.5->bertopic[visualization]) (2.8.2)\n",
            "Requirement already satisfied: tenacity>=6.2.0 in /usr/local/lib/python3.7/dist-packages (from plotly>=4.7.0->bertopic[visualization]) (8.0.1)\n",
            "Requirement already satisfied: six in /usr/local/lib/python3.7/dist-packages (from plotly>=4.7.0->bertopic[visualization]) (1.15.0)\n",
            "Requirement already satisfied: threadpoolctl>=2.0.0 in /usr/local/lib/python3.7/dist-packages (from scikit-learn>=0.22.2.post1->bertopic[visualization]) (3.1.0)\n",
            "Requirement already satisfied: sentencepiece in /usr/local/lib/python3.7/dist-packages (from sentence-transformers>=0.4.1->bertopic[visualization]) (0.1.96)\n",
            "Requirement already satisfied: huggingface-hub>=0.4.0 in /usr/local/lib/python3.7/dist-packages (from sentence-transformers>=0.4.1->bertopic[visualization]) (0.8.1)\n",
            "Requirement already satisfied: nltk in /usr/local/lib/python3.7/dist-packages (from sentence-transformers>=0.4.1->bertopic[visualization]) (3.7)\n",
            "Requirement already satisfied: transformers<5.0.0,>=4.6.0 in /usr/local/lib/python3.7/dist-packages (from sentence-transformers>=0.4.1->bertopic[visualization]) (4.21.1)\n",
            "Requirement already satisfied: torch>=1.6.0 in /usr/local/lib/python3.7/dist-packages (from sentence-transformers>=0.4.1->bertopic[visualization]) (1.12.0+cu113)\n",
            "Requirement already satisfied: torchvision in /usr/local/lib/python3.7/dist-packages (from sentence-transformers>=0.4.1->bertopic[visualization]) (0.13.0+cu113)\n",
            "Requirement already satisfied: filelock in /usr/local/lib/python3.7/dist-packages (from huggingface-hub>=0.4.0->sentence-transformers>=0.4.1->bertopic[visualization]) (3.7.1)\n",
            "Requirement already satisfied: requests in /usr/local/lib/python3.7/dist-packages (from huggingface-hub>=0.4.0->sentence-transformers>=0.4.1->bertopic[visualization]) (2.23.0)\n",
            "Requirement already satisfied: typing-extensions>=3.7.4.3 in /usr/local/lib/python3.7/dist-packages (from huggingface-hub>=0.4.0->sentence-transformers>=0.4.1->bertopic[visualization]) (4.1.1)\n",
            "Requirement already satisfied: packaging>=20.9 in /usr/local/lib/python3.7/dist-packages (from huggingface-hub>=0.4.0->sentence-transformers>=0.4.1->bertopic[visualization]) (21.3)\n",
            "Requirement already satisfied: importlib-metadata in /usr/local/lib/python3.7/dist-packages (from huggingface-hub>=0.4.0->sentence-transformers>=0.4.1->bertopic[visualization]) (4.12.0)\n",
            "Requirement already satisfied: pyparsing!=3.0.5,>=2.0.2 in /usr/local/lib/python3.7/dist-packages (from packaging>=20.9->huggingface-hub>=0.4.0->sentence-transformers>=0.4.1->bertopic[visualization]) (3.0.9)\n",
            "Requirement already satisfied: regex!=2019.12.17 in /usr/local/lib/python3.7/dist-packages (from transformers<5.0.0,>=4.6.0->sentence-transformers>=0.4.1->bertopic[visualization]) (2022.6.2)\n",
            "Requirement already satisfied: tokenizers!=0.11.3,<0.13,>=0.11.1 in /usr/local/lib/python3.7/dist-packages (from transformers<5.0.0,>=4.6.0->sentence-transformers>=0.4.1->bertopic[visualization]) (0.12.1)\n",
            "Requirement already satisfied: numba>=0.49 in /usr/local/lib/python3.7/dist-packages (from umap-learn>=0.5.0->bertopic[visualization]) (0.56.0)\n",
            "Requirement already satisfied: pynndescent>=0.5 in /usr/local/lib/python3.7/dist-packages (from umap-learn>=0.5.0->bertopic[visualization]) (0.5.7)\n",
            "Requirement already satisfied: llvmlite<0.40,>=0.39.0dev0 in /usr/local/lib/python3.7/dist-packages (from numba>=0.49->umap-learn>=0.5.0->bertopic[visualization]) (0.39.0)\n",
            "Requirement already satisfied: setuptools in /usr/local/lib/python3.7/dist-packages (from numba>=0.49->umap-learn>=0.5.0->bertopic[visualization]) (57.4.0)\n",
            "Requirement already satisfied: zipp>=0.5 in /usr/local/lib/python3.7/dist-packages (from importlib-metadata->huggingface-hub>=0.4.0->sentence-transformers>=0.4.1->bertopic[visualization]) (3.8.1)\n",
            "Requirement already satisfied: click in /usr/local/lib/python3.7/dist-packages (from nltk->sentence-transformers>=0.4.1->bertopic[visualization]) (7.1.2)\n",
            "Requirement already satisfied: chardet<4,>=3.0.2 in /usr/local/lib/python3.7/dist-packages (from requests->huggingface-hub>=0.4.0->sentence-transformers>=0.4.1->bertopic[visualization]) (3.0.4)\n",
            "Requirement already satisfied: idna<3,>=2.5 in /usr/local/lib/python3.7/dist-packages (from requests->huggingface-hub>=0.4.0->sentence-transformers>=0.4.1->bertopic[visualization]) (2.10)\n",
            "Requirement already satisfied: urllib3!=1.25.0,!=1.25.1,<1.26,>=1.21.1 in /usr/local/lib/python3.7/dist-packages (from requests->huggingface-hub>=0.4.0->sentence-transformers>=0.4.1->bertopic[visualization]) (1.24.3)\n",
            "Requirement already satisfied: certifi>=2017.4.17 in /usr/local/lib/python3.7/dist-packages (from requests->huggingface-hub>=0.4.0->sentence-transformers>=0.4.1->bertopic[visualization]) (2022.6.15)\n",
            "Requirement already satisfied: pillow!=8.3.*,>=5.3.0 in /usr/local/lib/python3.7/dist-packages (from torchvision->sentence-transformers>=0.4.1->bertopic[visualization]) (7.1.2)\n"
          ]
        }
      ]
    },
    {
      "cell_type": "code",
      "source": [
        "import pandas as pd\n",
        "import re\n",
        "from collections import Counter\n"
      ],
      "metadata": {
        "id": "xZcwviKReHq2"
      },
      "execution_count": null,
      "outputs": []
    },
    {
      "cell_type": "code",
      "source": [
        "data_path = \"/content/drive/MyDrive/glg_data/all-the-news-2-1.csv\""
      ],
      "metadata": {
        "id": "UzXyTI2GWlgY"
      },
      "execution_count": null,
      "outputs": []
    },
    {
      "cell_type": "code",
      "source": [
        "data = pd.read_csv(\n",
        "    data_path)"
      ],
      "metadata": {
        "colab": {
          "base_uri": "https://localhost:8080/"
        },
        "id": "80BpWz6mdoiP",
        "outputId": "ea0c0cc6-31a1-437b-b131-ddabefe65047"
      },
      "execution_count": null,
      "outputs": [
        {
          "output_type": "stream",
          "name": "stderr",
          "text": [
            "/usr/local/lib/python3.7/dist-packages/IPython/core/interactiveshell.py:2882: DtypeWarning: Columns (1,3,5) have mixed types.Specify dtype option on import or set low_memory=False.\n",
            "  exec(code_obj, self.user_global_ns, self.user_ns)\n"
          ]
        }
      ]
    },
    {
      "cell_type": "code",
      "source": [
        "data.shape"
      ],
      "metadata": {
        "colab": {
          "base_uri": "https://localhost:8080/"
        },
        "id": "0QdXgdohye4t",
        "outputId": "1e50f23d-33af-4762-a613-8b457b38f496"
      },
      "execution_count": null,
      "outputs": [
        {
          "output_type": "execute_result",
          "data": {
            "text/plain": [
              "(2688879, 12)"
            ]
          },
          "metadata": {},
          "execution_count": 7
        }
      ]
    },
    {
      "cell_type": "code",
      "source": [
        "#data = data[0:10000]"
      ],
      "metadata": {
        "id": "SelP3ePAdtF3"
      },
      "execution_count": null,
      "outputs": []
    },
    {
      "cell_type": "code",
      "source": [
        "#data"
      ],
      "metadata": {
        "id": "eGCIlTKSkwfa"
      },
      "execution_count": null,
      "outputs": []
    },
    {
      "cell_type": "code",
      "source": [
        "#from the project \"Effort can be limited to mining a single paragraph of text from these articles only)\"\""
      ],
      "metadata": {
        "id": "TrFVS5_Vkj81"
      },
      "execution_count": null,
      "outputs": []
    },
    {
      "cell_type": "code",
      "source": [
        "def get_first_paragraph(tweet):\n",
        "  try:\n",
        "    tweet = [re.search(r'\\n\\n((.*\\n)*?\\n)', tweet).group(1).replace('\\n', '')]\n",
        "  except:\n",
        "    tweet = tweet\n",
        "    return tweet"
      ],
      "metadata": {
        "id": "UgfIDVv3KKJB"
      },
      "execution_count": null,
      "outputs": []
    },
    {
      "cell_type": "code",
      "source": [
        "data['article'] = data['article'].apply(get_first_paragraph)"
      ],
      "metadata": {
        "id": "RMy3O-LPKoLx"
      },
      "execution_count": null,
      "outputs": []
    },
    {
      "cell_type": "code",
      "source": [
        "data['article'] = data['title'] + ' ' + data['article']\n",
        "data['article'] = data['article'].str.lower()"
      ],
      "metadata": {
        "id": "YXN5dsYykxYr",
        "colab": {
          "base_uri": "https://localhost:8080/",
          "height": 1000
        },
        "outputId": "e2a3c3b1-da79-4b31-b2df-97ca8a9d3739"
      },
      "execution_count": null,
      "outputs": [
        {
          "output_type": "error",
          "ename": "KeyboardInterrupt",
          "evalue": "ignored",
          "traceback": [
            "\u001b[0;31m---------------------------------------------------------------------------\u001b[0m",
            "\u001b[0;31mKeyboardInterrupt\u001b[0m                         Traceback (most recent call last)",
            "\u001b[0;32m<ipython-input-20-0c0a2a742c67>\u001b[0m in \u001b[0;36m<module>\u001b[0;34m()\u001b[0m\n\u001b[1;32m      1\u001b[0m \u001b[0mdata\u001b[0m\u001b[0;34m[\u001b[0m\u001b[0;34m'article'\u001b[0m\u001b[0;34m]\u001b[0m \u001b[0;34m=\u001b[0m \u001b[0mdata\u001b[0m\u001b[0;34m[\u001b[0m\u001b[0;34m'title'\u001b[0m\u001b[0;34m]\u001b[0m \u001b[0;34m+\u001b[0m \u001b[0;34m' '\u001b[0m \u001b[0;34m+\u001b[0m \u001b[0mdata\u001b[0m\u001b[0;34m[\u001b[0m\u001b[0;34m'article'\u001b[0m\u001b[0;34m]\u001b[0m\u001b[0;34m\u001b[0m\u001b[0;34m\u001b[0m\u001b[0m\n\u001b[0;32m----> 2\u001b[0;31m \u001b[0mdata\u001b[0m\u001b[0;34m[\u001b[0m\u001b[0;34m'article'\u001b[0m\u001b[0;34m]\u001b[0m \u001b[0;34m=\u001b[0m \u001b[0mdata\u001b[0m\u001b[0;34m[\u001b[0m\u001b[0;34m'article'\u001b[0m\u001b[0;34m]\u001b[0m\u001b[0;34m.\u001b[0m\u001b[0mstr\u001b[0m\u001b[0;34m.\u001b[0m\u001b[0mlower\u001b[0m\u001b[0;34m(\u001b[0m\u001b[0;34m)\u001b[0m\u001b[0;34m\u001b[0m\u001b[0;34m\u001b[0m\u001b[0m\n\u001b[0m",
            "\u001b[0;32m/usr/local/lib/python3.7/dist-packages/pandas/core/strings/accessor.py\u001b[0m in \u001b[0;36mwrapper\u001b[0;34m(self, *args, **kwargs)\u001b[0m\n\u001b[1;32m    114\u001b[0m                 )\n\u001b[1;32m    115\u001b[0m                 \u001b[0;32mraise\u001b[0m \u001b[0mTypeError\u001b[0m\u001b[0;34m(\u001b[0m\u001b[0mmsg\u001b[0m\u001b[0;34m)\u001b[0m\u001b[0;34m\u001b[0m\u001b[0;34m\u001b[0m\u001b[0m\n\u001b[0;32m--> 116\u001b[0;31m             \u001b[0;32mreturn\u001b[0m \u001b[0mfunc\u001b[0m\u001b[0;34m(\u001b[0m\u001b[0mself\u001b[0m\u001b[0;34m,\u001b[0m \u001b[0;34m*\u001b[0m\u001b[0margs\u001b[0m\u001b[0;34m,\u001b[0m \u001b[0;34m**\u001b[0m\u001b[0mkwargs\u001b[0m\u001b[0;34m)\u001b[0m\u001b[0;34m\u001b[0m\u001b[0;34m\u001b[0m\u001b[0m\n\u001b[0m\u001b[1;32m    117\u001b[0m \u001b[0;34m\u001b[0m\u001b[0m\n\u001b[1;32m    118\u001b[0m         \u001b[0mwrapper\u001b[0m\u001b[0;34m.\u001b[0m\u001b[0m__name__\u001b[0m \u001b[0;34m=\u001b[0m \u001b[0mfunc_name\u001b[0m\u001b[0;34m\u001b[0m\u001b[0;34m\u001b[0m\u001b[0m\n",
            "\u001b[0;32m/usr/local/lib/python3.7/dist-packages/pandas/core/strings/accessor.py\u001b[0m in \u001b[0;36mlower\u001b[0;34m(self)\u001b[0m\n\u001b[1;32m   2810\u001b[0m     \u001b[0;34m@\u001b[0m\u001b[0mforbid_nonstring_types\u001b[0m\u001b[0;34m(\u001b[0m\u001b[0;34m[\u001b[0m\u001b[0;34m\"bytes\"\u001b[0m\u001b[0;34m]\u001b[0m\u001b[0;34m)\u001b[0m\u001b[0;34m\u001b[0m\u001b[0;34m\u001b[0m\u001b[0m\n\u001b[1;32m   2811\u001b[0m     \u001b[0;32mdef\u001b[0m \u001b[0mlower\u001b[0m\u001b[0;34m(\u001b[0m\u001b[0mself\u001b[0m\u001b[0;34m)\u001b[0m\u001b[0;34m:\u001b[0m\u001b[0;34m\u001b[0m\u001b[0;34m\u001b[0m\u001b[0m\n\u001b[0;32m-> 2812\u001b[0;31m         \u001b[0mresult\u001b[0m \u001b[0;34m=\u001b[0m \u001b[0mself\u001b[0m\u001b[0;34m.\u001b[0m\u001b[0m_data\u001b[0m\u001b[0;34m.\u001b[0m\u001b[0marray\u001b[0m\u001b[0;34m.\u001b[0m\u001b[0m_str_lower\u001b[0m\u001b[0;34m(\u001b[0m\u001b[0;34m)\u001b[0m\u001b[0;34m\u001b[0m\u001b[0;34m\u001b[0m\u001b[0m\n\u001b[0m\u001b[1;32m   2813\u001b[0m         \u001b[0;32mreturn\u001b[0m \u001b[0mself\u001b[0m\u001b[0;34m.\u001b[0m\u001b[0m_wrap_result\u001b[0m\u001b[0;34m(\u001b[0m\u001b[0mresult\u001b[0m\u001b[0;34m)\u001b[0m\u001b[0;34m\u001b[0m\u001b[0;34m\u001b[0m\u001b[0m\n\u001b[1;32m   2814\u001b[0m \u001b[0;34m\u001b[0m\u001b[0m\n",
            "\u001b[0;32m/usr/local/lib/python3.7/dist-packages/pandas/core/strings/object_array.py\u001b[0m in \u001b[0;36m_str_lower\u001b[0;34m(self)\u001b[0m\n\u001b[1;32m    400\u001b[0m \u001b[0;34m\u001b[0m\u001b[0m\n\u001b[1;32m    401\u001b[0m     \u001b[0;32mdef\u001b[0m \u001b[0m_str_lower\u001b[0m\u001b[0;34m(\u001b[0m\u001b[0mself\u001b[0m\u001b[0;34m)\u001b[0m\u001b[0;34m:\u001b[0m\u001b[0;34m\u001b[0m\u001b[0;34m\u001b[0m\u001b[0m\n\u001b[0;32m--> 402\u001b[0;31m         \u001b[0;32mreturn\u001b[0m \u001b[0mself\u001b[0m\u001b[0;34m.\u001b[0m\u001b[0m_str_map\u001b[0m\u001b[0;34m(\u001b[0m\u001b[0mstr\u001b[0m\u001b[0;34m.\u001b[0m\u001b[0mlower\u001b[0m\u001b[0;34m)\u001b[0m\u001b[0;34m\u001b[0m\u001b[0;34m\u001b[0m\u001b[0m\n\u001b[0m\u001b[1;32m    403\u001b[0m \u001b[0;34m\u001b[0m\u001b[0m\n\u001b[1;32m    404\u001b[0m     \u001b[0;32mdef\u001b[0m \u001b[0m_str_normalize\u001b[0m\u001b[0;34m(\u001b[0m\u001b[0mself\u001b[0m\u001b[0;34m,\u001b[0m \u001b[0mform\u001b[0m\u001b[0;34m)\u001b[0m\u001b[0;34m:\u001b[0m\u001b[0;34m\u001b[0m\u001b[0;34m\u001b[0m\u001b[0m\n",
            "\u001b[0;32m/usr/local/lib/python3.7/dist-packages/pandas/core/strings/object_array.py\u001b[0m in \u001b[0;36m_str_map\u001b[0;34m(self, f, na_value, dtype, convert)\u001b[0m\n\u001b[1;32m     67\u001b[0m         \u001b[0mmap_convert\u001b[0m \u001b[0;34m=\u001b[0m \u001b[0mconvert\u001b[0m \u001b[0;32mand\u001b[0m \u001b[0;32mnot\u001b[0m \u001b[0mnp\u001b[0m\u001b[0;34m.\u001b[0m\u001b[0mall\u001b[0m\u001b[0;34m(\u001b[0m\u001b[0mmask\u001b[0m\u001b[0;34m)\u001b[0m\u001b[0;34m\u001b[0m\u001b[0;34m\u001b[0m\u001b[0m\n\u001b[1;32m     68\u001b[0m         \u001b[0;32mtry\u001b[0m\u001b[0;34m:\u001b[0m\u001b[0;34m\u001b[0m\u001b[0;34m\u001b[0m\u001b[0m\n\u001b[0;32m---> 69\u001b[0;31m             \u001b[0mresult\u001b[0m \u001b[0;34m=\u001b[0m \u001b[0mlib\u001b[0m\u001b[0;34m.\u001b[0m\u001b[0mmap_infer_mask\u001b[0m\u001b[0;34m(\u001b[0m\u001b[0marr\u001b[0m\u001b[0;34m,\u001b[0m \u001b[0mf\u001b[0m\u001b[0;34m,\u001b[0m \u001b[0mmask\u001b[0m\u001b[0;34m.\u001b[0m\u001b[0mview\u001b[0m\u001b[0;34m(\u001b[0m\u001b[0mnp\u001b[0m\u001b[0;34m.\u001b[0m\u001b[0muint8\u001b[0m\u001b[0;34m)\u001b[0m\u001b[0;34m,\u001b[0m \u001b[0mmap_convert\u001b[0m\u001b[0;34m)\u001b[0m\u001b[0;34m\u001b[0m\u001b[0;34m\u001b[0m\u001b[0m\n\u001b[0m\u001b[1;32m     70\u001b[0m         \u001b[0;32mexcept\u001b[0m \u001b[0;34m(\u001b[0m\u001b[0mTypeError\u001b[0m\u001b[0;34m,\u001b[0m \u001b[0mAttributeError\u001b[0m\u001b[0;34m)\u001b[0m \u001b[0;32mas\u001b[0m \u001b[0me\u001b[0m\u001b[0;34m:\u001b[0m\u001b[0;34m\u001b[0m\u001b[0;34m\u001b[0m\u001b[0m\n\u001b[1;32m     71\u001b[0m             \u001b[0;31m# Reraise the exception if callable `f` got wrong number of args.\u001b[0m\u001b[0;34m\u001b[0m\u001b[0;34m\u001b[0m\u001b[0;34m\u001b[0m\u001b[0m\n",
            "\u001b[0;32m/usr/local/lib/python3.7/dist-packages/pandas/_libs/lib.pyx\u001b[0m in \u001b[0;36mpandas._libs.lib.map_infer_mask\u001b[0;34m()\u001b[0m\n",
            "\u001b[0;32m/usr/local/lib/python3.7/dist-packages/pandas/_libs/lib.pyx\u001b[0m in \u001b[0;36mpandas._libs.lib.maybe_convert_objects\u001b[0;34m()\u001b[0m\n",
            "\u001b[0;32m/usr/local/lib/python3.7/dist-packages/numpy/core/numeric.py\u001b[0m in \u001b[0;36mfull\u001b[0;34m(shape, fill_value, dtype, order, like)\u001b[0m\n\u001b[1;32m    287\u001b[0m \u001b[0;34m\u001b[0m\u001b[0m\n\u001b[1;32m    288\u001b[0m \u001b[0;34m\u001b[0m\u001b[0m\n\u001b[0;32m--> 289\u001b[0;31m \u001b[0;34m@\u001b[0m\u001b[0mset_array_function_like_doc\u001b[0m\u001b[0;34m\u001b[0m\u001b[0;34m\u001b[0m\u001b[0m\n\u001b[0m\u001b[1;32m    290\u001b[0m \u001b[0;34m@\u001b[0m\u001b[0mset_module\u001b[0m\u001b[0;34m(\u001b[0m\u001b[0;34m'numpy'\u001b[0m\u001b[0;34m)\u001b[0m\u001b[0;34m\u001b[0m\u001b[0;34m\u001b[0m\u001b[0m\n\u001b[1;32m    291\u001b[0m \u001b[0;32mdef\u001b[0m \u001b[0mfull\u001b[0m\u001b[0;34m(\u001b[0m\u001b[0mshape\u001b[0m\u001b[0;34m,\u001b[0m \u001b[0mfill_value\u001b[0m\u001b[0;34m,\u001b[0m \u001b[0mdtype\u001b[0m\u001b[0;34m=\u001b[0m\u001b[0;32mNone\u001b[0m\u001b[0;34m,\u001b[0m \u001b[0morder\u001b[0m\u001b[0;34m=\u001b[0m\u001b[0;34m'C'\u001b[0m\u001b[0;34m,\u001b[0m \u001b[0;34m*\u001b[0m\u001b[0;34m,\u001b[0m \u001b[0mlike\u001b[0m\u001b[0;34m=\u001b[0m\u001b[0;32mNone\u001b[0m\u001b[0;34m)\u001b[0m\u001b[0;34m:\u001b[0m\u001b[0;34m\u001b[0m\u001b[0;34m\u001b[0m\u001b[0m\n",
            "\u001b[0;31mKeyboardInterrupt\u001b[0m: "
          ]
        }
      ]
    },
    {
      "cell_type": "code",
      "source": [
        "def remove_non_alphateic(tweet):\n",
        "    tweet = re.sub('[^a-zA-Z ]', '',str(tweet))\n",
        "    return tweet"
      ],
      "metadata": {
        "id": "xULtpxC-pVYb"
      },
      "execution_count": null,
      "outputs": []
    },
    {
      "cell_type": "code",
      "source": [
        "def remove_short_words(tweet):\n",
        "    tweet = re.sub(r'\\b\\w{1,3}\\b', '', tweet)\n",
        "    return tweet"
      ],
      "metadata": {
        "id": "4oawrw0kFJkf"
      },
      "execution_count": null,
      "outputs": []
    },
    {
      "cell_type": "code",
      "source": [
        "import nltk\n",
        "nltk.download('stopwords')\n",
        "from nltk.corpus import stopwords\n",
        "stop_words = stopwords.words('english')"
      ],
      "metadata": {
        "id": "wNJfFwKCFTFP"
      },
      "execution_count": null,
      "outputs": []
    },
    {
      "cell_type": "code",
      "source": [
        "#stop words is just a list, appending other words we didn't feel added value after initial runs\n",
        "#creating a dict since it should work faster\n",
        "stop_words.append('said')\n",
        "stopwords_dict = Counter(stop_words)\n"
      ],
      "metadata": {
        "id": "bk4d9wwkm-5_"
      },
      "execution_count": null,
      "outputs": []
    },
    {
      "cell_type": "code",
      "source": [
        "data['article'] = data['article'].apply(remove_non_alphateic)"
      ],
      "metadata": {
        "id": "GzGimOrSothM"
      },
      "execution_count": null,
      "outputs": []
    },
    {
      "cell_type": "code",
      "source": [
        "data['article'] = data['article'].apply(remove_short_words)"
      ],
      "metadata": {
        "id": "X4gbVc2QFLqe"
      },
      "execution_count": null,
      "outputs": []
    },
    {
      "cell_type": "code",
      "source": [
        ""
      ],
      "metadata": {
        "id": "xq9IN4S_54kE"
      },
      "execution_count": null,
      "outputs": []
    },
    {
      "cell_type": "code",
      "source": [
        "data['article'] = data['article'].apply(lambda x: ' '.join([word for word in x.split() if word not in (stopwords_dict)]))"
      ],
      "metadata": {
        "id": "WNnjBhsXGnSE"
      },
      "execution_count": null,
      "outputs": []
    },
    {
      "cell_type": "code",
      "source": [
        "articles = data['article'].to_list()"
      ],
      "metadata": {
        "id": "R-_6h97IimWe"
      },
      "execution_count": null,
      "outputs": []
    },
    {
      "cell_type": "code",
      "source": [
        "c = Counter(i for x in articles for i in x.split())\n"
      ],
      "metadata": {
        "id": "8A_uBh9AA8ic"
      },
      "execution_count": null,
      "outputs": []
    },
    {
      "cell_type": "code",
      "source": [
        "c.most_common(50)"
      ],
      "metadata": {
        "colab": {
          "base_uri": "https://localhost:8080/"
        },
        "id": "KjKMSA7l_IJq",
        "outputId": "9004f8c7-7e5c-45df-ac1e-084dd229418a"
      },
      "execution_count": null,
      "outputs": [
        {
          "output_type": "execute_result",
          "data": {
            "text/plain": [
              "[('would', 2898199),\n",
              " ('trump', 2780231),\n",
              " ('also', 2547645),\n",
              " ('people', 2515037),\n",
              " ('like', 2405002),\n",
              " ('year', 1935394),\n",
              " ('time', 1864639),\n",
              " ('first', 1800864),\n",
              " ('could', 1756902),\n",
              " ('president', 1721121),\n",
              " ('last', 1686773),\n",
              " ('percent', 1631385),\n",
              " ('years', 1537664),\n",
              " ('company', 1387032),\n",
              " ('million', 1321442),\n",
              " ('even', 1307523),\n",
              " ('told', 1289796),\n",
              " ('says', 1246028),\n",
              " ('make', 1181551),\n",
              " ('many', 1180624),\n",
              " ('house', 1172818),\n",
              " ('reuters', 1170480),\n",
              " ('back', 1166918),\n",
              " ('state', 1089878),\n",
              " ('news', 1084320),\n",
              " ('since', 1062562),\n",
              " ('states', 1052508),\n",
              " ('according', 1051230),\n",
              " ('still', 1037121),\n",
              " ('going', 1029339),\n",
              " ('think', 1021956),\n",
              " ('dont', 1020028),\n",
              " ('made', 1009417),\n",
              " ('much', 1003559),\n",
              " ('government', 998680),\n",
              " ('work', 966762),\n",
              " ('week', 952665),\n",
              " ('well', 946977),\n",
              " ('world', 945352),\n",
              " ('take', 917481),\n",
              " ('know', 906733),\n",
              " ('around', 874256),\n",
              " ('want', 857949),\n",
              " ('billion', 854533),\n",
              " ('including', 844008),\n",
              " ('three', 823034),\n",
              " ('united', 821286),\n",
              " ('white', 814439),\n",
              " ('thats', 811694),\n",
              " ('next', 808211)]"
            ]
          },
          "metadata": {},
          "execution_count": 34
        }
      ]
    },
    {
      "cell_type": "code",
      "source": [
        "most_occurred"
      ],
      "metadata": {
        "id": "1OO2DSLqyknX"
      },
      "execution_count": null,
      "outputs": []
    },
    {
      "cell_type": "code",
      "source": [
        "data['article']"
      ],
      "metadata": {
        "colab": {
          "base_uri": "https://localhost:8080/"
        },
        "id": "uKdx7RS_FXta",
        "outputId": "548ead82-e2cc-4bdc-f0d7-35db4db754b1"
      },
      "execution_count": null,
      "outputs": [
        {
          "output_type": "execute_result",
          "data": {
            "text/plain": [
              "0       take concerns health liberal democracy serious...\n",
              "1       colts ryan grigson says andrew lucks contract ...\n",
              "2       trump denies report ordered mueller fired davo...\n",
              "3       frances sarkozy reveals passions insists comeb...\n",
              "4       paris hilton woman black uncle montys funeral ...\n",
              "                              ...                        \n",
              "9995    police arrest newspaper publisher midnight rai...\n",
              "9996    update bets tltro german bond yields alltime l...\n",
              "9997    teen amber portwoods shot domestic battery arr...\n",
              "9998    recode daily mark zuckerberg building playbook...\n",
              "9999    hammond takes case digital sales meeting japan...\n",
              "Name: title_plus_article, Length: 10000, dtype: object"
            ]
          },
          "metadata": {},
          "execution_count": 18
        }
      ]
    },
    {
      "cell_type": "code",
      "source": [
        "articles[0]"
      ],
      "metadata": {
        "colab": {
          "base_uri": "https://localhost:8080/",
          "height": 184
        },
        "id": "YoDHsEc7qAW0",
        "outputId": "e8fa1d44-24fa-4eb0-c424-457129139f09"
      },
      "execution_count": null,
      "outputs": [
        {
          "output_type": "execute_result",
          "data": {
            "text/plain": [
              "'take concerns health liberal democracy seriously post part polyarchy independent blog produced political reform program america washington think tank devoted developing ideas voices imagine otherwise healthy something starts feeling weird sometimes short breath migraines feet start swell little otherwise everything seems fine doctor doctor runs tests tells youits probably nothing could signs coming heart attack push certainty doctor tells shes sure human body complex system youre young otherwise pretty healthy could plenty explanations youre feeling little worrying safe side maybe reduce stress life healthier diet would youre sensible person youd probably side precaution sure might nothing worry likelihood heart attack might even chance chance something possibly fatal take chance especially recommendations less stress healthier diet good either offer parable thinking debate thats emerged past weeks response amanda taubs york times article profiling findings roberto stefan yascha mounk findings raise alarms fact younger people time become less less likely surveys essential live democracy rather share sense alarm however several critics jumped mounk misinterpreting data generating unnecessary panic political scientist erik voeten example argued theiranalysis misleading article mounk document small shifts opinion related issues arent nearly dramatic york times graph suggests similarly wonkblogs jeff guoreanalyzed data argued less alarming thanit seems mounk responded drawing analysis forthcoming journal democracy article also documents increasing support among young people strong leader rising support extremism voeten however remains unimpressed charts suggesting shifts less significant mounk make argues dangerous totell world people ready accept nondemocratic governance want argue interpret data follow hyperlinks reasonable points disagreement dont much debate observe rare data unambiguous important societal shifts shifts actually occur data unambiguous almost always late anything sure sign heart attack well heart attack similarly sure sign democratic collapse well democratic collapse whatever think data analysis also mounting series actual realworld election results hard explain support liberal democracy thriving deciding seriously take findings also worth asking would differently took mounks findings seriously would collectively respond would consequences probably invest civic education next generation learns basics liberal democracy understands better system authoritarian rule seems like good idea regardless similarly might collectively invest considerable resources making strong public case liberal democracy might also figure ways make public institutions outreach citizens make sure feel engaged democracy think hard building intermediary institutions help people feel though voices represented taken seriously seem like things regardless like reducing stress improving health diets heart attack parable doctor told prevent future heart attack would give social life spend next year strict rest eating kale chia seed salads might want little certain really high risk heart attack taking risk seriously would impose heavy cost recent crises offer examples cases decisionmakers ignore warning signs taking signs seriously would imposed significant costs example housing bubble mids warnings ignored financial industry staked considerable investments product lines myth housing values would forever admit housing overvalued securitized mortgages riskier advertised would cost investment banks dearly eventually reality caught resulting damage worse would paid attention early warning signs similarly many carbonintensive industries fossil fuel producers pushed back findings climate change taking findings seriously would force significant changes industries result industries funded doubt uncertainty problem since gotten much worse become harder take effective action early scientists alarmist much better shape listened would comforted could certain voeten right mounk wrong maybe indeed nothing worry given risks well recent string election results rather side caution like threat heart attack threat autocracy military rule replacing liberal democracy pretty serious difficult recover dont want take chance especially preventive medicine consists things probably anyway'"
            ],
            "application/vnd.google.colaboratory.intrinsic+json": {
              "type": "string"
            }
          },
          "metadata": {},
          "execution_count": 19
        }
      ]
    },
    {
      "cell_type": "code",
      "source": [
        "dates = data['date'].apply(lambda x: pd.Timestamp(x)).to_list()\n"
      ],
      "metadata": {
        "id": "SjGOGjWKjM-_"
      },
      "execution_count": null,
      "outputs": []
    },
    {
      "cell_type": "code",
      "source": [
        "from bertopic import BERTopic\n",
        "topic_model = BERTopic(min_topic_size=70, n_gram_range=(1,3), verbose=True)\n",
        "topics, _ = topic_model.fit_transform(articles)"
      ],
      "metadata": {
        "colab": {
          "base_uri": "https://localhost:8080/",
          "height": 161,
          "referenced_widgets": [
            "44f46dbf95c64f6aa471e394b1488ff7",
            "e58817c4d78f49d68131f1ff9884a3f4",
            "53117bbf9f51489890282b94694258e1",
            "b382efd9ecf249018af5a6af5e52ec7d",
            "f036a3896b2348f3b84bef9dbb6857fe",
            "fbfa57f21c8a43c6862217690817a562",
            "150b5a1e7fcf4d1d8ea6f40362914ad6",
            "a329cf7707de47cb97e374a9fd1aebd6",
            "c74b6bc773b940599cc9d687aa1bc03a",
            "4bfdf10ef8ee4e7dbeccafac94b0c6c1",
            "6919890aff0040d6b0076c03c4f4ea53"
          ]
        },
        "id": "eYMYsesRi4A8",
        "outputId": "2397f990-5bf2-46a2-ddf0-3c62ab3fd92d"
      },
      "execution_count": null,
      "outputs": [
        {
          "output_type": "display_data",
          "data": {
            "text/plain": [
              "Batches:   0%|          | 0/313 [00:00<?, ?it/s]"
            ],
            "application/vnd.jupyter.widget-view+json": {
              "version_major": 2,
              "version_minor": 0,
              "model_id": "44f46dbf95c64f6aa471e394b1488ff7"
            }
          },
          "metadata": {}
        },
        {
          "output_type": "stream",
          "name": "stderr",
          "text": [
            "2022-07-28 22:05:15,992 - BERTopic - Transformed documents to Embeddings\n",
            "/usr/local/lib/python3.7/dist-packages/numba/np/ufunc/parallel.py:363: NumbaWarning: The TBB threading layer requires TBB version 2019.5 or later i.e., TBB_INTERFACE_VERSION >= 11005. Found TBB_INTERFACE_VERSION = 9107. The TBB threading layer is disabled.\n",
            "  warnings.warn(problem)\n",
            "2022-07-28 22:05:48,292 - BERTopic - Reduced dimensionality\n",
            "2022-07-28 22:05:48,923 - BERTopic - Clustered reduced embeddings\n"
          ]
        }
      ]
    },
    {
      "cell_type": "code",
      "source": [
        "topic_model.visualize_topics()\n"
      ],
      "metadata": {
        "id": "_a8lK8bvKNAH",
        "colab": {
          "base_uri": "https://localhost:8080/",
          "height": 667
        },
        "outputId": "6707950a-577a-4183-ca15-ecd104acee55"
      },
      "execution_count": null,
      "outputs": [
        {
          "output_type": "display_data",
          "data": {
            "text/html": [
              "<html>\n",
              "<head><meta charset=\"utf-8\" /></head>\n",
              "<body>\n",
              "    <div>            <script src=\"https://cdnjs.cloudflare.com/ajax/libs/mathjax/2.7.5/MathJax.js?config=TeX-AMS-MML_SVG\"></script><script type=\"text/javascript\">if (window.MathJax) {MathJax.Hub.Config({SVG: {font: \"STIX-Web\"}});}</script>                <script type=\"text/javascript\">window.PlotlyConfig = {MathJaxConfig: 'local'};</script>\n",
              "        <script src=\"https://cdn.plot.ly/plotly-2.8.3.min.js\"></script>                <div id=\"9574c0f2-52ca-4af7-ae5e-f5226a698e33\" class=\"plotly-graph-div\" style=\"height:650px; width:650px;\"></div>            <script type=\"text/javascript\">                                    window.PLOTLYENV=window.PLOTLYENV || {};                                    if (document.getElementById(\"9574c0f2-52ca-4af7-ae5e-f5226a698e33\")) {                    Plotly.newPlot(                        \"9574c0f2-52ca-4af7-ae5e-f5226a698e33\",                        [{\"customdata\":[[0,\"trump | said | president | would | house\",1595],[1,\"said | china | trade | chinese | reuters\",770],[2,\"facebook | company | apple | like | said\",400],[3,\"artists | work | artist | museum | exhibition\",369],[4,\"music | like | album | song | songs\",361],[5,\"game | team | players | basketball | sports\",307],[6,\"climate | said | climate change | change | energy\",289],[7,\"police | shooting | people | said | officers\",268],[8,\"fight | world | first | mcgregor | sports\",223],[9,\"drug | health | people | drugs | said\",220],[10,\"saudi | iran | said | arabia | saudi arabia\",214],[11,\"kardashian | shes | kylie | jenner | kourtney\",207],[12,\"cops | says | arrested | told | police\",191],[13,\"brexit | deal | parliament | britain | said\",179],[14,\"season | episode | film | movie | show\",168],[15,\"food | like | people | meat | make\",163],[16,\"uber | tesla | company | cars | said\",137],[17,\"north | korea | north korea | korean | south\",123],[18,\"syrian | syria | turkey | said | islamic\",113],[19,\"european | said | italy | migrants | europe\",104]],\"hovertemplate\":\"<b>Topic %{customdata[0]}</b><br>Words: %{customdata[1]}<br>Size: %{customdata[2]}\",\"legendgroup\":\"\",\"marker\":{\"color\":\"#B0BEC5\",\"size\":[1595,770,400,369,361,307,289,268,223,220,214,207,191,179,168,163,137,123,113,104],\"sizemode\":\"area\",\"sizeref\":0.996875,\"symbol\":\"circle\",\"line\":{\"color\":\"DarkSlateGrey\",\"width\":2}},\"mode\":\"markers\",\"name\":\"\",\"orientation\":\"v\",\"showlegend\":false,\"x\":[11.606027603149414,16.494705200195312,1.0087767839431763,-4.574893474578857,-4.179163455963135,1.838555932044983,12.543581008911133,11.846715927124023,2.036470651626587,12.249217987060547,16.122285842895508,-5.685325622558594,-5.7830963134765625,-1.7065348625183105,-4.381582736968994,12.267687797546387,1.1119004487991333,16.0142822265625,16.220218658447266,-1.5853734016418457],\"xaxis\":\"x\",\"y\":[-2.4631507396698,26.899465560913086,2.184544563293457,-5.48606014251709,-5.881695747375488,7.1422505378723145,-2.0175933837890625,-2.260972499847412,6.941990852355957,-2.2230618000030518,27.18364143371582,13.092853546142578,13.194684028625488,13.292119979858398,-5.679437160491943,-1.716907024383545,2.0891575813293457,26.726177215576172,27.34189796447754,13.408000946044922],\"yaxis\":\"y\",\"type\":\"scatter\"}],                        {\"template\":{\"data\":{\"barpolar\":[{\"marker\":{\"line\":{\"color\":\"white\",\"width\":0.5},\"pattern\":{\"fillmode\":\"overlay\",\"size\":10,\"solidity\":0.2}},\"type\":\"barpolar\"}],\"bar\":[{\"error_x\":{\"color\":\"rgb(36,36,36)\"},\"error_y\":{\"color\":\"rgb(36,36,36)\"},\"marker\":{\"line\":{\"color\":\"white\",\"width\":0.5},\"pattern\":{\"fillmode\":\"overlay\",\"size\":10,\"solidity\":0.2}},\"type\":\"bar\"}],\"carpet\":[{\"aaxis\":{\"endlinecolor\":\"rgb(36,36,36)\",\"gridcolor\":\"white\",\"linecolor\":\"white\",\"minorgridcolor\":\"white\",\"startlinecolor\":\"rgb(36,36,36)\"},\"baxis\":{\"endlinecolor\":\"rgb(36,36,36)\",\"gridcolor\":\"white\",\"linecolor\":\"white\",\"minorgridcolor\":\"white\",\"startlinecolor\":\"rgb(36,36,36)\"},\"type\":\"carpet\"}],\"choropleth\":[{\"colorbar\":{\"outlinewidth\":1,\"tickcolor\":\"rgb(36,36,36)\",\"ticks\":\"outside\"},\"type\":\"choropleth\"}],\"contourcarpet\":[{\"colorbar\":{\"outlinewidth\":1,\"tickcolor\":\"rgb(36,36,36)\",\"ticks\":\"outside\"},\"type\":\"contourcarpet\"}],\"contour\":[{\"colorbar\":{\"outlinewidth\":1,\"tickcolor\":\"rgb(36,36,36)\",\"ticks\":\"outside\"},\"colorscale\":[[0.0,\"#440154\"],[0.1111111111111111,\"#482878\"],[0.2222222222222222,\"#3e4989\"],[0.3333333333333333,\"#31688e\"],[0.4444444444444444,\"#26828e\"],[0.5555555555555556,\"#1f9e89\"],[0.6666666666666666,\"#35b779\"],[0.7777777777777778,\"#6ece58\"],[0.8888888888888888,\"#b5de2b\"],[1.0,\"#fde725\"]],\"type\":\"contour\"}],\"heatmapgl\":[{\"colorbar\":{\"outlinewidth\":1,\"tickcolor\":\"rgb(36,36,36)\",\"ticks\":\"outside\"},\"colorscale\":[[0.0,\"#440154\"],[0.1111111111111111,\"#482878\"],[0.2222222222222222,\"#3e4989\"],[0.3333333333333333,\"#31688e\"],[0.4444444444444444,\"#26828e\"],[0.5555555555555556,\"#1f9e89\"],[0.6666666666666666,\"#35b779\"],[0.7777777777777778,\"#6ece58\"],[0.8888888888888888,\"#b5de2b\"],[1.0,\"#fde725\"]],\"type\":\"heatmapgl\"}],\"heatmap\":[{\"colorbar\":{\"outlinewidth\":1,\"tickcolor\":\"rgb(36,36,36)\",\"ticks\":\"outside\"},\"colorscale\":[[0.0,\"#440154\"],[0.1111111111111111,\"#482878\"],[0.2222222222222222,\"#3e4989\"],[0.3333333333333333,\"#31688e\"],[0.4444444444444444,\"#26828e\"],[0.5555555555555556,\"#1f9e89\"],[0.6666666666666666,\"#35b779\"],[0.7777777777777778,\"#6ece58\"],[0.8888888888888888,\"#b5de2b\"],[1.0,\"#fde725\"]],\"type\":\"heatmap\"}],\"histogram2dcontour\":[{\"colorbar\":{\"outlinewidth\":1,\"tickcolor\":\"rgb(36,36,36)\",\"ticks\":\"outside\"},\"colorscale\":[[0.0,\"#440154\"],[0.1111111111111111,\"#482878\"],[0.2222222222222222,\"#3e4989\"],[0.3333333333333333,\"#31688e\"],[0.4444444444444444,\"#26828e\"],[0.5555555555555556,\"#1f9e89\"],[0.6666666666666666,\"#35b779\"],[0.7777777777777778,\"#6ece58\"],[0.8888888888888888,\"#b5de2b\"],[1.0,\"#fde725\"]],\"type\":\"histogram2dcontour\"}],\"histogram2d\":[{\"colorbar\":{\"outlinewidth\":1,\"tickcolor\":\"rgb(36,36,36)\",\"ticks\":\"outside\"},\"colorscale\":[[0.0,\"#440154\"],[0.1111111111111111,\"#482878\"],[0.2222222222222222,\"#3e4989\"],[0.3333333333333333,\"#31688e\"],[0.4444444444444444,\"#26828e\"],[0.5555555555555556,\"#1f9e89\"],[0.6666666666666666,\"#35b779\"],[0.7777777777777778,\"#6ece58\"],[0.8888888888888888,\"#b5de2b\"],[1.0,\"#fde725\"]],\"type\":\"histogram2d\"}],\"histogram\":[{\"marker\":{\"line\":{\"color\":\"white\",\"width\":0.6}},\"type\":\"histogram\"}],\"mesh3d\":[{\"colorbar\":{\"outlinewidth\":1,\"tickcolor\":\"rgb(36,36,36)\",\"ticks\":\"outside\"},\"type\":\"mesh3d\"}],\"parcoords\":[{\"line\":{\"colorbar\":{\"outlinewidth\":1,\"tickcolor\":\"rgb(36,36,36)\",\"ticks\":\"outside\"}},\"type\":\"parcoords\"}],\"pie\":[{\"automargin\":true,\"type\":\"pie\"}],\"scatter3d\":[{\"line\":{\"colorbar\":{\"outlinewidth\":1,\"tickcolor\":\"rgb(36,36,36)\",\"ticks\":\"outside\"}},\"marker\":{\"colorbar\":{\"outlinewidth\":1,\"tickcolor\":\"rgb(36,36,36)\",\"ticks\":\"outside\"}},\"type\":\"scatter3d\"}],\"scattercarpet\":[{\"marker\":{\"colorbar\":{\"outlinewidth\":1,\"tickcolor\":\"rgb(36,36,36)\",\"ticks\":\"outside\"}},\"type\":\"scattercarpet\"}],\"scattergeo\":[{\"marker\":{\"colorbar\":{\"outlinewidth\":1,\"tickcolor\":\"rgb(36,36,36)\",\"ticks\":\"outside\"}},\"type\":\"scattergeo\"}],\"scattergl\":[{\"marker\":{\"colorbar\":{\"outlinewidth\":1,\"tickcolor\":\"rgb(36,36,36)\",\"ticks\":\"outside\"}},\"type\":\"scattergl\"}],\"scattermapbox\":[{\"marker\":{\"colorbar\":{\"outlinewidth\":1,\"tickcolor\":\"rgb(36,36,36)\",\"ticks\":\"outside\"}},\"type\":\"scattermapbox\"}],\"scatterpolargl\":[{\"marker\":{\"colorbar\":{\"outlinewidth\":1,\"tickcolor\":\"rgb(36,36,36)\",\"ticks\":\"outside\"}},\"type\":\"scatterpolargl\"}],\"scatterpolar\":[{\"marker\":{\"colorbar\":{\"outlinewidth\":1,\"tickcolor\":\"rgb(36,36,36)\",\"ticks\":\"outside\"}},\"type\":\"scatterpolar\"}],\"scatter\":[{\"marker\":{\"colorbar\":{\"outlinewidth\":1,\"tickcolor\":\"rgb(36,36,36)\",\"ticks\":\"outside\"}},\"type\":\"scatter\"}],\"scatterternary\":[{\"marker\":{\"colorbar\":{\"outlinewidth\":1,\"tickcolor\":\"rgb(36,36,36)\",\"ticks\":\"outside\"}},\"type\":\"scatterternary\"}],\"surface\":[{\"colorbar\":{\"outlinewidth\":1,\"tickcolor\":\"rgb(36,36,36)\",\"ticks\":\"outside\"},\"colorscale\":[[0.0,\"#440154\"],[0.1111111111111111,\"#482878\"],[0.2222222222222222,\"#3e4989\"],[0.3333333333333333,\"#31688e\"],[0.4444444444444444,\"#26828e\"],[0.5555555555555556,\"#1f9e89\"],[0.6666666666666666,\"#35b779\"],[0.7777777777777778,\"#6ece58\"],[0.8888888888888888,\"#b5de2b\"],[1.0,\"#fde725\"]],\"type\":\"surface\"}],\"table\":[{\"cells\":{\"fill\":{\"color\":\"rgb(237,237,237)\"},\"line\":{\"color\":\"white\"}},\"header\":{\"fill\":{\"color\":\"rgb(217,217,217)\"},\"line\":{\"color\":\"white\"}},\"type\":\"table\"}]},\"layout\":{\"annotationdefaults\":{\"arrowhead\":0,\"arrowwidth\":1},\"autotypenumbers\":\"strict\",\"coloraxis\":{\"colorbar\":{\"outlinewidth\":1,\"tickcolor\":\"rgb(36,36,36)\",\"ticks\":\"outside\"}},\"colorscale\":{\"diverging\":[[0.0,\"rgb(103,0,31)\"],[0.1,\"rgb(178,24,43)\"],[0.2,\"rgb(214,96,77)\"],[0.3,\"rgb(244,165,130)\"],[0.4,\"rgb(253,219,199)\"],[0.5,\"rgb(247,247,247)\"],[0.6,\"rgb(209,229,240)\"],[0.7,\"rgb(146,197,222)\"],[0.8,\"rgb(67,147,195)\"],[0.9,\"rgb(33,102,172)\"],[1.0,\"rgb(5,48,97)\"]],\"sequential\":[[0.0,\"#440154\"],[0.1111111111111111,\"#482878\"],[0.2222222222222222,\"#3e4989\"],[0.3333333333333333,\"#31688e\"],[0.4444444444444444,\"#26828e\"],[0.5555555555555556,\"#1f9e89\"],[0.6666666666666666,\"#35b779\"],[0.7777777777777778,\"#6ece58\"],[0.8888888888888888,\"#b5de2b\"],[1.0,\"#fde725\"]],\"sequentialminus\":[[0.0,\"#440154\"],[0.1111111111111111,\"#482878\"],[0.2222222222222222,\"#3e4989\"],[0.3333333333333333,\"#31688e\"],[0.4444444444444444,\"#26828e\"],[0.5555555555555556,\"#1f9e89\"],[0.6666666666666666,\"#35b779\"],[0.7777777777777778,\"#6ece58\"],[0.8888888888888888,\"#b5de2b\"],[1.0,\"#fde725\"]]},\"colorway\":[\"#1F77B4\",\"#FF7F0E\",\"#2CA02C\",\"#D62728\",\"#9467BD\",\"#8C564B\",\"#E377C2\",\"#7F7F7F\",\"#BCBD22\",\"#17BECF\"],\"font\":{\"color\":\"rgb(36,36,36)\"},\"geo\":{\"bgcolor\":\"white\",\"lakecolor\":\"white\",\"landcolor\":\"white\",\"showlakes\":true,\"showland\":true,\"subunitcolor\":\"white\"},\"hoverlabel\":{\"align\":\"left\"},\"hovermode\":\"closest\",\"mapbox\":{\"style\":\"light\"},\"paper_bgcolor\":\"white\",\"plot_bgcolor\":\"white\",\"polar\":{\"angularaxis\":{\"gridcolor\":\"rgb(232,232,232)\",\"linecolor\":\"rgb(36,36,36)\",\"showgrid\":false,\"showline\":true,\"ticks\":\"outside\"},\"bgcolor\":\"white\",\"radialaxis\":{\"gridcolor\":\"rgb(232,232,232)\",\"linecolor\":\"rgb(36,36,36)\",\"showgrid\":false,\"showline\":true,\"ticks\":\"outside\"}},\"scene\":{\"xaxis\":{\"backgroundcolor\":\"white\",\"gridcolor\":\"rgb(232,232,232)\",\"gridwidth\":2,\"linecolor\":\"rgb(36,36,36)\",\"showbackground\":true,\"showgrid\":false,\"showline\":true,\"ticks\":\"outside\",\"zeroline\":false,\"zerolinecolor\":\"rgb(36,36,36)\"},\"yaxis\":{\"backgroundcolor\":\"white\",\"gridcolor\":\"rgb(232,232,232)\",\"gridwidth\":2,\"linecolor\":\"rgb(36,36,36)\",\"showbackground\":true,\"showgrid\":false,\"showline\":true,\"ticks\":\"outside\",\"zeroline\":false,\"zerolinecolor\":\"rgb(36,36,36)\"},\"zaxis\":{\"backgroundcolor\":\"white\",\"gridcolor\":\"rgb(232,232,232)\",\"gridwidth\":2,\"linecolor\":\"rgb(36,36,36)\",\"showbackground\":true,\"showgrid\":false,\"showline\":true,\"ticks\":\"outside\",\"zeroline\":false,\"zerolinecolor\":\"rgb(36,36,36)\"}},\"shapedefaults\":{\"fillcolor\":\"black\",\"line\":{\"width\":0},\"opacity\":0.3},\"ternary\":{\"aaxis\":{\"gridcolor\":\"rgb(232,232,232)\",\"linecolor\":\"rgb(36,36,36)\",\"showgrid\":false,\"showline\":true,\"ticks\":\"outside\"},\"baxis\":{\"gridcolor\":\"rgb(232,232,232)\",\"linecolor\":\"rgb(36,36,36)\",\"showgrid\":false,\"showline\":true,\"ticks\":\"outside\"},\"bgcolor\":\"white\",\"caxis\":{\"gridcolor\":\"rgb(232,232,232)\",\"linecolor\":\"rgb(36,36,36)\",\"showgrid\":false,\"showline\":true,\"ticks\":\"outside\"}},\"title\":{\"x\":0.05},\"xaxis\":{\"automargin\":true,\"gridcolor\":\"rgb(232,232,232)\",\"linecolor\":\"rgb(36,36,36)\",\"showgrid\":false,\"showline\":true,\"ticks\":\"outside\",\"title\":{\"standoff\":15},\"zeroline\":false,\"zerolinecolor\":\"rgb(36,36,36)\"},\"yaxis\":{\"automargin\":true,\"gridcolor\":\"rgb(232,232,232)\",\"linecolor\":\"rgb(36,36,36)\",\"showgrid\":false,\"showline\":true,\"ticks\":\"outside\",\"title\":{\"standoff\":15},\"zeroline\":false,\"zerolinecolor\":\"rgb(36,36,36)\"}}},\"xaxis\":{\"anchor\":\"y\",\"domain\":[0.0,1.0],\"title\":{\"text\":\"\"},\"visible\":false,\"range\":[-6.650560760498047,18.96891098022461]},\"yaxis\":{\"anchor\":\"x\",\"domain\":[0.0,1.0],\"title\":{\"text\":\"\"},\"visible\":false,\"range\":[-6.7639501094818115,31.44318265914917]},\"legend\":{\"tracegroupgap\":0,\"itemsizing\":\"constant\"},\"margin\":{\"t\":60},\"title\":{\"font\":{\"size\":22,\"color\":\"Black\"},\"text\":\"<b>Intertopic Distance Map\",\"y\":0.95,\"x\":0.5,\"xanchor\":\"center\",\"yanchor\":\"top\"},\"hoverlabel\":{\"font\":{\"size\":16,\"family\":\"Rockwell\"},\"bgcolor\":\"white\"},\"width\":650,\"height\":650,\"sliders\":[{\"active\":0,\"pad\":{\"t\":50},\"steps\":[{\"args\":[{\"marker.color\":[[\"red\",\"#B0BEC5\",\"#B0BEC5\",\"#B0BEC5\",\"#B0BEC5\",\"#B0BEC5\",\"#B0BEC5\",\"#B0BEC5\",\"#B0BEC5\",\"#B0BEC5\",\"#B0BEC5\",\"#B0BEC5\",\"#B0BEC5\",\"#B0BEC5\",\"#B0BEC5\",\"#B0BEC5\",\"#B0BEC5\",\"#B0BEC5\",\"#B0BEC5\",\"#B0BEC5\"]]}],\"label\":\"Topic 0\",\"method\":\"update\"},{\"args\":[{\"marker.color\":[[\"#B0BEC5\",\"red\",\"#B0BEC5\",\"#B0BEC5\",\"#B0BEC5\",\"#B0BEC5\",\"#B0BEC5\",\"#B0BEC5\",\"#B0BEC5\",\"#B0BEC5\",\"#B0BEC5\",\"#B0BEC5\",\"#B0BEC5\",\"#B0BEC5\",\"#B0BEC5\",\"#B0BEC5\",\"#B0BEC5\",\"#B0BEC5\",\"#B0BEC5\",\"#B0BEC5\"]]}],\"label\":\"Topic 1\",\"method\":\"update\"},{\"args\":[{\"marker.color\":[[\"#B0BEC5\",\"#B0BEC5\",\"red\",\"#B0BEC5\",\"#B0BEC5\",\"#B0BEC5\",\"#B0BEC5\",\"#B0BEC5\",\"#B0BEC5\",\"#B0BEC5\",\"#B0BEC5\",\"#B0BEC5\",\"#B0BEC5\",\"#B0BEC5\",\"#B0BEC5\",\"#B0BEC5\",\"#B0BEC5\",\"#B0BEC5\",\"#B0BEC5\",\"#B0BEC5\"]]}],\"label\":\"Topic 2\",\"method\":\"update\"},{\"args\":[{\"marker.color\":[[\"#B0BEC5\",\"#B0BEC5\",\"#B0BEC5\",\"red\",\"#B0BEC5\",\"#B0BEC5\",\"#B0BEC5\",\"#B0BEC5\",\"#B0BEC5\",\"#B0BEC5\",\"#B0BEC5\",\"#B0BEC5\",\"#B0BEC5\",\"#B0BEC5\",\"#B0BEC5\",\"#B0BEC5\",\"#B0BEC5\",\"#B0BEC5\",\"#B0BEC5\",\"#B0BEC5\"]]}],\"label\":\"Topic 3\",\"method\":\"update\"},{\"args\":[{\"marker.color\":[[\"#B0BEC5\",\"#B0BEC5\",\"#B0BEC5\",\"#B0BEC5\",\"red\",\"#B0BEC5\",\"#B0BEC5\",\"#B0BEC5\",\"#B0BEC5\",\"#B0BEC5\",\"#B0BEC5\",\"#B0BEC5\",\"#B0BEC5\",\"#B0BEC5\",\"#B0BEC5\",\"#B0BEC5\",\"#B0BEC5\",\"#B0BEC5\",\"#B0BEC5\",\"#B0BEC5\"]]}],\"label\":\"Topic 4\",\"method\":\"update\"},{\"args\":[{\"marker.color\":[[\"#B0BEC5\",\"#B0BEC5\",\"#B0BEC5\",\"#B0BEC5\",\"#B0BEC5\",\"red\",\"#B0BEC5\",\"#B0BEC5\",\"#B0BEC5\",\"#B0BEC5\",\"#B0BEC5\",\"#B0BEC5\",\"#B0BEC5\",\"#B0BEC5\",\"#B0BEC5\",\"#B0BEC5\",\"#B0BEC5\",\"#B0BEC5\",\"#B0BEC5\",\"#B0BEC5\"]]}],\"label\":\"Topic 5\",\"method\":\"update\"},{\"args\":[{\"marker.color\":[[\"#B0BEC5\",\"#B0BEC5\",\"#B0BEC5\",\"#B0BEC5\",\"#B0BEC5\",\"#B0BEC5\",\"red\",\"#B0BEC5\",\"#B0BEC5\",\"#B0BEC5\",\"#B0BEC5\",\"#B0BEC5\",\"#B0BEC5\",\"#B0BEC5\",\"#B0BEC5\",\"#B0BEC5\",\"#B0BEC5\",\"#B0BEC5\",\"#B0BEC5\",\"#B0BEC5\"]]}],\"label\":\"Topic 6\",\"method\":\"update\"},{\"args\":[{\"marker.color\":[[\"#B0BEC5\",\"#B0BEC5\",\"#B0BEC5\",\"#B0BEC5\",\"#B0BEC5\",\"#B0BEC5\",\"#B0BEC5\",\"red\",\"#B0BEC5\",\"#B0BEC5\",\"#B0BEC5\",\"#B0BEC5\",\"#B0BEC5\",\"#B0BEC5\",\"#B0BEC5\",\"#B0BEC5\",\"#B0BEC5\",\"#B0BEC5\",\"#B0BEC5\",\"#B0BEC5\"]]}],\"label\":\"Topic 7\",\"method\":\"update\"},{\"args\":[{\"marker.color\":[[\"#B0BEC5\",\"#B0BEC5\",\"#B0BEC5\",\"#B0BEC5\",\"#B0BEC5\",\"#B0BEC5\",\"#B0BEC5\",\"#B0BEC5\",\"red\",\"#B0BEC5\",\"#B0BEC5\",\"#B0BEC5\",\"#B0BEC5\",\"#B0BEC5\",\"#B0BEC5\",\"#B0BEC5\",\"#B0BEC5\",\"#B0BEC5\",\"#B0BEC5\",\"#B0BEC5\"]]}],\"label\":\"Topic 8\",\"method\":\"update\"},{\"args\":[{\"marker.color\":[[\"#B0BEC5\",\"#B0BEC5\",\"#B0BEC5\",\"#B0BEC5\",\"#B0BEC5\",\"#B0BEC5\",\"#B0BEC5\",\"#B0BEC5\",\"#B0BEC5\",\"red\",\"#B0BEC5\",\"#B0BEC5\",\"#B0BEC5\",\"#B0BEC5\",\"#B0BEC5\",\"#B0BEC5\",\"#B0BEC5\",\"#B0BEC5\",\"#B0BEC5\",\"#B0BEC5\"]]}],\"label\":\"Topic 9\",\"method\":\"update\"},{\"args\":[{\"marker.color\":[[\"#B0BEC5\",\"#B0BEC5\",\"#B0BEC5\",\"#B0BEC5\",\"#B0BEC5\",\"#B0BEC5\",\"#B0BEC5\",\"#B0BEC5\",\"#B0BEC5\",\"#B0BEC5\",\"red\",\"#B0BEC5\",\"#B0BEC5\",\"#B0BEC5\",\"#B0BEC5\",\"#B0BEC5\",\"#B0BEC5\",\"#B0BEC5\",\"#B0BEC5\",\"#B0BEC5\"]]}],\"label\":\"Topic 10\",\"method\":\"update\"},{\"args\":[{\"marker.color\":[[\"#B0BEC5\",\"#B0BEC5\",\"#B0BEC5\",\"#B0BEC5\",\"#B0BEC5\",\"#B0BEC5\",\"#B0BEC5\",\"#B0BEC5\",\"#B0BEC5\",\"#B0BEC5\",\"#B0BEC5\",\"red\",\"#B0BEC5\",\"#B0BEC5\",\"#B0BEC5\",\"#B0BEC5\",\"#B0BEC5\",\"#B0BEC5\",\"#B0BEC5\",\"#B0BEC5\"]]}],\"label\":\"Topic 11\",\"method\":\"update\"},{\"args\":[{\"marker.color\":[[\"#B0BEC5\",\"#B0BEC5\",\"#B0BEC5\",\"#B0BEC5\",\"#B0BEC5\",\"#B0BEC5\",\"#B0BEC5\",\"#B0BEC5\",\"#B0BEC5\",\"#B0BEC5\",\"#B0BEC5\",\"#B0BEC5\",\"red\",\"#B0BEC5\",\"#B0BEC5\",\"#B0BEC5\",\"#B0BEC5\",\"#B0BEC5\",\"#B0BEC5\",\"#B0BEC5\"]]}],\"label\":\"Topic 12\",\"method\":\"update\"},{\"args\":[{\"marker.color\":[[\"#B0BEC5\",\"#B0BEC5\",\"#B0BEC5\",\"#B0BEC5\",\"#B0BEC5\",\"#B0BEC5\",\"#B0BEC5\",\"#B0BEC5\",\"#B0BEC5\",\"#B0BEC5\",\"#B0BEC5\",\"#B0BEC5\",\"#B0BEC5\",\"red\",\"#B0BEC5\",\"#B0BEC5\",\"#B0BEC5\",\"#B0BEC5\",\"#B0BEC5\",\"#B0BEC5\"]]}],\"label\":\"Topic 13\",\"method\":\"update\"},{\"args\":[{\"marker.color\":[[\"#B0BEC5\",\"#B0BEC5\",\"#B0BEC5\",\"#B0BEC5\",\"#B0BEC5\",\"#B0BEC5\",\"#B0BEC5\",\"#B0BEC5\",\"#B0BEC5\",\"#B0BEC5\",\"#B0BEC5\",\"#B0BEC5\",\"#B0BEC5\",\"#B0BEC5\",\"red\",\"#B0BEC5\",\"#B0BEC5\",\"#B0BEC5\",\"#B0BEC5\",\"#B0BEC5\"]]}],\"label\":\"Topic 14\",\"method\":\"update\"},{\"args\":[{\"marker.color\":[[\"#B0BEC5\",\"#B0BEC5\",\"#B0BEC5\",\"#B0BEC5\",\"#B0BEC5\",\"#B0BEC5\",\"#B0BEC5\",\"#B0BEC5\",\"#B0BEC5\",\"#B0BEC5\",\"#B0BEC5\",\"#B0BEC5\",\"#B0BEC5\",\"#B0BEC5\",\"#B0BEC5\",\"red\",\"#B0BEC5\",\"#B0BEC5\",\"#B0BEC5\",\"#B0BEC5\"]]}],\"label\":\"Topic 15\",\"method\":\"update\"},{\"args\":[{\"marker.color\":[[\"#B0BEC5\",\"#B0BEC5\",\"#B0BEC5\",\"#B0BEC5\",\"#B0BEC5\",\"#B0BEC5\",\"#B0BEC5\",\"#B0BEC5\",\"#B0BEC5\",\"#B0BEC5\",\"#B0BEC5\",\"#B0BEC5\",\"#B0BEC5\",\"#B0BEC5\",\"#B0BEC5\",\"#B0BEC5\",\"red\",\"#B0BEC5\",\"#B0BEC5\",\"#B0BEC5\"]]}],\"label\":\"Topic 16\",\"method\":\"update\"},{\"args\":[{\"marker.color\":[[\"#B0BEC5\",\"#B0BEC5\",\"#B0BEC5\",\"#B0BEC5\",\"#B0BEC5\",\"#B0BEC5\",\"#B0BEC5\",\"#B0BEC5\",\"#B0BEC5\",\"#B0BEC5\",\"#B0BEC5\",\"#B0BEC5\",\"#B0BEC5\",\"#B0BEC5\",\"#B0BEC5\",\"#B0BEC5\",\"#B0BEC5\",\"red\",\"#B0BEC5\",\"#B0BEC5\"]]}],\"label\":\"Topic 17\",\"method\":\"update\"},{\"args\":[{\"marker.color\":[[\"#B0BEC5\",\"#B0BEC5\",\"#B0BEC5\",\"#B0BEC5\",\"#B0BEC5\",\"#B0BEC5\",\"#B0BEC5\",\"#B0BEC5\",\"#B0BEC5\",\"#B0BEC5\",\"#B0BEC5\",\"#B0BEC5\",\"#B0BEC5\",\"#B0BEC5\",\"#B0BEC5\",\"#B0BEC5\",\"#B0BEC5\",\"#B0BEC5\",\"red\",\"#B0BEC5\"]]}],\"label\":\"Topic 18\",\"method\":\"update\"},{\"args\":[{\"marker.color\":[[\"#B0BEC5\",\"#B0BEC5\",\"#B0BEC5\",\"#B0BEC5\",\"#B0BEC5\",\"#B0BEC5\",\"#B0BEC5\",\"#B0BEC5\",\"#B0BEC5\",\"#B0BEC5\",\"#B0BEC5\",\"#B0BEC5\",\"#B0BEC5\",\"#B0BEC5\",\"#B0BEC5\",\"#B0BEC5\",\"#B0BEC5\",\"#B0BEC5\",\"#B0BEC5\",\"red\"]]}],\"label\":\"Topic 19\",\"method\":\"update\"}]}],\"shapes\":[{\"line\":{\"color\":\"#CFD8DC\",\"width\":2},\"type\":\"line\",\"x0\":6.159175109863281,\"x1\":6.159175109863281,\"y0\":-6.7639501094818115,\"y1\":31.44318265914917},{\"line\":{\"color\":\"#9E9E9E\",\"width\":2},\"type\":\"line\",\"x0\":-6.650560760498047,\"x1\":18.96891098022461,\"y0\":12.339616274833679,\"y1\":12.339616274833679}],\"annotations\":[{\"showarrow\":false,\"text\":\"D1\",\"x\":-6.650560760498047,\"y\":12.339616274833679,\"yshift\":10},{\"showarrow\":false,\"text\":\"D2\",\"x\":6.159175109863281,\"xshift\":10,\"y\":31.44318265914917}]},                        {\"responsive\": true}                    ).then(function(){\n",
              "                            \n",
              "var gd = document.getElementById('9574c0f2-52ca-4af7-ae5e-f5226a698e33');\n",
              "var x = new MutationObserver(function (mutations, observer) {{\n",
              "        var display = window.getComputedStyle(gd).display;\n",
              "        if (!display || display === 'none') {{\n",
              "            console.log([gd, 'removed!']);\n",
              "            Plotly.purge(gd);\n",
              "            observer.disconnect();\n",
              "        }}\n",
              "}});\n",
              "\n",
              "// Listen for the removal of the full notebook cells\n",
              "var notebookContainer = gd.closest('#notebook-container');\n",
              "if (notebookContainer) {{\n",
              "    x.observe(notebookContainer, {childList: true});\n",
              "}}\n",
              "\n",
              "// Listen for the clearing of the current output cell\n",
              "var outputEl = gd.closest('.output');\n",
              "if (outputEl) {{\n",
              "    x.observe(outputEl, {childList: true});\n",
              "}}\n",
              "\n",
              "                        })                };                            </script>        </div>\n",
              "</body>\n",
              "</html>"
            ]
          },
          "metadata": {}
        }
      ]
    },
    {
      "cell_type": "code",
      "source": [
        "topic_model.visualize_barchart(top_n_topics=20)\n"
      ],
      "metadata": {
        "id": "DJ7I-2RUKZ1d",
        "colab": {
          "base_uri": "https://localhost:8080/",
          "height": 1000
        },
        "outputId": "22c7024f-ce55-4257-f9b7-33548dfa60a3"
      },
      "execution_count": null,
      "outputs": [
        {
          "output_type": "display_data",
          "data": {
            "text/html": [
              "<html>\n",
              "<head><meta charset=\"utf-8\" /></head>\n",
              "<body>\n",
              "    <div>            <script src=\"https://cdnjs.cloudflare.com/ajax/libs/mathjax/2.7.5/MathJax.js?config=TeX-AMS-MML_SVG\"></script><script type=\"text/javascript\">if (window.MathJax) {MathJax.Hub.Config({SVG: {font: \"STIX-Web\"}});}</script>                <script type=\"text/javascript\">window.PlotlyConfig = {MathJaxConfig: 'local'};</script>\n",
              "        <script src=\"https://cdn.plot.ly/plotly-2.8.3.min.js\"></script>                <div id=\"a5ad4abc-2e12-4982-9f5d-263b66ed133b\" class=\"plotly-graph-div\" style=\"height:1250px; width:1000px;\"></div>            <script type=\"text/javascript\">                                    window.PLOTLYENV=window.PLOTLYENV || {};                                    if (document.getElementById(\"a5ad4abc-2e12-4982-9f5d-263b66ed133b\")) {                    Plotly.newPlot(                        \"a5ad4abc-2e12-4982-9f5d-263b66ed133b\",                        [{\"marker\":{\"color\":\"#D55E00\"},\"orientation\":\"h\",\"x\":[0.006450079746499019,0.006703386630901294,0.007431242377789498,0.007749746850646605,0.01572242069731877],\"y\":[\"house  \",\"would  \",\"president  \",\"said  \",\"trump  \"],\"type\":\"bar\",\"xaxis\":\"x\",\"yaxis\":\"y\"},{\"marker\":{\"color\":\"#0072B2\"},\"orientation\":\"h\",\"x\":[0.00839187492461869,0.008741084112104041,0.01323283722665495,0.013533793311228913,0.01610311451069147],\"y\":[\"reuters  \",\"chinese  \",\"trade  \",\"china  \",\"said  \"],\"type\":\"bar\",\"xaxis\":\"x2\",\"yaxis\":\"y2\"},{\"marker\":{\"color\":\"#CC79A7\"},\"orientation\":\"h\",\"x\":[0.006837582688052896,0.0072760678201402584,0.007899781392341753,0.01047832902606983,0.011737633141741984],\"y\":[\"said  \",\"like  \",\"apple  \",\"company  \",\"facebook  \"],\"type\":\"bar\",\"xaxis\":\"x3\",\"yaxis\":\"y3\"},{\"marker\":{\"color\":\"#E69F00\"},\"orientation\":\"h\",\"x\":[0.0069186804477439166,0.006981428575032768,0.00751871095245068,0.009736473195714974,0.010009404157886106],\"y\":[\"exhibition  \",\"museum  \",\"artist  \",\"work  \",\"artists  \"],\"type\":\"bar\",\"xaxis\":\"x4\",\"yaxis\":\"y4\"},{\"marker\":{\"color\":\"#56B4E9\"},\"orientation\":\"h\",\"x\":[0.006741773117271688,0.008361559317044598,0.011380113480405848,0.01212179808856058,0.015367665347657542],\"y\":[\"songs  \",\"song  \",\"album  \",\"like  \",\"music  \"],\"type\":\"bar\",\"xaxis\":\"x5\",\"yaxis\":\"y5\"},{\"marker\":{\"color\":\"#009E73\"},\"orientation\":\"h\",\"x\":[0.007370045291820427,0.0075172355388844056,0.009606333988265218,0.010296138398876444,0.011767659444940187],\"y\":[\"sports  \",\"basketball  \",\"players  \",\"team  \",\"game  \"],\"type\":\"bar\",\"xaxis\":\"x6\",\"yaxis\":\"y6\"},{\"marker\":{\"color\":\"#F0E442\"},\"orientation\":\"h\",\"x\":[0.006448228992755051,0.007305089287891472,0.007740074315200411,0.0096780570581275,0.012379717921880237],\"y\":[\"energy  \",\"change  \",\"climate change  \",\"said  \",\"climate  \"],\"type\":\"bar\",\"xaxis\":\"x7\",\"yaxis\":\"y7\"},{\"marker\":{\"color\":\"#D55E00\"},\"orientation\":\"h\",\"x\":[0.006586111442317838,0.007351985336736254,0.008211242498503147,0.009028164052904557,0.017477733037484428],\"y\":[\"officers  \",\"said  \",\"people  \",\"shooting  \",\"police  \"],\"type\":\"bar\",\"xaxis\":\"x8\",\"yaxis\":\"y8\"},{\"marker\":{\"color\":\"#0072B2\"},\"orientation\":\"h\",\"x\":[0.005955441659861548,0.005965214470034007,0.006030513218294359,0.006456894111474808,0.01445753138644746],\"y\":[\"sports  \",\"mcgregor  \",\"first  \",\"world  \",\"fight  \"],\"type\":\"bar\",\"xaxis\":\"x9\",\"yaxis\":\"y9\"},{\"marker\":{\"color\":\"#CC79A7\"},\"orientation\":\"h\",\"x\":[0.007383300743087802,0.007746243185984578,0.00852658059189823,0.009247284970540028,0.011976133368365902],\"y\":[\"said  \",\"drugs  \",\"people  \",\"health  \",\"drug  \"],\"type\":\"bar\",\"xaxis\":\"x10\",\"yaxis\":\"y10\"},{\"marker\":{\"color\":\"#E69F00\"},\"orientation\":\"h\",\"x\":[0.01152301238267995,0.011817616661045291,0.017586632331752505,0.02364519029228697,0.024679217643912545],\"y\":[\"saudi arabia  \",\"arabia  \",\"said  \",\"iran  \",\"saudi  \"],\"type\":\"bar\",\"xaxis\":\"x11\",\"yaxis\":\"y11\"},{\"marker\":{\"color\":\"#56B4E9\"},\"orientation\":\"h\",\"x\":[0.009073004307056473,0.009870346481335746,0.011223359479469992,0.012946173512042605,0.0147378989566607],\"y\":[\"kourtney  \",\"jenner  \",\"kylie  \",\"shes  \",\"kardashian  \"],\"type\":\"bar\",\"xaxis\":\"x12\",\"yaxis\":\"y12\"},{\"marker\":{\"color\":\"#009E73\"},\"orientation\":\"h\",\"x\":[0.010429309919985258,0.010659085617530073,0.011988798883787361,0.012397817828900908,0.019971547679933272],\"y\":[\"police  \",\"told  \",\"arrested  \",\"says  \",\"cops  \"],\"type\":\"bar\",\"xaxis\":\"x13\",\"yaxis\":\"y13\"},{\"marker\":{\"color\":\"#F0E442\"},\"orientation\":\"h\",\"x\":[0.015170479808919357,0.017312924373968207,0.017452491697222433,0.022173234086483282,0.04100189593030651],\"y\":[\"said  \",\"britain  \",\"parliament  \",\"deal  \",\"brexit  \"],\"type\":\"bar\",\"xaxis\":\"x14\",\"yaxis\":\"y14\"},{\"marker\":{\"color\":\"#D55E00\"},\"orientation\":\"h\",\"x\":[0.00863577190525468,0.009220086946089655,0.011044995059419247,0.012411467263848959,0.013585389248661936],\"y\":[\"show  \",\"movie  \",\"film  \",\"episode  \",\"season  \"],\"type\":\"bar\",\"xaxis\":\"x15\",\"yaxis\":\"y15\"},{\"marker\":{\"color\":\"#0072B2\"},\"orientation\":\"h\",\"x\":[0.006001655415743616,0.006202213640517823,0.006551901384226511,0.008256110644454534,0.015891080102574503],\"y\":[\"make  \",\"meat  \",\"people  \",\"like  \",\"food  \"],\"type\":\"bar\",\"xaxis\":\"x16\",\"yaxis\":\"y16\"},{\"marker\":{\"color\":\"#CC79A7\"},\"orientation\":\"h\",\"x\":[0.011102730632402968,0.011735217644458023,0.014098040979346258,0.014305120016790646,0.027683386158376365],\"y\":[\"said  \",\"cars  \",\"company  \",\"tesla  \",\"uber  \"],\"type\":\"bar\",\"xaxis\":\"x17\",\"yaxis\":\"y17\"},{\"marker\":{\"color\":\"#E69F00\"},\"orientation\":\"h\",\"x\":[0.022175004832517466,0.028124377945942514,0.036325154860713256,0.047994288511752976,0.05470211062831343],\"y\":[\"south  \",\"korean  \",\"north korea  \",\"korea  \",\"north  \"],\"type\":\"bar\",\"xaxis\":\"x18\",\"yaxis\":\"y18\"},{\"marker\":{\"color\":\"#56B4E9\"},\"orientation\":\"h\",\"x\":[0.013278076207816849,0.013688127571594712,0.015321069836425725,0.01597839899683389,0.017406976275244703],\"y\":[\"islamic  \",\"said  \",\"turkey  \",\"syria  \",\"syrian  \"],\"type\":\"bar\",\"xaxis\":\"x19\",\"yaxis\":\"y19\"},{\"marker\":{\"color\":\"#009E73\"},\"orientation\":\"h\",\"x\":[0.009763130573071361,0.009890789250905413,0.012043331337571702,0.013710286099989274,0.01613031548680163],\"y\":[\"europe  \",\"migrants  \",\"italy  \",\"said  \",\"european  \"],\"type\":\"bar\",\"xaxis\":\"x20\",\"yaxis\":\"y20\"}],                        {\"template\":{\"data\":{\"barpolar\":[{\"marker\":{\"line\":{\"color\":\"white\",\"width\":0.5},\"pattern\":{\"fillmode\":\"overlay\",\"size\":10,\"solidity\":0.2}},\"type\":\"barpolar\"}],\"bar\":[{\"error_x\":{\"color\":\"#2a3f5f\"},\"error_y\":{\"color\":\"#2a3f5f\"},\"marker\":{\"line\":{\"color\":\"white\",\"width\":0.5},\"pattern\":{\"fillmode\":\"overlay\",\"size\":10,\"solidity\":0.2}},\"type\":\"bar\"}],\"carpet\":[{\"aaxis\":{\"endlinecolor\":\"#2a3f5f\",\"gridcolor\":\"#C8D4E3\",\"linecolor\":\"#C8D4E3\",\"minorgridcolor\":\"#C8D4E3\",\"startlinecolor\":\"#2a3f5f\"},\"baxis\":{\"endlinecolor\":\"#2a3f5f\",\"gridcolor\":\"#C8D4E3\",\"linecolor\":\"#C8D4E3\",\"minorgridcolor\":\"#C8D4E3\",\"startlinecolor\":\"#2a3f5f\"},\"type\":\"carpet\"}],\"choropleth\":[{\"colorbar\":{\"outlinewidth\":0,\"ticks\":\"\"},\"type\":\"choropleth\"}],\"contourcarpet\":[{\"colorbar\":{\"outlinewidth\":0,\"ticks\":\"\"},\"type\":\"contourcarpet\"}],\"contour\":[{\"colorbar\":{\"outlinewidth\":0,\"ticks\":\"\"},\"colorscale\":[[0.0,\"#0d0887\"],[0.1111111111111111,\"#46039f\"],[0.2222222222222222,\"#7201a8\"],[0.3333333333333333,\"#9c179e\"],[0.4444444444444444,\"#bd3786\"],[0.5555555555555556,\"#d8576b\"],[0.6666666666666666,\"#ed7953\"],[0.7777777777777778,\"#fb9f3a\"],[0.8888888888888888,\"#fdca26\"],[1.0,\"#f0f921\"]],\"type\":\"contour\"}],\"heatmapgl\":[{\"colorbar\":{\"outlinewidth\":0,\"ticks\":\"\"},\"colorscale\":[[0.0,\"#0d0887\"],[0.1111111111111111,\"#46039f\"],[0.2222222222222222,\"#7201a8\"],[0.3333333333333333,\"#9c179e\"],[0.4444444444444444,\"#bd3786\"],[0.5555555555555556,\"#d8576b\"],[0.6666666666666666,\"#ed7953\"],[0.7777777777777778,\"#fb9f3a\"],[0.8888888888888888,\"#fdca26\"],[1.0,\"#f0f921\"]],\"type\":\"heatmapgl\"}],\"heatmap\":[{\"colorbar\":{\"outlinewidth\":0,\"ticks\":\"\"},\"colorscale\":[[0.0,\"#0d0887\"],[0.1111111111111111,\"#46039f\"],[0.2222222222222222,\"#7201a8\"],[0.3333333333333333,\"#9c179e\"],[0.4444444444444444,\"#bd3786\"],[0.5555555555555556,\"#d8576b\"],[0.6666666666666666,\"#ed7953\"],[0.7777777777777778,\"#fb9f3a\"],[0.8888888888888888,\"#fdca26\"],[1.0,\"#f0f921\"]],\"type\":\"heatmap\"}],\"histogram2dcontour\":[{\"colorbar\":{\"outlinewidth\":0,\"ticks\":\"\"},\"colorscale\":[[0.0,\"#0d0887\"],[0.1111111111111111,\"#46039f\"],[0.2222222222222222,\"#7201a8\"],[0.3333333333333333,\"#9c179e\"],[0.4444444444444444,\"#bd3786\"],[0.5555555555555556,\"#d8576b\"],[0.6666666666666666,\"#ed7953\"],[0.7777777777777778,\"#fb9f3a\"],[0.8888888888888888,\"#fdca26\"],[1.0,\"#f0f921\"]],\"type\":\"histogram2dcontour\"}],\"histogram2d\":[{\"colorbar\":{\"outlinewidth\":0,\"ticks\":\"\"},\"colorscale\":[[0.0,\"#0d0887\"],[0.1111111111111111,\"#46039f\"],[0.2222222222222222,\"#7201a8\"],[0.3333333333333333,\"#9c179e\"],[0.4444444444444444,\"#bd3786\"],[0.5555555555555556,\"#d8576b\"],[0.6666666666666666,\"#ed7953\"],[0.7777777777777778,\"#fb9f3a\"],[0.8888888888888888,\"#fdca26\"],[1.0,\"#f0f921\"]],\"type\":\"histogram2d\"}],\"histogram\":[{\"marker\":{\"pattern\":{\"fillmode\":\"overlay\",\"size\":10,\"solidity\":0.2}},\"type\":\"histogram\"}],\"mesh3d\":[{\"colorbar\":{\"outlinewidth\":0,\"ticks\":\"\"},\"type\":\"mesh3d\"}],\"parcoords\":[{\"line\":{\"colorbar\":{\"outlinewidth\":0,\"ticks\":\"\"}},\"type\":\"parcoords\"}],\"pie\":[{\"automargin\":true,\"type\":\"pie\"}],\"scatter3d\":[{\"line\":{\"colorbar\":{\"outlinewidth\":0,\"ticks\":\"\"}},\"marker\":{\"colorbar\":{\"outlinewidth\":0,\"ticks\":\"\"}},\"type\":\"scatter3d\"}],\"scattercarpet\":[{\"marker\":{\"colorbar\":{\"outlinewidth\":0,\"ticks\":\"\"}},\"type\":\"scattercarpet\"}],\"scattergeo\":[{\"marker\":{\"colorbar\":{\"outlinewidth\":0,\"ticks\":\"\"}},\"type\":\"scattergeo\"}],\"scattergl\":[{\"marker\":{\"colorbar\":{\"outlinewidth\":0,\"ticks\":\"\"}},\"type\":\"scattergl\"}],\"scattermapbox\":[{\"marker\":{\"colorbar\":{\"outlinewidth\":0,\"ticks\":\"\"}},\"type\":\"scattermapbox\"}],\"scatterpolargl\":[{\"marker\":{\"colorbar\":{\"outlinewidth\":0,\"ticks\":\"\"}},\"type\":\"scatterpolargl\"}],\"scatterpolar\":[{\"marker\":{\"colorbar\":{\"outlinewidth\":0,\"ticks\":\"\"}},\"type\":\"scatterpolar\"}],\"scatter\":[{\"marker\":{\"colorbar\":{\"outlinewidth\":0,\"ticks\":\"\"}},\"type\":\"scatter\"}],\"scatterternary\":[{\"marker\":{\"colorbar\":{\"outlinewidth\":0,\"ticks\":\"\"}},\"type\":\"scatterternary\"}],\"surface\":[{\"colorbar\":{\"outlinewidth\":0,\"ticks\":\"\"},\"colorscale\":[[0.0,\"#0d0887\"],[0.1111111111111111,\"#46039f\"],[0.2222222222222222,\"#7201a8\"],[0.3333333333333333,\"#9c179e\"],[0.4444444444444444,\"#bd3786\"],[0.5555555555555556,\"#d8576b\"],[0.6666666666666666,\"#ed7953\"],[0.7777777777777778,\"#fb9f3a\"],[0.8888888888888888,\"#fdca26\"],[1.0,\"#f0f921\"]],\"type\":\"surface\"}],\"table\":[{\"cells\":{\"fill\":{\"color\":\"#EBF0F8\"},\"line\":{\"color\":\"white\"}},\"header\":{\"fill\":{\"color\":\"#C8D4E3\"},\"line\":{\"color\":\"white\"}},\"type\":\"table\"}]},\"layout\":{\"annotationdefaults\":{\"arrowcolor\":\"#2a3f5f\",\"arrowhead\":0,\"arrowwidth\":1},\"autotypenumbers\":\"strict\",\"coloraxis\":{\"colorbar\":{\"outlinewidth\":0,\"ticks\":\"\"}},\"colorscale\":{\"diverging\":[[0,\"#8e0152\"],[0.1,\"#c51b7d\"],[0.2,\"#de77ae\"],[0.3,\"#f1b6da\"],[0.4,\"#fde0ef\"],[0.5,\"#f7f7f7\"],[0.6,\"#e6f5d0\"],[0.7,\"#b8e186\"],[0.8,\"#7fbc41\"],[0.9,\"#4d9221\"],[1,\"#276419\"]],\"sequential\":[[0.0,\"#0d0887\"],[0.1111111111111111,\"#46039f\"],[0.2222222222222222,\"#7201a8\"],[0.3333333333333333,\"#9c179e\"],[0.4444444444444444,\"#bd3786\"],[0.5555555555555556,\"#d8576b\"],[0.6666666666666666,\"#ed7953\"],[0.7777777777777778,\"#fb9f3a\"],[0.8888888888888888,\"#fdca26\"],[1.0,\"#f0f921\"]],\"sequentialminus\":[[0.0,\"#0d0887\"],[0.1111111111111111,\"#46039f\"],[0.2222222222222222,\"#7201a8\"],[0.3333333333333333,\"#9c179e\"],[0.4444444444444444,\"#bd3786\"],[0.5555555555555556,\"#d8576b\"],[0.6666666666666666,\"#ed7953\"],[0.7777777777777778,\"#fb9f3a\"],[0.8888888888888888,\"#fdca26\"],[1.0,\"#f0f921\"]]},\"colorway\":[\"#636efa\",\"#EF553B\",\"#00cc96\",\"#ab63fa\",\"#FFA15A\",\"#19d3f3\",\"#FF6692\",\"#B6E880\",\"#FF97FF\",\"#FECB52\"],\"font\":{\"color\":\"#2a3f5f\"},\"geo\":{\"bgcolor\":\"white\",\"lakecolor\":\"white\",\"landcolor\":\"white\",\"showlakes\":true,\"showland\":true,\"subunitcolor\":\"#C8D4E3\"},\"hoverlabel\":{\"align\":\"left\"},\"hovermode\":\"closest\",\"mapbox\":{\"style\":\"light\"},\"paper_bgcolor\":\"white\",\"plot_bgcolor\":\"white\",\"polar\":{\"angularaxis\":{\"gridcolor\":\"#EBF0F8\",\"linecolor\":\"#EBF0F8\",\"ticks\":\"\"},\"bgcolor\":\"white\",\"radialaxis\":{\"gridcolor\":\"#EBF0F8\",\"linecolor\":\"#EBF0F8\",\"ticks\":\"\"}},\"scene\":{\"xaxis\":{\"backgroundcolor\":\"white\",\"gridcolor\":\"#DFE8F3\",\"gridwidth\":2,\"linecolor\":\"#EBF0F8\",\"showbackground\":true,\"ticks\":\"\",\"zerolinecolor\":\"#EBF0F8\"},\"yaxis\":{\"backgroundcolor\":\"white\",\"gridcolor\":\"#DFE8F3\",\"gridwidth\":2,\"linecolor\":\"#EBF0F8\",\"showbackground\":true,\"ticks\":\"\",\"zerolinecolor\":\"#EBF0F8\"},\"zaxis\":{\"backgroundcolor\":\"white\",\"gridcolor\":\"#DFE8F3\",\"gridwidth\":2,\"linecolor\":\"#EBF0F8\",\"showbackground\":true,\"ticks\":\"\",\"zerolinecolor\":\"#EBF0F8\"}},\"shapedefaults\":{\"line\":{\"color\":\"#2a3f5f\"}},\"ternary\":{\"aaxis\":{\"gridcolor\":\"#DFE8F3\",\"linecolor\":\"#A2B1C6\",\"ticks\":\"\"},\"baxis\":{\"gridcolor\":\"#DFE8F3\",\"linecolor\":\"#A2B1C6\",\"ticks\":\"\"},\"bgcolor\":\"white\",\"caxis\":{\"gridcolor\":\"#DFE8F3\",\"linecolor\":\"#A2B1C6\",\"ticks\":\"\"}},\"title\":{\"x\":0.05},\"xaxis\":{\"automargin\":true,\"gridcolor\":\"#EBF0F8\",\"linecolor\":\"#EBF0F8\",\"ticks\":\"\",\"title\":{\"standoff\":15},\"zerolinecolor\":\"#EBF0F8\",\"zerolinewidth\":2},\"yaxis\":{\"automargin\":true,\"gridcolor\":\"#EBF0F8\",\"linecolor\":\"#EBF0F8\",\"ticks\":\"\",\"title\":{\"standoff\":15},\"zerolinecolor\":\"#EBF0F8\",\"zerolinewidth\":2}}},\"xaxis\":{\"anchor\":\"y\",\"domain\":[0.0,0.175],\"showgrid\":true},\"yaxis\":{\"anchor\":\"x\",\"domain\":[0.8639999999999999,0.9999999999999999],\"showgrid\":true},\"xaxis2\":{\"anchor\":\"y2\",\"domain\":[0.275,0.45],\"showgrid\":true},\"yaxis2\":{\"anchor\":\"x2\",\"domain\":[0.8639999999999999,0.9999999999999999],\"showgrid\":true},\"xaxis3\":{\"anchor\":\"y3\",\"domain\":[0.55,0.7250000000000001],\"showgrid\":true},\"yaxis3\":{\"anchor\":\"x3\",\"domain\":[0.8639999999999999,0.9999999999999999],\"showgrid\":true},\"xaxis4\":{\"anchor\":\"y4\",\"domain\":[0.825,1.0],\"showgrid\":true},\"yaxis4\":{\"anchor\":\"x4\",\"domain\":[0.8639999999999999,0.9999999999999999],\"showgrid\":true},\"xaxis5\":{\"anchor\":\"y5\",\"domain\":[0.0,0.175],\"showgrid\":true},\"yaxis5\":{\"anchor\":\"x5\",\"domain\":[0.6479999999999999,0.7839999999999999],\"showgrid\":true},\"xaxis6\":{\"anchor\":\"y6\",\"domain\":[0.275,0.45],\"showgrid\":true},\"yaxis6\":{\"anchor\":\"x6\",\"domain\":[0.6479999999999999,0.7839999999999999],\"showgrid\":true},\"xaxis7\":{\"anchor\":\"y7\",\"domain\":[0.55,0.7250000000000001],\"showgrid\":true},\"yaxis7\":{\"anchor\":\"x7\",\"domain\":[0.6479999999999999,0.7839999999999999],\"showgrid\":true},\"xaxis8\":{\"anchor\":\"y8\",\"domain\":[0.825,1.0],\"showgrid\":true},\"yaxis8\":{\"anchor\":\"x8\",\"domain\":[0.6479999999999999,0.7839999999999999],\"showgrid\":true},\"xaxis9\":{\"anchor\":\"y9\",\"domain\":[0.0,0.175],\"showgrid\":true},\"yaxis9\":{\"anchor\":\"x9\",\"domain\":[0.43199999999999994,0.568],\"showgrid\":true},\"xaxis10\":{\"anchor\":\"y10\",\"domain\":[0.275,0.45],\"showgrid\":true},\"yaxis10\":{\"anchor\":\"x10\",\"domain\":[0.43199999999999994,0.568],\"showgrid\":true},\"xaxis11\":{\"anchor\":\"y11\",\"domain\":[0.55,0.7250000000000001],\"showgrid\":true},\"yaxis11\":{\"anchor\":\"x11\",\"domain\":[0.43199999999999994,0.568],\"showgrid\":true},\"xaxis12\":{\"anchor\":\"y12\",\"domain\":[0.825,1.0],\"showgrid\":true},\"yaxis12\":{\"anchor\":\"x12\",\"domain\":[0.43199999999999994,0.568],\"showgrid\":true},\"xaxis13\":{\"anchor\":\"y13\",\"domain\":[0.0,0.175],\"showgrid\":true},\"yaxis13\":{\"anchor\":\"x13\",\"domain\":[0.21599999999999997,0.352],\"showgrid\":true},\"xaxis14\":{\"anchor\":\"y14\",\"domain\":[0.275,0.45],\"showgrid\":true},\"yaxis14\":{\"anchor\":\"x14\",\"domain\":[0.21599999999999997,0.352],\"showgrid\":true},\"xaxis15\":{\"anchor\":\"y15\",\"domain\":[0.55,0.7250000000000001],\"showgrid\":true},\"yaxis15\":{\"anchor\":\"x15\",\"domain\":[0.21599999999999997,0.352],\"showgrid\":true},\"xaxis16\":{\"anchor\":\"y16\",\"domain\":[0.825,1.0],\"showgrid\":true},\"yaxis16\":{\"anchor\":\"x16\",\"domain\":[0.21599999999999997,0.352],\"showgrid\":true},\"xaxis17\":{\"anchor\":\"y17\",\"domain\":[0.0,0.175],\"showgrid\":true},\"yaxis17\":{\"anchor\":\"x17\",\"domain\":[0.0,0.13599999999999998],\"showgrid\":true},\"xaxis18\":{\"anchor\":\"y18\",\"domain\":[0.275,0.45],\"showgrid\":true},\"yaxis18\":{\"anchor\":\"x18\",\"domain\":[0.0,0.13599999999999998],\"showgrid\":true},\"xaxis19\":{\"anchor\":\"y19\",\"domain\":[0.55,0.7250000000000001],\"showgrid\":true},\"yaxis19\":{\"anchor\":\"x19\",\"domain\":[0.0,0.13599999999999998],\"showgrid\":true},\"xaxis20\":{\"anchor\":\"y20\",\"domain\":[0.825,1.0],\"showgrid\":true},\"yaxis20\":{\"anchor\":\"x20\",\"domain\":[0.0,0.13599999999999998],\"showgrid\":true},\"annotations\":[{\"font\":{\"size\":16},\"showarrow\":false,\"text\":\"Topic 0\",\"x\":0.0875,\"xanchor\":\"center\",\"xref\":\"paper\",\"y\":0.9999999999999999,\"yanchor\":\"bottom\",\"yref\":\"paper\"},{\"font\":{\"size\":16},\"showarrow\":false,\"text\":\"Topic 1\",\"x\":0.36250000000000004,\"xanchor\":\"center\",\"xref\":\"paper\",\"y\":0.9999999999999999,\"yanchor\":\"bottom\",\"yref\":\"paper\"},{\"font\":{\"size\":16},\"showarrow\":false,\"text\":\"Topic 2\",\"x\":0.6375000000000001,\"xanchor\":\"center\",\"xref\":\"paper\",\"y\":0.9999999999999999,\"yanchor\":\"bottom\",\"yref\":\"paper\"},{\"font\":{\"size\":16},\"showarrow\":false,\"text\":\"Topic 3\",\"x\":0.9125,\"xanchor\":\"center\",\"xref\":\"paper\",\"y\":0.9999999999999999,\"yanchor\":\"bottom\",\"yref\":\"paper\"},{\"font\":{\"size\":16},\"showarrow\":false,\"text\":\"Topic 4\",\"x\":0.0875,\"xanchor\":\"center\",\"xref\":\"paper\",\"y\":0.7839999999999999,\"yanchor\":\"bottom\",\"yref\":\"paper\"},{\"font\":{\"size\":16},\"showarrow\":false,\"text\":\"Topic 5\",\"x\":0.36250000000000004,\"xanchor\":\"center\",\"xref\":\"paper\",\"y\":0.7839999999999999,\"yanchor\":\"bottom\",\"yref\":\"paper\"},{\"font\":{\"size\":16},\"showarrow\":false,\"text\":\"Topic 6\",\"x\":0.6375000000000001,\"xanchor\":\"center\",\"xref\":\"paper\",\"y\":0.7839999999999999,\"yanchor\":\"bottom\",\"yref\":\"paper\"},{\"font\":{\"size\":16},\"showarrow\":false,\"text\":\"Topic 7\",\"x\":0.9125,\"xanchor\":\"center\",\"xref\":\"paper\",\"y\":0.7839999999999999,\"yanchor\":\"bottom\",\"yref\":\"paper\"},{\"font\":{\"size\":16},\"showarrow\":false,\"text\":\"Topic 8\",\"x\":0.0875,\"xanchor\":\"center\",\"xref\":\"paper\",\"y\":0.568,\"yanchor\":\"bottom\",\"yref\":\"paper\"},{\"font\":{\"size\":16},\"showarrow\":false,\"text\":\"Topic 9\",\"x\":0.36250000000000004,\"xanchor\":\"center\",\"xref\":\"paper\",\"y\":0.568,\"yanchor\":\"bottom\",\"yref\":\"paper\"},{\"font\":{\"size\":16},\"showarrow\":false,\"text\":\"Topic 10\",\"x\":0.6375000000000001,\"xanchor\":\"center\",\"xref\":\"paper\",\"y\":0.568,\"yanchor\":\"bottom\",\"yref\":\"paper\"},{\"font\":{\"size\":16},\"showarrow\":false,\"text\":\"Topic 11\",\"x\":0.9125,\"xanchor\":\"center\",\"xref\":\"paper\",\"y\":0.568,\"yanchor\":\"bottom\",\"yref\":\"paper\"},{\"font\":{\"size\":16},\"showarrow\":false,\"text\":\"Topic 12\",\"x\":0.0875,\"xanchor\":\"center\",\"xref\":\"paper\",\"y\":0.352,\"yanchor\":\"bottom\",\"yref\":\"paper\"},{\"font\":{\"size\":16},\"showarrow\":false,\"text\":\"Topic 13\",\"x\":0.36250000000000004,\"xanchor\":\"center\",\"xref\":\"paper\",\"y\":0.352,\"yanchor\":\"bottom\",\"yref\":\"paper\"},{\"font\":{\"size\":16},\"showarrow\":false,\"text\":\"Topic 14\",\"x\":0.6375000000000001,\"xanchor\":\"center\",\"xref\":\"paper\",\"y\":0.352,\"yanchor\":\"bottom\",\"yref\":\"paper\"},{\"font\":{\"size\":16},\"showarrow\":false,\"text\":\"Topic 15\",\"x\":0.9125,\"xanchor\":\"center\",\"xref\":\"paper\",\"y\":0.352,\"yanchor\":\"bottom\",\"yref\":\"paper\"},{\"font\":{\"size\":16},\"showarrow\":false,\"text\":\"Topic 16\",\"x\":0.0875,\"xanchor\":\"center\",\"xref\":\"paper\",\"y\":0.13599999999999998,\"yanchor\":\"bottom\",\"yref\":\"paper\"},{\"font\":{\"size\":16},\"showarrow\":false,\"text\":\"Topic 17\",\"x\":0.36250000000000004,\"xanchor\":\"center\",\"xref\":\"paper\",\"y\":0.13599999999999998,\"yanchor\":\"bottom\",\"yref\":\"paper\"},{\"font\":{\"size\":16},\"showarrow\":false,\"text\":\"Topic 18\",\"x\":0.6375000000000001,\"xanchor\":\"center\",\"xref\":\"paper\",\"y\":0.13599999999999998,\"yanchor\":\"bottom\",\"yref\":\"paper\"},{\"font\":{\"size\":16},\"showarrow\":false,\"text\":\"Topic 19\",\"x\":0.9125,\"xanchor\":\"center\",\"xref\":\"paper\",\"y\":0.13599999999999998,\"yanchor\":\"bottom\",\"yref\":\"paper\"}],\"title\":{\"font\":{\"size\":22,\"color\":\"Black\"},\"text\":\"<b>Topic Word Scores\",\"x\":0.5,\"xanchor\":\"center\",\"yanchor\":\"top\"},\"hoverlabel\":{\"font\":{\"size\":16,\"family\":\"Rockwell\"},\"bgcolor\":\"white\"},\"showlegend\":false,\"width\":1000,\"height\":1250},                        {\"responsive\": true}                    ).then(function(){\n",
              "                            \n",
              "var gd = document.getElementById('a5ad4abc-2e12-4982-9f5d-263b66ed133b');\n",
              "var x = new MutationObserver(function (mutations, observer) {{\n",
              "        var display = window.getComputedStyle(gd).display;\n",
              "        if (!display || display === 'none') {{\n",
              "            console.log([gd, 'removed!']);\n",
              "            Plotly.purge(gd);\n",
              "            observer.disconnect();\n",
              "        }}\n",
              "}});\n",
              "\n",
              "// Listen for the removal of the full notebook cells\n",
              "var notebookContainer = gd.closest('#notebook-container');\n",
              "if (notebookContainer) {{\n",
              "    x.observe(notebookContainer, {childList: true});\n",
              "}}\n",
              "\n",
              "// Listen for the clearing of the current output cell\n",
              "var outputEl = gd.closest('.output');\n",
              "if (outputEl) {{\n",
              "    x.observe(outputEl, {childList: true});\n",
              "}}\n",
              "\n",
              "                        })                };                            </script>        </div>\n",
              "</body>\n",
              "</html>"
            ]
          },
          "metadata": {}
        }
      ]
    },
    {
      "cell_type": "code",
      "source": [
        "topics_over_time = topic_model.topics_over_time(articles, topics, dates, nr_bins=20)\n"
      ],
      "metadata": {
        "colab": {
          "base_uri": "https://localhost:8080/"
        },
        "id": "Rfuz5vBYL9wj",
        "outputId": "f967791f-acc0-4e8e-b47f-2d9d07cf73af"
      },
      "execution_count": null,
      "outputs": [
        {
          "output_type": "stream",
          "name": "stderr",
          "text": [
            "20it [1:01:42, 185.10s/it]\n"
          ]
        }
      ]
    },
    {
      "cell_type": "code",
      "source": [
        "topic_model.visualize_topics_over_time(topics_over_time, top_n_topics=20)\n"
      ],
      "metadata": {
        "colab": {
          "base_uri": "https://localhost:8080/",
          "height": 487
        },
        "id": "yWFyVzsLeDs_",
        "outputId": "68cf1199-d032-49a7-9f30-4bf0d15d96a0"
      },
      "execution_count": null,
      "outputs": [
        {
          "output_type": "display_data",
          "data": {
            "text/html": [
              "<html>\n",
              "<head><meta charset=\"utf-8\" /></head>\n",
              "<body>\n",
              "    <div>            <script src=\"https://cdnjs.cloudflare.com/ajax/libs/mathjax/2.7.5/MathJax.js?config=TeX-AMS-MML_SVG\"></script><script type=\"text/javascript\">if (window.MathJax) {MathJax.Hub.Config({SVG: {font: \"STIX-Web\"}});}</script>                <script type=\"text/javascript\">window.PlotlyConfig = {MathJaxConfig: 'local'};</script>\n",
              "        <script src=\"https://cdn.plot.ly/plotly-2.8.3.min.js\"></script>                <div id=\"e661e3d5-3fd7-4785-ae66-0a59960ffadb\" class=\"plotly-graph-div\" style=\"height:450px; width:1250px;\"></div>            <script type=\"text/javascript\">                                    window.PLOTLYENV=window.PLOTLYENV || {};                                    if (document.getElementById(\"e661e3d5-3fd7-4785-ae66-0a59960ffadb\")) {                    Plotly.newPlot(                        \"e661e3d5-3fd7-4785-ae66-0a59960ffadb\",                        [{\"hoverinfo\":\"text\",\"hovertext\":[\"<b>Topic 0</b><br>Words: trump, cruz, clinton, sanders, said\",\"<b>Topic 0</b><br>Words: trump, sanders, clinton, said, party\",\"<b>Topic 0</b><br>Words: trump, said, clinton, campaign, republican\",\"<b>Topic 0</b><br>Words: trump, clinton, campaign, said, republican\",\"<b>Topic 0</b><br>Words: trump, clinton, would, election, president\",\"<b>Topic 0</b><br>Words: trump, said, trumps, would, president\",\"<b>Topic 0</b><br>Words: trump, president, trumps, would, house\",\"<b>Topic 0</b><br>Words: trump, president, house, trumps, said\",\"<b>Topic 0</b><br>Words: trump, president, would, said, bill\",\"<b>Topic 0</b><br>Words: trump, would, president, said, bill\",\"<b>Topic 0</b><br>Words: trump, house, bill, said, would\",\"<b>Topic 0</b><br>Words: trump, house, president, said, democrats\",\"<b>Topic 0</b><br>Words: trump, said, president, house, would\",\"<b>Topic 0</b><br>Words: trump, said, president, republican, would\",\"<b>Topic 0</b><br>Words: trump, said, president, trumps, house\",\"<b>Topic 0</b><br>Words: trump, said, president, trumps, would\",\"<b>Topic 0</b><br>Words: trump, democrats, house, president, said\",\"<b>Topic 0</b><br>Words: trump, said, president, government, house\",\"<b>Topic 0</b><br>Words: trump, president, said, house, trumps\",\"<b>Topic 0</b><br>Words: trump, said, president, house, would\"],\"marker\":{\"color\":\"#E69F00\"},\"mode\":\"lines\",\"name\":\"0_trump_said_president_would\",\"x\":[\"2015-12-31T07:36:09\",\"2016-03-05T23:22:30\",\"2016-05-09T08:15:00\",\"2016-07-12T17:07:30\",\"2016-09-15T02:00:00\",\"2016-11-18T10:52:30\",\"2017-01-21T19:45:00\",\"2017-03-27T04:37:30\",\"2017-05-30T13:30:00\",\"2017-08-02T22:22:30\",\"2017-10-06T07:15:00\",\"2017-12-09T16:07:30\",\"2018-02-12T01:00:00\",\"2018-04-17T09:52:30\",\"2018-06-20T18:45:00\",\"2018-08-24T03:37:30\",\"2018-10-27T12:30:00\",\"2018-12-30T21:22:30\",\"2019-03-05T06:15:00\",\"2019-05-08T15:07:30\"],\"y\":[74,59,48,59,101,81,88,78,75,62,84,90,86,68,96,66,93,79,78,130],\"type\":\"scatter\"},{\"hoverinfo\":\"text\",\"hovertext\":[\"<b>Topic 1</b><br>Words: billion, china, percent, said, trade\",\"<b>Topic 1</b><br>Words: china, chinese, said, bank, year\",\"<b>Topic 1</b><br>Words: said, valeant, wall street, china, springer\",\"<b>Topic 1</b><br>Words: china, philippines, said, paulson, islands\",\"<b>Topic 1</b><br>Words: space, deep space, deep space industries, space industries, mining\",\"<b>Topic 1</b><br>Words: china, trade, tariffs, said, trump\",\"<b>Topic 1</b><br>Words: china, currency, said, chinese, trade\",\"<b>Topic 1</b><br>Words: growth, carried interest, financial, financial managers, interest\",\"<b>Topic 1</b><br>Words: said, trade, reputation, china, steel\",\"<b>Topic 1</b><br>Words: percent, growth, said, spanish, catalan\",\"<b>Topic 1</b><br>Words: said, percent, fsco, china, reuters\",\"<b>Topic 1</b><br>Words: china, said, trade, percent, chinese\",\"<b>Topic 1</b><br>Words: trade, said, china, tariffs, percent\",\"<b>Topic 1</b><br>Words: trade, said, china, tariffs, percent\",\"<b>Topic 1</b><br>Words: tariffs, trade, said, china, percent\",\"<b>Topic 1</b><br>Words: said, china, percent, trade, billion\",\"<b>Topic 1</b><br>Words: said, china, trade, chinese, percent\",\"<b>Topic 1</b><br>Words: china, trade, said, percent, chinese\",\"<b>Topic 1</b><br>Words: said, percent, china, trade, year\",\"<b>Topic 1</b><br>Words: said, trade, china, reuters, bank\"],\"marker\":{\"color\":\"#56B4E9\"},\"mode\":\"lines\",\"name\":\"1_said_china_trade_chinese\",\"x\":[\"2015-12-31T07:36:09\",\"2016-03-05T23:22:30\",\"2016-05-09T08:15:00\",\"2016-07-12T17:07:30\",\"2016-09-15T02:00:00\",\"2016-11-18T10:52:30\",\"2017-01-21T19:45:00\",\"2017-03-27T04:37:30\",\"2017-05-30T13:30:00\",\"2017-08-02T22:22:30\",\"2017-10-06T07:15:00\",\"2017-12-09T16:07:30\",\"2018-02-12T01:00:00\",\"2018-04-17T09:52:30\",\"2018-06-20T18:45:00\",\"2018-08-24T03:37:30\",\"2018-10-27T12:30:00\",\"2018-12-30T21:22:30\",\"2019-03-05T06:15:00\",\"2019-05-08T15:07:30\"],\"y\":[8,8,7,8,7,9,6,3,10,3,20,17,45,29,32,30,35,30,27,436],\"type\":\"scatter\"},{\"hoverinfo\":\"text\",\"hovertext\":[\"<b>Topic 2</b><br>Words: company, apple, google, facebook, said\",\"<b>Topic 2</b><br>Words: apple, company, information, google, amazon\",\"<b>Topic 2</b><br>Words: software, facebook, google, company, companies\",\"<b>Topic 2</b><br>Words: like, think, apple, company, yahoo\",\"<b>Topic 2</b><br>Words: company, apple, facebook, said, like\",\"<b>Topic 2</b><br>Words: facebook, apple, company, news, google\",\"<b>Topic 2</b><br>Words: company, like, think, facebook, thats\",\"<b>Topic 2</b><br>Words: galaxy, facebook, company, users, next\",\"<b>Topic 2</b><br>Words: facebook, company, apple, data, google\",\"<b>Topic 2</b><br>Words: facebook, company, apple, google, amazon\",\"<b>Topic 2</b><br>Words: facebook, apple, company, companies, amazon\",\"<b>Topic 2</b><br>Words: apple, iphone, facebook, company, freenet\",\"<b>Topic 2</b><br>Words: facebook, company, data, information, zuckerberg\",\"<b>Topic 2</b><br>Words: think, company, facebook, right, business\",\"<b>Topic 2</b><br>Words: company, data, nextdoor, tolia, facebook\",\"<b>Topic 2</b><br>Words: think, data, facebook, company, people\",\"<b>Topic 2</b><br>Words: amazon, facebook, data, company, google\",\"<b>Topic 2</b><br>Words: facebook, whatsapp, companies, company, local\",\"<b>Topic 2</b><br>Words: facebook, company, companies, apple, like\",\"<b>Topic 2</b><br>Words: said, company, dorsey, facebook, amazon\"],\"marker\":{\"color\":\"#009E73\"},\"mode\":\"lines\",\"name\":\"2_facebook_company_apple_like\",\"x\":[\"2015-12-31T07:36:09\",\"2016-03-05T23:22:30\",\"2016-05-09T08:15:00\",\"2016-07-12T17:07:30\",\"2016-09-15T02:00:00\",\"2016-11-18T10:52:30\",\"2017-01-21T19:45:00\",\"2017-03-27T04:37:30\",\"2017-05-30T13:30:00\",\"2017-08-02T22:22:30\",\"2017-10-06T07:15:00\",\"2017-12-09T16:07:30\",\"2018-02-12T01:00:00\",\"2018-04-17T09:52:30\",\"2018-06-20T18:45:00\",\"2018-08-24T03:37:30\",\"2018-10-27T12:30:00\",\"2018-12-30T21:22:30\",\"2019-03-05T06:15:00\",\"2019-05-08T15:07:30\"],\"y\":[34,25,19,26,25,22,19,21,19,21,19,14,28,20,9,14,11,11,13,30],\"type\":\"scatter\"},{\"hoverinfo\":\"text\",\"hovertext\":[\"<b>Topic 3</b><br>Words: museum, artists, popova, work, artist\",\"<b>Topic 3</b><br>Words: work, artists, artist, paintings, exhibition\",\"<b>Topic 3</b><br>Words: artist, work, deeds, artists, exhibition\",\"<b>Topic 3</b><br>Words: artists, work, museum, exhibition, artist\",\"<b>Topic 3</b><br>Words: paintings, work, artists, artist, museum\",\"<b>Topic 3</b><br>Words: artists, museum, work, arts, artist\",\"<b>Topic 3</b><br>Words: work, artists, artist, paintings, exhibition\",\"<b>Topic 3</b><br>Words: artists, work, artist, museum, exhibition\",\"<b>Topic 3</b><br>Words: paintings, work, artist, artists, exhibition\",\"<b>Topic 3</b><br>Words: artist, artists, czanne, munroe, work\",\"<b>Topic 3</b><br>Words: work, artists, exhibition, painting, paintings\",\"<b>Topic 3</b><br>Words: work, artists, paintings, painting, exhibition\",\"<b>Topic 3</b><br>Words: work, artists, artist, exhibition, paintings\",\"<b>Topic 3</b><br>Words: work, artists, artist, exhibition, photographs\",\"<b>Topic 3</b><br>Words: work, artists, museum, artist, detroit\",\"<b>Topic 3</b><br>Words: artists, museum, work, exhibition, artist\",\"<b>Topic 3</b><br>Words: artists, work, exhibition, museum, black\",\"<b>Topic 3</b><br>Words: artists, work, artist, museum, exhibition\",\"<b>Topic 3</b><br>Words: artists, work, exhibition, museum, works\",\"<b>Topic 3</b><br>Words: artists, work, museum, works, candles\"],\"marker\":{\"color\":\"#F0E442\"},\"mode\":\"lines\",\"name\":\"3_artists_work_artist_museum\",\"x\":[\"2015-12-31T07:36:09\",\"2016-03-05T23:22:30\",\"2016-05-09T08:15:00\",\"2016-07-12T17:07:30\",\"2016-09-15T02:00:00\",\"2016-11-18T10:52:30\",\"2017-01-21T19:45:00\",\"2017-03-27T04:37:30\",\"2017-05-30T13:30:00\",\"2017-08-02T22:22:30\",\"2017-10-06T07:15:00\",\"2017-12-09T16:07:30\",\"2018-02-12T01:00:00\",\"2018-04-17T09:52:30\",\"2018-06-20T18:45:00\",\"2018-08-24T03:37:30\",\"2018-10-27T12:30:00\",\"2018-12-30T21:22:30\",\"2019-03-05T06:15:00\",\"2019-05-08T15:07:30\"],\"y\":[12,24,14,26,22,27,23,21,21,10,13,20,16,15,10,19,16,19,24,17],\"type\":\"scatter\"},{\"hoverinfo\":\"text\",\"hovertext\":[\"<b>Topic 4</b><br>Words: music, like, album, song, really\",\"<b>Topic 4</b><br>Words: music, muse, album, like, song\",\"<b>Topic 4</b><br>Words: music, like, album, record, really\",\"<b>Topic 4</b><br>Words: like, music, shit, album, kubo\",\"<b>Topic 4</b><br>Words: music, like, album, song, time\",\"<b>Topic 4</b><br>Words: album, music, like, listen, record\",\"<b>Topic 4</b><br>Words: music, like, album, discogs, record\",\"<b>Topic 4</b><br>Words: music, like, album, song, songs\",\"<b>Topic 4</b><br>Words: album, like, music, jayz, song\",\"<b>Topic 4</b><br>Words: music, album, like, songs, band\",\"<b>Topic 4</b><br>Words: like, song, music, songs, album\",\"<b>Topic 4</b><br>Words: music, like, album, band, nightwish\",\"<b>Topic 4</b><br>Words: music, like, rucci, album, mackk\",\"<b>Topic 4</b><br>Words: music, like, album, kanye, songs\",\"<b>Topic 4</b><br>Words: music, like, album, time, song\",\"<b>Topic 4</b><br>Words: music, album, song, like, songs\",\"<b>Topic 4</b><br>Words: wine, keenan, song, like, music\",\"<b>Topic 4</b><br>Words: february, music, album, songs, april\",\"<b>Topic 4</b><br>Words: music, like, songs, album, dickys\",\"<b>Topic 4</b><br>Words: song, music, like, album, kristn\"],\"marker\":{\"color\":\"#D55E00\"},\"mode\":\"lines\",\"name\":\"4_music_like_album_song\",\"x\":[\"2015-12-31T07:36:09\",\"2016-03-05T23:22:30\",\"2016-05-09T08:15:00\",\"2016-07-12T17:07:30\",\"2016-09-15T02:00:00\",\"2016-11-18T10:52:30\",\"2017-01-21T19:45:00\",\"2017-03-27T04:37:30\",\"2017-05-30T13:30:00\",\"2017-08-02T22:22:30\",\"2017-10-06T07:15:00\",\"2017-12-09T16:07:30\",\"2018-02-12T01:00:00\",\"2018-04-17T09:52:30\",\"2018-06-20T18:45:00\",\"2018-08-24T03:37:30\",\"2018-10-27T12:30:00\",\"2018-12-30T21:22:30\",\"2019-03-05T06:15:00\",\"2019-05-08T15:07:30\"],\"y\":[33,31,28,25,32,29,28,27,21,13,10,15,7,13,10,11,9,6,6,7],\"type\":\"scatter\"},{\"hoverinfo\":\"text\",\"hovertext\":[\"<b>Topic 5</b><br>Words: players, game, basketball, leonelli, team\",\"<b>Topic 5</b><br>Words: game, davis, team, basketball, lakers\",\"<b>Topic 5</b><br>Words: graduate, graduate transfers, transfers, basketball, players\",\"<b>Topic 5</b><br>Words: saunders, game, players, team, football\",\"<b>Topic 5</b><br>Words: game, team, football, teams, player\",\"<b>Topic 5</b><br>Words: game, team, players, drummond, bulls\",\"<b>Topic 5</b><br>Words: game, raptors, davis, team, wright\",\"<b>Topic 5</b><br>Words: chevron iconit indicates, chevron iconit, chevron, options, next navigation options\",\"<b>Topic 5</b><br>Words: lynx, brunson, fowles, game, league\",\"<b>Topic 5</b><br>Words: players, team, anthem, sports, game\",\"<b>Topic 5</b><br>Words: anthony, stadium, team, basketball, game\",\"<b>Topic 5</b><br>Words: bowl, super bowl, super, game, football\",\"<b>Topic 5</b><br>Words: brady, quavo, robb, hart, sports\",\"<b>Topic 5</b><br>Words: lebron, sports, card, says, game\",\"<b>Topic 5</b><br>Words: players, says, sports, team, basketball\",\"<b>Topic 5</b><br>Words: nike, kaepernick, game, basketball, colin\",\"<b>Topic 5</b><br>Words: game, season, team, browns, derrick\",\"<b>Topic 5</b><br>Words: kaepernick, game, team, players, kaepernicks\",\"<b>Topic 5</b><br>Words: manziel, johnny, football, game, says\",\"<b>Topic 5</b><br>Words: raptors, team, pelicans, davis, leonard\"],\"marker\":{\"color\":\"#0072B2\"},\"mode\":\"lines\",\"name\":\"5_game_team_players_basketball\",\"x\":[\"2015-12-31T07:36:09\",\"2016-03-05T23:22:30\",\"2016-05-09T08:15:00\",\"2016-07-12T17:07:30\",\"2016-09-15T02:00:00\",\"2016-11-18T10:52:30\",\"2017-01-21T19:45:00\",\"2017-03-27T04:37:30\",\"2017-05-30T13:30:00\",\"2017-08-02T22:22:30\",\"2017-10-06T07:15:00\",\"2017-12-09T16:07:30\",\"2018-02-12T01:00:00\",\"2018-04-17T09:52:30\",\"2018-06-20T18:45:00\",\"2018-08-24T03:37:30\",\"2018-10-27T12:30:00\",\"2018-12-30T21:22:30\",\"2019-03-05T06:15:00\",\"2019-05-08T15:07:30\"],\"y\":[23,14,20,9,19,23,21,16,12,18,6,16,7,15,14,12,11,23,13,15],\"type\":\"scatter\"},{\"hoverinfo\":\"text\",\"hovertext\":[\"<b>Topic 6</b><br>Words: climate, said, climate change, water, change\",\"<b>Topic 6</b><br>Words: climate, said, fossil, fuel, fossil fuel\",\"<b>Topic 6</b><br>Words: climate, said, climate change, change, emissions\",\"<b>Topic 6</b><br>Words: climate, species, pandas, birds, energy\",\"<b>Topic 6</b><br>Words: climate, yellowstone, animals, energy, said\",\"<b>Topic 6</b><br>Words: climate, said, people, conservation, water\",\"<b>Topic 6</b><br>Words: climate, solar, climate change, energy, water\",\"<b>Topic 6</b><br>Words: mcnab, energy, climate, forest, said\",\"<b>Topic 6</b><br>Words: climate, fountains, climate change, lead, change\",\"<b>Topic 6</b><br>Words: hurricane, irma, storm, zuckerberg, climate\",\"<b>Topic 6</b><br>Words: climate, climate change, said, change, coal\",\"<b>Topic 6</b><br>Words: climate, said, coal, cladding, state\",\"<b>Topic 6</b><br>Words: options, chevron iconit, chevron iconit indicates, chevron, expandable section\",\"<b>Topic 6</b><br>Words: lava, said, climate, grid, microgrids\",\"<b>Topic 6</b><br>Words: climate, fire, said, straws, carbon\",\"<b>Topic 6</b><br>Words: said, climate, storm, hurricane, water\",\"<b>Topic 6</b><br>Words: climate, emissions, carbon, carb, allowances\",\"<b>Topic 6</b><br>Words: climate, green deal, green, said, animals\",\"<b>Topic 6</b><br>Words: climate, change, climate change, said, people\",\"<b>Topic 6</b><br>Words: climate, said, climate change, water, change\"],\"marker\":{\"color\":\"#CC79A7\"},\"mode\":\"lines\",\"name\":\"6_climate_said_climate change_change\",\"x\":[\"2015-12-31T07:36:09\",\"2016-03-05T23:22:30\",\"2016-05-09T08:15:00\",\"2016-07-12T17:07:30\",\"2016-09-15T02:00:00\",\"2016-11-18T10:52:30\",\"2017-01-21T19:45:00\",\"2017-03-27T04:37:30\",\"2017-05-30T13:30:00\",\"2017-08-02T22:22:30\",\"2017-10-06T07:15:00\",\"2017-12-09T16:07:30\",\"2018-02-12T01:00:00\",\"2018-04-17T09:52:30\",\"2018-06-20T18:45:00\",\"2018-08-24T03:37:30\",\"2018-10-27T12:30:00\",\"2018-12-30T21:22:30\",\"2019-03-05T06:15:00\",\"2019-05-08T15:07:30\"],\"y\":[15,13,14,9,12,16,10,9,10,12,15,14,2,13,13,21,9,10,15,57],\"type\":\"scatter\"},{\"hoverinfo\":\"text\",\"hovertext\":[\"<b>Topic 7</b><br>Words: police, school, black, said, white\",\"<b>Topic 7</b><br>Words: police, officers, people, said, shooting\",\"<b>Topic 7</b><br>Words: police, people, guns, shooting, violence\",\"<b>Topic 7</b><br>Words: police, officers, black, people, policing\",\"<b>Topic 7</b><br>Words: police, officers, knox, video, shooting\",\"<b>Topic 7</b><br>Words: police, black, people, maloney, white\",\"<b>Topic 7</b><br>Words: police, brown, jewish, people, video\",\"<b>Topic 7</b><br>Words: police, shooting, people, charlottesville, black\",\"<b>Topic 7</b><br>Words: police, shooting, chicago, people, said\",\"<b>Topic 7</b><br>Words: police, confederate, white, charlottesville, people\",\"<b>Topic 7</b><br>Words: police, cameras, students, muslim, shooting\",\"<b>Topic 7</b><br>Words: police, statue, city, columbus, said\",\"<b>Topic 7</b><br>Words: police, shooting, school, people, said\",\"<b>Topic 7</b><br>Words: police, shooting, school, said, people\",\"<b>Topic 7</b><br>Words: police, white, statue, confederate, black\",\"<b>Topic 7</b><br>Words: avery, police, averys, dassey, halbachs\",\"<b>Topic 7</b><br>Words: police, shooting, crimes, hate, hate crimes\",\"<b>Topic 7</b><br>Words: guns, shooting, police, violence, control\",\"<b>Topic 7</b><br>Words: shooting, columbine, police, said, people\",\"<b>Topic 7</b><br>Words: police, students, schools, black, shooting\"],\"marker\":{\"color\":\"#E69F00\"},\"mode\":\"lines\",\"name\":\"7_police_shooting_people_said\",\"x\":[\"2015-12-31T07:36:09\",\"2016-03-05T23:22:30\",\"2016-05-09T08:15:00\",\"2016-07-12T17:07:30\",\"2016-09-15T02:00:00\",\"2016-11-18T10:52:30\",\"2017-01-21T19:45:00\",\"2017-03-27T04:37:30\",\"2017-05-30T13:30:00\",\"2017-08-02T22:22:30\",\"2017-10-06T07:15:00\",\"2017-12-09T16:07:30\",\"2018-02-12T01:00:00\",\"2018-04-17T09:52:30\",\"2018-06-20T18:45:00\",\"2018-08-24T03:37:30\",\"2018-10-27T12:30:00\",\"2018-12-30T21:22:30\",\"2019-03-05T06:15:00\",\"2019-05-08T15:07:30\"],\"y\":[9,14,24,13,17,16,10,5,8,22,9,7,34,9,15,10,12,10,13,11],\"type\":\"scatter\"},{\"hoverinfo\":\"text\",\"hovertext\":[\"<b>Topic 8</b><br>Words: fight, kotoshogiku, mcgregor, kickboxing, fighters\",\"<b>Topic 8</b><br>Words: fight, royce, thai, like, muay\",\"<b>Topic 8</b><br>Words: fight, match, tennis, like, first\",\"<b>Topic 8</b><br>Words: fight, wrestling, back, time, like\",\"<b>Topic 8</b><br>Words: jeanne, fight, boxing, fighters, world\",\"<b>Topic 8</b><br>Words: mein, fight, meek, hunt, fighter\",\"<b>Topic 8</b><br>Words: fight, poker, game, players, tarverdyan\",\"<b>Topic 8</b><br>Words: teixeira, gustafsson, manchester, fight, overhand\",\"<b>Topic 8</b><br>Words: fifa, fight, mcenroe, garbrandt, williams\",\"<b>Topic 8</b><br>Words: fight, football, sports, weber, longshot\",\"<b>Topic 8</b><br>Words: floyd, charlo, game, namajunas, joanna\",\"<b>Topic 8</b><br>Words: mile, fight, running, fastest mile, visualization\",\"<b>Topic 8</b><br>Words: fight, nurmagomedov, title, mcgregor, jackpot\",\"<b>Topic 8</b><br>Words: floyd, fight, said, spelling, charlo\",\"<b>Topic 8</b><br>Words: penalty, shootout, team, world, kicks\",\"<b>Topic 8</b><br>Words: chevron iconit indicates, chevron iconit, chevron, sometimes previous next, previous next navigation\",\"<b>Topic 8</b><br>Words: boxing, fight, mega, mega millions, fink\",\"<b>Topic 8</b><br>Words: match, kamaru, colby, match points, pliskova\",\"<b>Topic 8</b><br>Words: maximum security, powerball, horse, derby, maximum\",\"<b>Topic 8</b><br>Words: fight, world, said, first, round\"],\"marker\":{\"color\":\"#56B4E9\"},\"mode\":\"lines\",\"name\":\"8_fight_world_first_mcgregor\",\"x\":[\"2015-12-31T07:36:09\",\"2016-03-05T23:22:30\",\"2016-05-09T08:15:00\",\"2016-07-12T17:07:30\",\"2016-09-15T02:00:00\",\"2016-11-18T10:52:30\",\"2017-01-21T19:45:00\",\"2017-03-27T04:37:30\",\"2017-05-30T13:30:00\",\"2017-08-02T22:22:30\",\"2017-10-06T07:15:00\",\"2017-12-09T16:07:30\",\"2018-02-12T01:00:00\",\"2018-04-17T09:52:30\",\"2018-06-20T18:45:00\",\"2018-08-24T03:37:30\",\"2018-10-27T12:30:00\",\"2018-12-30T21:22:30\",\"2019-03-05T06:15:00\",\"2019-05-08T15:07:30\"],\"y\":[15,10,19,29,9,7,16,6,5,7,4,9,5,11,8,10,8,3,5,37],\"type\":\"scatter\"},{\"hoverinfo\":\"text\",\"hovertext\":[\"<b>Topic 9</b><br>Words: drug, pollution, health, people, herpes\",\"<b>Topic 9</b><br>Words: drug, drugs, people, said, marijuana\",\"<b>Topic 9</b><br>Words: health, drug, brain, people, glyphosate\",\"<b>Topic 9</b><br>Words: marijuana, drug, said, people, health\",\"<b>Topic 9</b><br>Words: kratom, health, drug, drugs, mental\",\"<b>Topic 9</b><br>Words: drug, drugs, health, medical, marijuana\",\"<b>Topic 9</b><br>Words: drug, drugs, market, opioid, people\",\"<b>Topic 9</b><br>Words: drug, health, lead, opioid, treatment\",\"<b>Topic 9</b><br>Words: suicide, drug, percent, tobacco, drugs\",\"<b>Topic 9</b><br>Words: alcohol, anxiety, health, float, drug\",\"<b>Topic 9</b><br>Words: health, drug, cannabis, marijuana, people\",\"<b>Topic 9</b><br>Words: marijuana, iqos, weed, drug, states\",\"<b>Topic 9</b><br>Words: lead, drug, marijuana, health, said\",\"<b>Topic 9</b><br>Words: people, research, pregnant, medical, like\",\"<b>Topic 9</b><br>Words: drug, people, opioid, sites, dementia\",\"<b>Topic 9</b><br>Words: cannabis, people, risk, drug, weed\",\"<b>Topic 9</b><br>Words: drug, health, cocaine, suicide, people\",\"<b>Topic 9</b><br>Words: treatment, health, opioid, patients, drug\",\"<b>Topic 9</b><br>Words: powder, baby powder, baby, talc, topol\",\"<b>Topic 9</b><br>Words: patients, said, health, drug, people\"],\"marker\":{\"color\":\"#009E73\"},\"mode\":\"lines\",\"name\":\"9_drug_health_people_drugs\",\"x\":[\"2015-12-31T07:36:09\",\"2016-03-05T23:22:30\",\"2016-05-09T08:15:00\",\"2016-07-12T17:07:30\",\"2016-09-15T02:00:00\",\"2016-11-18T10:52:30\",\"2017-01-21T19:45:00\",\"2017-03-27T04:37:30\",\"2017-05-30T13:30:00\",\"2017-08-02T22:22:30\",\"2017-10-06T07:15:00\",\"2017-12-09T16:07:30\",\"2018-02-12T01:00:00\",\"2018-04-17T09:52:30\",\"2018-06-20T18:45:00\",\"2018-08-24T03:37:30\",\"2018-10-27T12:30:00\",\"2018-12-30T21:22:30\",\"2019-03-05T06:15:00\",\"2019-05-08T15:07:30\"],\"y\":[16,16,13,8,12,12,10,11,10,8,11,9,9,7,11,16,12,7,7,15],\"type\":\"scatter\"},{\"hoverinfo\":\"text\",\"hovertext\":[\"<b>Topic 10</b><br>Words: saudi, iran, arabia, saudi arabia, iranian\",\"<b>Topic 10</b><br>Words: saudi, arabia, saudi arabia, said, iran\",\"<b>Topic 10</b><br>Words: bangladesh, attacks, bakery, holey, said\",\"<b>Topic 10</b><br>Words: iran, deal, nuclear, iranian, saudi\",\"<b>Topic 10</b><br>Words: saudi, podesta, veto, bill, involvement attacks\",\"<b>Topic 10</b><br>Words: iran, india, deal, randhawa, haley\",\"<b>Topic 10</b><br>Words: iran, said, iranian, saudi, sanctions\",\"<b>Topic 10</b><br>Words: saudi, iran, yemen, houthis, saudis\",\"<b>Topic 10</b><br>Words: iran, cholera, nuclear, saudi, yemen\",\"<b>Topic 10</b><br>Words: iran, saudi, missile, program, reuters report\",\"<b>Topic 10</b><br>Words: saudi, iran, said, arabia, saudi arabia\",\"<b>Topic 10</b><br>Words: saudi, iran, said, nuclear, prince\",\"<b>Topic 10</b><br>Words: pompeo, saudi, iran, said, trump\",\"<b>Topic 10</b><br>Words: iran, said, saudi, nuclear, military\",\"<b>Topic 10</b><br>Words: iran, saudi, said, iranian, sanctions\",\"<b>Topic 10</b><br>Words: saudi, said, khashoggi, iran, arabia\",\"<b>Topic 10</b><br>Words: saudi, iran, said, arabia, sanctions\",\"<b>Topic 10</b><br>Words: saudi, iran, said, arabia, saudi arabia\",\"<b>Topic 10</b><br>Words: said, saudi, iran, indian, kashmir\",\"<b>Topic 10</b><br>Words: iran, saudi, said, iranian, reuters\"],\"marker\":{\"color\":\"#F0E442\"},\"mode\":\"lines\",\"name\":\"10_saudi_iran_said_arabia\",\"x\":[\"2015-12-31T07:36:09\",\"2016-03-05T23:22:30\",\"2016-05-09T08:15:00\",\"2016-07-12T17:07:30\",\"2016-09-15T02:00:00\",\"2016-11-18T10:52:30\",\"2017-01-21T19:45:00\",\"2017-03-27T04:37:30\",\"2017-05-30T13:30:00\",\"2017-08-02T22:22:30\",\"2017-10-06T07:15:00\",\"2017-12-09T16:07:30\",\"2018-02-12T01:00:00\",\"2018-04-17T09:52:30\",\"2018-06-20T18:45:00\",\"2018-08-24T03:37:30\",\"2018-10-27T12:30:00\",\"2018-12-30T21:22:30\",\"2019-03-05T06:15:00\",\"2019-05-08T15:07:30\"],\"y\":[4,5,3,5,2,2,4,1,2,2,12,13,7,18,15,30,10,11,12,56],\"type\":\"scatter\"},{\"hoverinfo\":\"text\",\"hovertext\":[\"<b>Topic 11</b><br>Words: chyna, kardashian, blac, blac chyna, jenner\",\"<b>Topic 11</b><br>Words: shes, chyna, strahan, vicki, kardashian\",\"<b>Topic 11</b><br>Words: jenner, kardashian, back, kylie, kylies\",\"<b>Topic 11</b><br>Words: model, jenner, yacht, alessandra, ariane\",\"<b>Topic 11</b><br>Words: tyga, shes, kylie, kardashian, lindsay\",\"<b>Topic 11</b><br>Words: kardashian, pauly, khloe, aubrey, shes\",\"<b>Topic 11</b><br>Words: tarek, tarek christina, christina, tommy, amber\",\"<b>Topic 11</b><br>Words: kardashian, shes, scott, kourtney, blac\",\"<b>Topic 11</b><br>Words: kardashian, beyonc, carter rumi, carter, rumi\",\"<b>Topic 11</b><br>Words: chyna, blac, blac chyna, meeks, cardi\",\"<b>Topic 11</b><br>Words: birthday, kris, shes, asahd, jordin\",\"<b>Topic 11</b><br>Words: kylie, kardashian, baby, kanye, good\",\"<b>Topic 11</b><br>Words: kourtney, scott, cardi, chandler, parsons\",\"<b>Topic 11</b><br>Words: khloe, tristan, kardashian, kris, khloe kardashian\",\"<b>Topic 11</b><br>Words: kourtney, kardashian, sisters, cardi, yacht\",\"<b>Topic 11</b><br>Words: cardi, offset, birthday, kardashian, shes\",\"<b>Topic 11</b><br>Words: jonas, kathie, kaley, chopra, joakim\",\"<b>Topic 11</b><br>Words: pete, alexis, kanye, bruce, kate\",\"<b>Topic 11</b><br>Words: jonas, turner, sophie, sophie turner, shes\",\"<b>Topic 11</b><br>Words: jordyn, kylie, kardashian, tristan, birthday\"],\"marker\":{\"color\":\"#D55E00\"},\"mode\":\"lines\",\"name\":\"11_kardashian_shes_kylie_jenner\",\"x\":[\"2015-12-31T07:36:09\",\"2016-03-05T23:22:30\",\"2016-05-09T08:15:00\",\"2016-07-12T17:07:30\",\"2016-09-15T02:00:00\",\"2016-11-18T10:52:30\",\"2017-01-21T19:45:00\",\"2017-03-27T04:37:30\",\"2017-05-30T13:30:00\",\"2017-08-02T22:22:30\",\"2017-10-06T07:15:00\",\"2017-12-09T16:07:30\",\"2018-02-12T01:00:00\",\"2018-04-17T09:52:30\",\"2018-06-20T18:45:00\",\"2018-08-24T03:37:30\",\"2018-10-27T12:30:00\",\"2018-12-30T21:22:30\",\"2019-03-05T06:15:00\",\"2019-05-08T15:07:30\"],\"y\":[17,13,12,12,10,13,9,13,13,10,8,8,8,11,9,11,9,4,9,8],\"type\":\"scatter\"},{\"hoverinfo\":\"text\",\"hovertext\":[\"<b>Topic 12</b><br>Words: cops, briggs, case, angel, porsche\",\"<b>Topic 12</b><br>Words: woman, judge, cops, probation, officer\",\"<b>Topic 12</b><br>Words: cops, stevens, arrest, court, judge\",\"<b>Topic 12</b><br>Words: cops, edmondson, green, says, police\",\"<b>Topic 12</b><br>Words: cops, brown, violence, police, abuse\",\"<b>Topic 12</b><br>Words: cops, joseline, floyd, police, says\",\"<b>Topic 12</b><br>Words: woodward, bennell, cops, arrested, incident\",\"<b>Topic 12</b><br>Words: says, stephen, claims, broner, cops\",\"<b>Topic 12</b><br>Words: says, cops, arrested, told, woods\",\"<b>Topic 12</b><br>Words: cops, arrested, says, child, aaron\",\"<b>Topic 12</b><br>Words: coleman, allen, says, chyna, daveigh\",\"<b>Topic 12</b><br>Words: cops, keyshia, court, arrested, keaton\",\"<b>Topic 12</b><br>Words: fabolous, cops, arrest, arrested, police\",\"<b>Topic 12</b><br>Words: kelly, cops, kellys, jacquees, says\",\"<b>Topic 12</b><br>Words: cops, allegedly, arrested, police, told\",\"<b>Topic 12</b><br>Words: cops, lochte, arrested, told, orlando\",\"<b>Topic 12</b><br>Words: josh, cops, kourtney, arrested, irons\",\"<b>Topic 12</b><br>Words: cops, chris, arrest, arrested, kelly\",\"<b>Topic 12</b><br>Words: eason, cops, kraft, maybin, giants\",\"<b>Topic 12</b><br>Words: cops, arrested, police, custody, told\"],\"marker\":{\"color\":\"#0072B2\"},\"mode\":\"lines\",\"name\":\"12_cops_says_arrested_told\",\"x\":[\"2015-12-31T07:36:09\",\"2016-03-05T23:22:30\",\"2016-05-09T08:15:00\",\"2016-07-12T17:07:30\",\"2016-09-15T02:00:00\",\"2016-11-18T10:52:30\",\"2017-01-21T19:45:00\",\"2017-03-27T04:37:30\",\"2017-05-30T13:30:00\",\"2017-08-02T22:22:30\",\"2017-10-06T07:15:00\",\"2017-12-09T16:07:30\",\"2018-02-12T01:00:00\",\"2018-04-17T09:52:30\",\"2018-06-20T18:45:00\",\"2018-08-24T03:37:30\",\"2018-10-27T12:30:00\",\"2018-12-30T21:22:30\",\"2019-03-05T06:15:00\",\"2019-05-08T15:07:30\"],\"y\":[3,12,14,11,7,8,11,8,14,12,5,8,10,10,14,8,6,8,7,15],\"type\":\"scatter\"},{\"hoverinfo\":\"text\",\"hovertext\":[\"<b>Topic 13</b><br>Words: farage, blair, wheel, farage told mail, told mail\",\"<b>Topic 13</b><br>Words: brexit, britain, british, european, leave\",\"<b>Topic 13</b><br>Words: leaveeu, skinner, brexit, britain, british olympics association\",\"<b>Topic 13</b><br>Words: woolfe, brexit, party, students, said\",\"<b>Topic 13</b><br>Words: ukip, party, farage, brexit, nuttall\",\"<b>Topic 13</b><br>Words: state visit, visit, britons, britain, state\",\"<b>Topic 13</b><br>Words: brexit, party, parliament, deal, british\",\"<b>Topic 13</b><br>Words: brexit, bill, britain, labour, parliament\",\"<b>Topic 13</b><br>Words: brexit, britain, ireland, deal, northern ireland\",\"<b>Topic 13</b><br>Words: brexit, britain, deal, said, european\",\"<b>Topic 13</b><br>Words: ireland, brexit, abortion, london, said\",\"<b>Topic 13</b><br>Words: brexit, british, deal, said, britain\",\"<b>Topic 13</b><br>Words: brexit, britain, mays, deal, chequers\",\"<b>Topic 13</b><br>Words: brexit, deal, parliament, mays, britain\",\"<b>Topic 13</b><br>Words: brexit, deal, parliament, would, vote\",\"<b>Topic 13</b><br>Words: brexit, parliament, deal, britain, would\",\"<b>Topic 13</b><br>Words: brexit, deal, minister, johnson, said\"],\"marker\":{\"color\":\"#CC79A7\"},\"mode\":\"lines\",\"name\":\"13_brexit_deal_parliament_britain\",\"x\":[\"2015-12-31T07:36:09\",\"2016-05-09T08:15:00\",\"2016-07-12T17:07:30\",\"2016-09-15T02:00:00\",\"2016-11-18T10:52:30\",\"2017-01-21T19:45:00\",\"2017-05-30T13:30:00\",\"2017-08-02T22:22:30\",\"2017-10-06T07:15:00\",\"2018-02-12T01:00:00\",\"2018-04-17T09:52:30\",\"2018-06-20T18:45:00\",\"2018-08-24T03:37:30\",\"2018-10-27T12:30:00\",\"2018-12-30T21:22:30\",\"2019-03-05T06:15:00\",\"2019-05-08T15:07:30\"],\"y\":[2,9,1,2,1,1,2,6,7,5,4,4,8,33,18,21,55],\"type\":\"scatter\"},{\"hoverinfo\":\"text\",\"hovertext\":[\"<b>Topic 14</b><br>Words: season, episodes, episode, shows, show\",\"<b>Topic 14</b><br>Words: christian, film, batman, like, book\",\"<b>Topic 14</b><br>Words: movie, like, season, show, episode\",\"<b>Topic 14</b><br>Words: film, season, movie, show, characters\",\"<b>Topic 14</b><br>Words: film, rectify, like, season, movie\",\"<b>Topic 14</b><br>Words: episode, season, lorelai, season episode, rory\",\"<b>Topic 14</b><br>Words: movie, film, movies, like, show\",\"<b>Topic 14</b><br>Words: season, episode, buffy, season episode, show\",\"<b>Topic 14</b><br>Words: movie, like, season, film, episode\",\"<b>Topic 14</b><br>Words: movie, film, season, show, like\",\"<b>Topic 14</b><br>Words: expandable section, section menu sometimes, menu sometimes, expandable section menu, next navigation\",\"<b>Topic 14</b><br>Words: episode, season, film, movie, like\",\"<b>Topic 14</b><br>Words: movie, sometimes, navigation options, iconit indicates expandable, next navigation\",\"<b>Topic 14</b><br>Words: film, rotten, critics, rotten tomatoes, tomatoes\",\"<b>Topic 14</b><br>Words: shark, sharks, season, film, show\",\"<b>Topic 14</b><br>Words: season, show, like, episode, shows\",\"<b>Topic 14</b><br>Words: sometimes, navigation options, previous next navigation, menu sometimes previous, indicates expandable section\",\"<b>Topic 14</b><br>Words: film, sundance, season, films, like\",\"<b>Topic 14</b><br>Words: film, barry, monica, marvel, captain marvel\",\"<b>Topic 14</b><br>Words: show, film, season, aladdin, episode\"],\"marker\":{\"color\":\"#E69F00\"},\"mode\":\"lines\",\"name\":\"14_season_episode_film_movie\",\"x\":[\"2015-12-31T07:36:09\",\"2016-03-05T23:22:30\",\"2016-05-09T08:15:00\",\"2016-07-12T17:07:30\",\"2016-09-15T02:00:00\",\"2016-11-18T10:52:30\",\"2017-01-21T19:45:00\",\"2017-03-27T04:37:30\",\"2017-05-30T13:30:00\",\"2017-08-02T22:22:30\",\"2017-10-06T07:15:00\",\"2017-12-09T16:07:30\",\"2018-02-12T01:00:00\",\"2018-04-17T09:52:30\",\"2018-06-20T18:45:00\",\"2018-08-24T03:37:30\",\"2018-10-27T12:30:00\",\"2018-12-30T21:22:30\",\"2019-03-05T06:15:00\",\"2019-05-08T15:07:30\"],\"y\":[5,8,12,5,6,11,8,12,15,11,5,10,7,8,7,9,5,11,7,6],\"type\":\"scatter\"},{\"hoverinfo\":\"text\",\"hovertext\":[\"<b>Topic 15</b><br>Words: pudding, chicken, black pudding, menu, food\",\"<b>Topic 15</b><br>Words: food, drinks, fruit, soda, juices\",\"<b>Topic 15</b><br>Words: food, eating, like, meat, sugar\",\"<b>Topic 15</b><br>Words: food, cheese, puglisi, pork, make\",\"<b>Topic 15</b><br>Words: food, sauce, buffalo, like, buffalo sauce\",\"<b>Topic 15</b><br>Words: thanksgiving, white, family, kitchen, punch\",\"<b>Topic 15</b><br>Words: fieri, food, like, restaurant, meals\",\"<b>Topic 15</b><br>Words: passover, judaism, jewish, food, menu\",\"<b>Topic 15</b><br>Words: food, chicken, restaurant, butter, butter chicken\",\"<b>Topic 15</b><br>Words: waffle, food, waffle maker, waffles, maker\",\"<b>Topic 15</b><br>Words: tacos, food, basket, grams, like\",\"<b>Topic 15</b><br>Words: grandmother, restaurant, food, grandmothers, sandler\",\"<b>Topic 15</b><br>Words: spicy, heat, fruit, cake, food\",\"<b>Topic 15</b><br>Words: meyer, food, like, dennys, fruit\",\"<b>Topic 15</b><br>Words: dough, grams, pizza, food, restaurant\",\"<b>Topic 15</b><br>Words: food, money, agatha, people, foods\",\"<b>Topic 15</b><br>Words: applebees, warm, food, spices, cinnamon\",\"<b>Topic 15</b><br>Words: breakfast, food, chickpea, eating, chicken\",\"<b>Topic 15</b><br>Words: fiber, food, rice, like, diet\",\"<b>Topic 15</b><br>Words: meat, beyond meat, food, menu, section\"],\"marker\":{\"color\":\"#56B4E9\"},\"mode\":\"lines\",\"name\":\"15_food_like_people_meat\",\"x\":[\"2015-12-31T07:36:09\",\"2016-03-05T23:22:30\",\"2016-05-09T08:15:00\",\"2016-07-12T17:07:30\",\"2016-09-15T02:00:00\",\"2016-11-18T10:52:30\",\"2017-01-21T19:45:00\",\"2017-03-27T04:37:30\",\"2017-05-30T13:30:00\",\"2017-08-02T22:22:30\",\"2017-10-06T07:15:00\",\"2017-12-09T16:07:30\",\"2018-02-12T01:00:00\",\"2018-04-17T09:52:30\",\"2018-06-20T18:45:00\",\"2018-08-24T03:37:30\",\"2018-10-27T12:30:00\",\"2018-12-30T21:22:30\",\"2019-03-05T06:15:00\",\"2019-05-08T15:07:30\"],\"y\":[7,6,9,11,14,8,15,7,9,10,9,5,5,9,5,2,6,7,11,8],\"type\":\"scatter\"},{\"hoverinfo\":\"text\",\"hovertext\":[\"<b>Topic 16</b><br>Words: uber, cars, vehicles, drivers, going\",\"<b>Topic 16</b><br>Words: uber, autonomous, vehicles, company, hotz\",\"<b>Topic 16</b><br>Words: uber, company, lyft, drivers, luxe\",\"<b>Topic 16</b><br>Words: uber, didi, cycle world, lyft, cars\",\"<b>Topic 16</b><br>Words: cars, lyft, hyperloop, uber, company\",\"<b>Topic 16</b><br>Words: didi, tesla, musk, uber, company\",\"<b>Topic 16</b><br>Words: uber, company, ubers, drivers, cars\",\"<b>Topic 16</b><br>Words: uber, tesla, spacex, company, musk\",\"<b>Topic 16</b><br>Words: uber, waymo, company, levandowski, tesla\",\"<b>Topic 16</b><br>Words: uber, company, tesla, ubers, kalanick\",\"<b>Topic 16</b><br>Words: uber, company, tesla, said, cars\",\"<b>Topic 16</b><br>Words: tesla, said, uber, charging, cars\",\"<b>Topic 16</b><br>Words: tesla, musk, uber, scooter, company\",\"<b>Topic 16</b><br>Words: uber, vehicle, vehicles, selfdriving, ntsb\",\"<b>Topic 16</b><br>Words: uber, company, musk, tesla, selfdriving\",\"<b>Topic 16</b><br>Words: tesla, musk, uber, said, company\",\"<b>Topic 16</b><br>Words: navigation, menu sometimes, next navigation options, navigation options, section menu sometimes\",\"<b>Topic 16</b><br>Words: uber, rural, ridehailing, vehicles, lyft\",\"<b>Topic 16</b><br>Words: uber, drivers, company, said, ridehailing\",\"<b>Topic 16</b><br>Words: vehicles, cars, said, uber, tesla\"],\"marker\":{\"color\":\"#009E73\"},\"mode\":\"lines\",\"name\":\"16_uber_tesla_company_cars\",\"x\":[\"2015-12-31T07:36:09\",\"2016-03-05T23:22:30\",\"2016-05-09T08:15:00\",\"2016-07-12T17:07:30\",\"2016-09-15T02:00:00\",\"2016-11-18T10:52:30\",\"2017-01-21T19:45:00\",\"2017-03-27T04:37:30\",\"2017-05-30T13:30:00\",\"2017-08-02T22:22:30\",\"2017-10-06T07:15:00\",\"2017-12-09T16:07:30\",\"2018-02-12T01:00:00\",\"2018-04-17T09:52:30\",\"2018-06-20T18:45:00\",\"2018-08-24T03:37:30\",\"2018-10-27T12:30:00\",\"2018-12-30T21:22:30\",\"2019-03-05T06:15:00\",\"2019-05-08T15:07:30\"],\"y\":[5,7,6,5,3,4,7,6,6,13,11,4,8,5,6,11,4,3,10,13],\"type\":\"scatter\"},{\"hoverinfo\":\"text\",\"hovertext\":[\"<b>Topic 17</b><br>Words: north, korea, north korea, korean, nuclear\",\"<b>Topic 17</b><br>Words: north, korea, nuclear, party congress, north korea\",\"<b>Topic 17</b><br>Words: north, korea, north korea, sanctions, korean\",\"<b>Topic 17</b><br>Words: president park, korea, choi, korean, south\",\"<b>Topic 17</b><br>Words: jong, north, korea, korean, north korea\",\"<b>Topic 17</b><br>Words: north, korea, north korea, nuclear, tests\",\"<b>Topic 17</b><br>Words: korea, north, north korea, warmbier, warmbiers\",\"<b>Topic 17</b><br>Words: north, korea, north korea, korean, said\",\"<b>Topic 17</b><br>Words: north, korea, north korea, korean, south\",\"<b>Topic 17</b><br>Words: north, korea, north korea, south, korean\",\"<b>Topic 17</b><br>Words: north, korea, north korea, korean, south\",\"<b>Topic 17</b><br>Words: north, korea, north korea, korean, nuclear\",\"<b>Topic 17</b><br>Words: north, korea, north korea, korean, north korean\",\"<b>Topic 17</b><br>Words: north, korea, north korea, korean, south\",\"<b>Topic 17</b><br>Words: korea, north, south, moon, koreas\",\"<b>Topic 17</b><br>Words: north, korea, north korea, korean, nuclear\",\"<b>Topic 17</b><br>Words: north, korea, korean, south, waivers\",\"<b>Topic 17</b><br>Words: north, korea, north korea, south, korean\"],\"marker\":{\"color\":\"#F0E442\"},\"mode\":\"lines\",\"name\":\"17_north_korea_north korea_korean\",\"x\":[\"2015-12-31T07:36:09\",\"2016-03-05T23:22:30\",\"2016-07-12T17:07:30\",\"2016-09-15T02:00:00\",\"2017-01-21T19:45:00\",\"2017-03-27T04:37:30\",\"2017-05-30T13:30:00\",\"2017-08-02T22:22:30\",\"2017-10-06T07:15:00\",\"2017-12-09T16:07:30\",\"2018-02-12T01:00:00\",\"2018-04-17T09:52:30\",\"2018-06-20T18:45:00\",\"2018-08-24T03:37:30\",\"2018-10-27T12:30:00\",\"2018-12-30T21:22:30\",\"2019-03-05T06:15:00\",\"2019-05-08T15:07:30\"],\"y\":[5,1,1,1,1,4,2,7,13,10,8,34,10,7,1,7,2,9],\"type\":\"scatter\"},{\"hoverinfo\":\"text\",\"hovertext\":[\"<b>Topic 18</b><br>Words: syrian, syria, islamic, turkey, islamic state\",\"<b>Topic 18</b><br>Words: kurdish, syrian, islamic, islamic state, syria\",\"<b>Topic 18</b><br>Words: hezbollah, islamic, syria, islamic state, badreddine\",\"<b>Topic 18</b><br>Words: syrian, erdogan, state, aleppo, coup\",\"<b>Topic 18</b><br>Words: syrian, aleppo, syria, rebels, assad\",\"<b>Topic 18</b><br>Words: aleppo, forces, assad, city, fighters\",\"<b>Topic 18</b><br>Words: mosul, turkish, cartoon, iraqi, publisher\",\"<b>Topic 18</b><br>Words: turkish, erdoan, glen, syrian, turkish government\",\"<b>Topic 18</b><br>Words: isis, syria, syrian, forces, raqqa\",\"<b>Topic 18</b><br>Words: syrian, islamic state, bartella, islamic, camp\",\"<b>Topic 18</b><br>Words: islamic, islamic state, kurdish, state, said\",\"<b>Topic 18</b><br>Words: syria, kurdish, syrian, turkish, turkey\",\"<b>Topic 18</b><br>Words: syrian, eastern ghouta, ghouta, eastern, turkey\",\"<b>Topic 18</b><br>Words: syria, syrian, rebels, metal, islamic state\",\"<b>Topic 18</b><br>Words: turkey, said, syrian, syria, state\",\"<b>Topic 18</b><br>Words: syrian, turkish, turkey, lira, syria\",\"<b>Topic 18</b><br>Words: kurdish, syria, turkey, syrian, forces\",\"<b>Topic 18</b><br>Words: syria, bolton, turkey, islamic, fighters\",\"<b>Topic 18</b><br>Words: syria, islamic state, islamic, turkey, baghdadi\",\"<b>Topic 18</b><br>Words: turkey, turkish, said, erdogan, syria\"],\"marker\":{\"color\":\"#D55E00\"},\"mode\":\"lines\",\"name\":\"18_syrian_syria_turkey_said\",\"x\":[\"2015-12-31T07:36:09\",\"2016-03-05T23:22:30\",\"2016-05-09T08:15:00\",\"2016-07-12T17:07:30\",\"2016-09-15T02:00:00\",\"2016-11-18T10:52:30\",\"2017-01-21T19:45:00\",\"2017-03-27T04:37:30\",\"2017-05-30T13:30:00\",\"2017-08-02T22:22:30\",\"2017-10-06T07:15:00\",\"2017-12-09T16:07:30\",\"2018-02-12T01:00:00\",\"2018-04-17T09:52:30\",\"2018-06-20T18:45:00\",\"2018-08-24T03:37:30\",\"2018-10-27T12:30:00\",\"2018-12-30T21:22:30\",\"2019-03-05T06:15:00\",\"2019-05-08T15:07:30\"],\"y\":[11,8,5,4,3,2,3,4,4,4,13,4,6,4,11,3,2,2,5,15],\"type\":\"scatter\"},{\"hoverinfo\":\"text\",\"hovertext\":[\"<b>Topic 19</b><br>Words: migrants, said, ayvalik, europe, crisis\",\"<b>Topic 19</b><br>Words: migrants, greece, refugees, said, idomeni\",\"<b>Topic 19</b><br>Words: migrants, said, refugees, cyprus, italy\",\"<b>Topic 19</b><br>Words: amatrice, rome, town, accumoli, miles\",\"<b>Topic 19</b><br>Words: johnson, foreign leader, liberal, cant come, gary johnson\",\"<b>Topic 19</b><br>Words: italy, jedlicka, liberland, previous, migrants\",\"<b>Topic 19</b><br>Words: merkel, party, european, said, italy\",\"<b>Topic 19</b><br>Words: polish, farright, said, poland, polands\",\"<b>Topic 19</b><br>Words: migrants, rescue, amnesty, european, search rescue\",\"<b>Topic 19</b><br>Words: europe, macron, european, euro zone, said\",\"<b>Topic 19</b><br>Words: austria, submarine, kurz, copenhagen, european\",\"<b>Topic 19</b><br>Words: coalition, euro, european, percent, fiscal\",\"<b>Topic 19</b><br>Words: greece, trans, asma, refugees, rabia\",\"<b>Topic 19</b><br>Words: said, italy, government, european, italys\",\"<b>Topic 19</b><br>Words: louis, italy, said, king, french\",\"<b>Topic 19</b><br>Words: bavaria, said, european, juncker, italy\",\"<b>Topic 19</b><br>Words: genish, said, network, board, elliott\",\"<b>Topic 19</b><br>Words: pence, european, merkel, russia, said\",\"<b>Topic 19</b><br>Words: grenell, european, german, germanys, ambassador\",\"<b>Topic 19</b><br>Words: european, italy, said, party, parliament\"],\"marker\":{\"color\":\"#0072B2\"},\"mode\":\"lines\",\"name\":\"19_european_said_italy_migrants\",\"x\":[\"2015-12-31T07:36:09\",\"2016-03-05T23:22:30\",\"2016-05-09T08:15:00\",\"2016-07-12T17:07:30\",\"2016-09-15T02:00:00\",\"2016-11-18T10:52:30\",\"2017-01-21T19:45:00\",\"2017-03-27T04:37:30\",\"2017-05-30T13:30:00\",\"2017-08-02T22:22:30\",\"2017-10-06T07:15:00\",\"2017-12-09T16:07:30\",\"2018-02-12T01:00:00\",\"2018-04-17T09:52:30\",\"2018-06-20T18:45:00\",\"2018-08-24T03:37:30\",\"2018-10-27T12:30:00\",\"2018-12-30T21:22:30\",\"2019-03-05T06:15:00\",\"2019-05-08T15:07:30\"],\"y\":[2,3,4,1,1,3,8,2,1,5,2,3,3,13,4,4,2,1,5,37],\"type\":\"scatter\"}],                        {\"template\":{\"data\":{\"barpolar\":[{\"marker\":{\"line\":{\"color\":\"white\",\"width\":0.5},\"pattern\":{\"fillmode\":\"overlay\",\"size\":10,\"solidity\":0.2}},\"type\":\"barpolar\"}],\"bar\":[{\"error_x\":{\"color\":\"rgb(36,36,36)\"},\"error_y\":{\"color\":\"rgb(36,36,36)\"},\"marker\":{\"line\":{\"color\":\"white\",\"width\":0.5},\"pattern\":{\"fillmode\":\"overlay\",\"size\":10,\"solidity\":0.2}},\"type\":\"bar\"}],\"carpet\":[{\"aaxis\":{\"endlinecolor\":\"rgb(36,36,36)\",\"gridcolor\":\"white\",\"linecolor\":\"white\",\"minorgridcolor\":\"white\",\"startlinecolor\":\"rgb(36,36,36)\"},\"baxis\":{\"endlinecolor\":\"rgb(36,36,36)\",\"gridcolor\":\"white\",\"linecolor\":\"white\",\"minorgridcolor\":\"white\",\"startlinecolor\":\"rgb(36,36,36)\"},\"type\":\"carpet\"}],\"choropleth\":[{\"colorbar\":{\"outlinewidth\":1,\"tickcolor\":\"rgb(36,36,36)\",\"ticks\":\"outside\"},\"type\":\"choropleth\"}],\"contourcarpet\":[{\"colorbar\":{\"outlinewidth\":1,\"tickcolor\":\"rgb(36,36,36)\",\"ticks\":\"outside\"},\"type\":\"contourcarpet\"}],\"contour\":[{\"colorbar\":{\"outlinewidth\":1,\"tickcolor\":\"rgb(36,36,36)\",\"ticks\":\"outside\"},\"colorscale\":[[0.0,\"#440154\"],[0.1111111111111111,\"#482878\"],[0.2222222222222222,\"#3e4989\"],[0.3333333333333333,\"#31688e\"],[0.4444444444444444,\"#26828e\"],[0.5555555555555556,\"#1f9e89\"],[0.6666666666666666,\"#35b779\"],[0.7777777777777778,\"#6ece58\"],[0.8888888888888888,\"#b5de2b\"],[1.0,\"#fde725\"]],\"type\":\"contour\"}],\"heatmapgl\":[{\"colorbar\":{\"outlinewidth\":1,\"tickcolor\":\"rgb(36,36,36)\",\"ticks\":\"outside\"},\"colorscale\":[[0.0,\"#440154\"],[0.1111111111111111,\"#482878\"],[0.2222222222222222,\"#3e4989\"],[0.3333333333333333,\"#31688e\"],[0.4444444444444444,\"#26828e\"],[0.5555555555555556,\"#1f9e89\"],[0.6666666666666666,\"#35b779\"],[0.7777777777777778,\"#6ece58\"],[0.8888888888888888,\"#b5de2b\"],[1.0,\"#fde725\"]],\"type\":\"heatmapgl\"}],\"heatmap\":[{\"colorbar\":{\"outlinewidth\":1,\"tickcolor\":\"rgb(36,36,36)\",\"ticks\":\"outside\"},\"colorscale\":[[0.0,\"#440154\"],[0.1111111111111111,\"#482878\"],[0.2222222222222222,\"#3e4989\"],[0.3333333333333333,\"#31688e\"],[0.4444444444444444,\"#26828e\"],[0.5555555555555556,\"#1f9e89\"],[0.6666666666666666,\"#35b779\"],[0.7777777777777778,\"#6ece58\"],[0.8888888888888888,\"#b5de2b\"],[1.0,\"#fde725\"]],\"type\":\"heatmap\"}],\"histogram2dcontour\":[{\"colorbar\":{\"outlinewidth\":1,\"tickcolor\":\"rgb(36,36,36)\",\"ticks\":\"outside\"},\"colorscale\":[[0.0,\"#440154\"],[0.1111111111111111,\"#482878\"],[0.2222222222222222,\"#3e4989\"],[0.3333333333333333,\"#31688e\"],[0.4444444444444444,\"#26828e\"],[0.5555555555555556,\"#1f9e89\"],[0.6666666666666666,\"#35b779\"],[0.7777777777777778,\"#6ece58\"],[0.8888888888888888,\"#b5de2b\"],[1.0,\"#fde725\"]],\"type\":\"histogram2dcontour\"}],\"histogram2d\":[{\"colorbar\":{\"outlinewidth\":1,\"tickcolor\":\"rgb(36,36,36)\",\"ticks\":\"outside\"},\"colorscale\":[[0.0,\"#440154\"],[0.1111111111111111,\"#482878\"],[0.2222222222222222,\"#3e4989\"],[0.3333333333333333,\"#31688e\"],[0.4444444444444444,\"#26828e\"],[0.5555555555555556,\"#1f9e89\"],[0.6666666666666666,\"#35b779\"],[0.7777777777777778,\"#6ece58\"],[0.8888888888888888,\"#b5de2b\"],[1.0,\"#fde725\"]],\"type\":\"histogram2d\"}],\"histogram\":[{\"marker\":{\"line\":{\"color\":\"white\",\"width\":0.6}},\"type\":\"histogram\"}],\"mesh3d\":[{\"colorbar\":{\"outlinewidth\":1,\"tickcolor\":\"rgb(36,36,36)\",\"ticks\":\"outside\"},\"type\":\"mesh3d\"}],\"parcoords\":[{\"line\":{\"colorbar\":{\"outlinewidth\":1,\"tickcolor\":\"rgb(36,36,36)\",\"ticks\":\"outside\"}},\"type\":\"parcoords\"}],\"pie\":[{\"automargin\":true,\"type\":\"pie\"}],\"scatter3d\":[{\"line\":{\"colorbar\":{\"outlinewidth\":1,\"tickcolor\":\"rgb(36,36,36)\",\"ticks\":\"outside\"}},\"marker\":{\"colorbar\":{\"outlinewidth\":1,\"tickcolor\":\"rgb(36,36,36)\",\"ticks\":\"outside\"}},\"type\":\"scatter3d\"}],\"scattercarpet\":[{\"marker\":{\"colorbar\":{\"outlinewidth\":1,\"tickcolor\":\"rgb(36,36,36)\",\"ticks\":\"outside\"}},\"type\":\"scattercarpet\"}],\"scattergeo\":[{\"marker\":{\"colorbar\":{\"outlinewidth\":1,\"tickcolor\":\"rgb(36,36,36)\",\"ticks\":\"outside\"}},\"type\":\"scattergeo\"}],\"scattergl\":[{\"marker\":{\"colorbar\":{\"outlinewidth\":1,\"tickcolor\":\"rgb(36,36,36)\",\"ticks\":\"outside\"}},\"type\":\"scattergl\"}],\"scattermapbox\":[{\"marker\":{\"colorbar\":{\"outlinewidth\":1,\"tickcolor\":\"rgb(36,36,36)\",\"ticks\":\"outside\"}},\"type\":\"scattermapbox\"}],\"scatterpolargl\":[{\"marker\":{\"colorbar\":{\"outlinewidth\":1,\"tickcolor\":\"rgb(36,36,36)\",\"ticks\":\"outside\"}},\"type\":\"scatterpolargl\"}],\"scatterpolar\":[{\"marker\":{\"colorbar\":{\"outlinewidth\":1,\"tickcolor\":\"rgb(36,36,36)\",\"ticks\":\"outside\"}},\"type\":\"scatterpolar\"}],\"scatter\":[{\"marker\":{\"colorbar\":{\"outlinewidth\":1,\"tickcolor\":\"rgb(36,36,36)\",\"ticks\":\"outside\"}},\"type\":\"scatter\"}],\"scatterternary\":[{\"marker\":{\"colorbar\":{\"outlinewidth\":1,\"tickcolor\":\"rgb(36,36,36)\",\"ticks\":\"outside\"}},\"type\":\"scatterternary\"}],\"surface\":[{\"colorbar\":{\"outlinewidth\":1,\"tickcolor\":\"rgb(36,36,36)\",\"ticks\":\"outside\"},\"colorscale\":[[0.0,\"#440154\"],[0.1111111111111111,\"#482878\"],[0.2222222222222222,\"#3e4989\"],[0.3333333333333333,\"#31688e\"],[0.4444444444444444,\"#26828e\"],[0.5555555555555556,\"#1f9e89\"],[0.6666666666666666,\"#35b779\"],[0.7777777777777778,\"#6ece58\"],[0.8888888888888888,\"#b5de2b\"],[1.0,\"#fde725\"]],\"type\":\"surface\"}],\"table\":[{\"cells\":{\"fill\":{\"color\":\"rgb(237,237,237)\"},\"line\":{\"color\":\"white\"}},\"header\":{\"fill\":{\"color\":\"rgb(217,217,217)\"},\"line\":{\"color\":\"white\"}},\"type\":\"table\"}]},\"layout\":{\"annotationdefaults\":{\"arrowhead\":0,\"arrowwidth\":1},\"autotypenumbers\":\"strict\",\"coloraxis\":{\"colorbar\":{\"outlinewidth\":1,\"tickcolor\":\"rgb(36,36,36)\",\"ticks\":\"outside\"}},\"colorscale\":{\"diverging\":[[0.0,\"rgb(103,0,31)\"],[0.1,\"rgb(178,24,43)\"],[0.2,\"rgb(214,96,77)\"],[0.3,\"rgb(244,165,130)\"],[0.4,\"rgb(253,219,199)\"],[0.5,\"rgb(247,247,247)\"],[0.6,\"rgb(209,229,240)\"],[0.7,\"rgb(146,197,222)\"],[0.8,\"rgb(67,147,195)\"],[0.9,\"rgb(33,102,172)\"],[1.0,\"rgb(5,48,97)\"]],\"sequential\":[[0.0,\"#440154\"],[0.1111111111111111,\"#482878\"],[0.2222222222222222,\"#3e4989\"],[0.3333333333333333,\"#31688e\"],[0.4444444444444444,\"#26828e\"],[0.5555555555555556,\"#1f9e89\"],[0.6666666666666666,\"#35b779\"],[0.7777777777777778,\"#6ece58\"],[0.8888888888888888,\"#b5de2b\"],[1.0,\"#fde725\"]],\"sequentialminus\":[[0.0,\"#440154\"],[0.1111111111111111,\"#482878\"],[0.2222222222222222,\"#3e4989\"],[0.3333333333333333,\"#31688e\"],[0.4444444444444444,\"#26828e\"],[0.5555555555555556,\"#1f9e89\"],[0.6666666666666666,\"#35b779\"],[0.7777777777777778,\"#6ece58\"],[0.8888888888888888,\"#b5de2b\"],[1.0,\"#fde725\"]]},\"colorway\":[\"#1F77B4\",\"#FF7F0E\",\"#2CA02C\",\"#D62728\",\"#9467BD\",\"#8C564B\",\"#E377C2\",\"#7F7F7F\",\"#BCBD22\",\"#17BECF\"],\"font\":{\"color\":\"rgb(36,36,36)\"},\"geo\":{\"bgcolor\":\"white\",\"lakecolor\":\"white\",\"landcolor\":\"white\",\"showlakes\":true,\"showland\":true,\"subunitcolor\":\"white\"},\"hoverlabel\":{\"align\":\"left\"},\"hovermode\":\"closest\",\"mapbox\":{\"style\":\"light\"},\"paper_bgcolor\":\"white\",\"plot_bgcolor\":\"white\",\"polar\":{\"angularaxis\":{\"gridcolor\":\"rgb(232,232,232)\",\"linecolor\":\"rgb(36,36,36)\",\"showgrid\":false,\"showline\":true,\"ticks\":\"outside\"},\"bgcolor\":\"white\",\"radialaxis\":{\"gridcolor\":\"rgb(232,232,232)\",\"linecolor\":\"rgb(36,36,36)\",\"showgrid\":false,\"showline\":true,\"ticks\":\"outside\"}},\"scene\":{\"xaxis\":{\"backgroundcolor\":\"white\",\"gridcolor\":\"rgb(232,232,232)\",\"gridwidth\":2,\"linecolor\":\"rgb(36,36,36)\",\"showbackground\":true,\"showgrid\":false,\"showline\":true,\"ticks\":\"outside\",\"zeroline\":false,\"zerolinecolor\":\"rgb(36,36,36)\"},\"yaxis\":{\"backgroundcolor\":\"white\",\"gridcolor\":\"rgb(232,232,232)\",\"gridwidth\":2,\"linecolor\":\"rgb(36,36,36)\",\"showbackground\":true,\"showgrid\":false,\"showline\":true,\"ticks\":\"outside\",\"zeroline\":false,\"zerolinecolor\":\"rgb(36,36,36)\"},\"zaxis\":{\"backgroundcolor\":\"white\",\"gridcolor\":\"rgb(232,232,232)\",\"gridwidth\":2,\"linecolor\":\"rgb(36,36,36)\",\"showbackground\":true,\"showgrid\":false,\"showline\":true,\"ticks\":\"outside\",\"zeroline\":false,\"zerolinecolor\":\"rgb(36,36,36)\"}},\"shapedefaults\":{\"fillcolor\":\"black\",\"line\":{\"width\":0},\"opacity\":0.3},\"ternary\":{\"aaxis\":{\"gridcolor\":\"rgb(232,232,232)\",\"linecolor\":\"rgb(36,36,36)\",\"showgrid\":false,\"showline\":true,\"ticks\":\"outside\"},\"baxis\":{\"gridcolor\":\"rgb(232,232,232)\",\"linecolor\":\"rgb(36,36,36)\",\"showgrid\":false,\"showline\":true,\"ticks\":\"outside\"},\"bgcolor\":\"white\",\"caxis\":{\"gridcolor\":\"rgb(232,232,232)\",\"linecolor\":\"rgb(36,36,36)\",\"showgrid\":false,\"showline\":true,\"ticks\":\"outside\"}},\"title\":{\"x\":0.05},\"xaxis\":{\"automargin\":true,\"gridcolor\":\"rgb(232,232,232)\",\"linecolor\":\"rgb(36,36,36)\",\"showgrid\":false,\"showline\":true,\"ticks\":\"outside\",\"title\":{\"standoff\":15},\"zeroline\":false,\"zerolinecolor\":\"rgb(36,36,36)\"},\"yaxis\":{\"automargin\":true,\"gridcolor\":\"rgb(232,232,232)\",\"linecolor\":\"rgb(36,36,36)\",\"showgrid\":false,\"showline\":true,\"ticks\":\"outside\",\"title\":{\"standoff\":15},\"zeroline\":false,\"zerolinecolor\":\"rgb(36,36,36)\"}}},\"xaxis\":{\"showgrid\":true},\"yaxis\":{\"showgrid\":true,\"title\":{\"text\":\"Frequency\"}},\"title\":{\"font\":{\"size\":22,\"color\":\"Black\"},\"text\":\"<b>Topics over Time\",\"y\":0.95,\"x\":0.4,\"xanchor\":\"center\",\"yanchor\":\"top\"},\"hoverlabel\":{\"font\":{\"size\":16,\"family\":\"Rockwell\"},\"bgcolor\":\"white\"},\"width\":1250,\"height\":450,\"legend\":{\"title\":{\"text\":\"<b>Global Topic Representation\"}}},                        {\"responsive\": true}                    ).then(function(){\n",
              "                            \n",
              "var gd = document.getElementById('e661e3d5-3fd7-4785-ae66-0a59960ffadb');\n",
              "var x = new MutationObserver(function (mutations, observer) {{\n",
              "        var display = window.getComputedStyle(gd).display;\n",
              "        if (!display || display === 'none') {{\n",
              "            console.log([gd, 'removed!']);\n",
              "            Plotly.purge(gd);\n",
              "            observer.disconnect();\n",
              "        }}\n",
              "}});\n",
              "\n",
              "// Listen for the removal of the full notebook cells\n",
              "var notebookContainer = gd.closest('#notebook-container');\n",
              "if (notebookContainer) {{\n",
              "    x.observe(notebookContainer, {childList: true});\n",
              "}}\n",
              "\n",
              "// Listen for the clearing of the current output cell\n",
              "var outputEl = gd.closest('.output');\n",
              "if (outputEl) {{\n",
              "    x.observe(outputEl, {childList: true});\n",
              "}}\n",
              "\n",
              "                        })                };                            </script>        </div>\n",
              "</body>\n",
              "</html>"
            ]
          },
          "metadata": {}
        }
      ]
    },
    {
      "cell_type": "code",
      "source": [
        "freq = topic_model.get_topic_info()\n",
        "freq.head(50)\n"
      ],
      "metadata": {
        "id": "djiVOCIzi40I"
      },
      "execution_count": null,
      "outputs": []
    },
    {
      "cell_type": "code",
      "source": [
        "topic_nr = freq.iloc[6][\"Topic\"] # select a frequent topic\n",
        "topic_model.get_topic(topic_nr)"
      ],
      "metadata": {
        "colab": {
          "base_uri": "https://localhost:8080/"
        },
        "id": "SSswyzmHEehs",
        "outputId": "f75775d3-9a2a-43d2-ab8f-861ad3c7a03c"
      },
      "execution_count": null,
      "outputs": [
        {
          "output_type": "execute_result",
          "data": {
            "text/plain": [
              "[('music', 0.01823908615760341),\n",
              " ('like', 0.011946230760705818),\n",
              " ('album', 0.010001197934586162),\n",
              " ('song', 0.0072729429225299805),\n",
              " ('songs', 0.006697536327567017),\n",
              " ('time', 0.005942614994897694),\n",
              " ('really', 0.0057735698027137445),\n",
              " ('band', 0.005737974466653666),\n",
              " ('record', 0.005612424858079502),\n",
              " ('first', 0.005535939022660925)]"
            ]
          },
          "metadata": {},
          "execution_count": 34
        }
      ]
    },
    {
      "cell_type": "code",
      "source": [
        ""
      ],
      "metadata": {
        "id": "ho2a6x_mEjzQ"
      },
      "execution_count": null,
      "outputs": []
    }
  ]
}